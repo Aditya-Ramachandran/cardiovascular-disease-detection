{
 "cells": [
  {
   "cell_type": "markdown",
   "metadata": {},
   "source": [
    "In this project, we will analyze [Cardiovascular Disease dataset](https://www.kaggle.com/sulianova/cardiovascular-disease-dataset) to find which variables are related to the disease. Then we will use different machine learning models to predict whether the patient has  cardiovascular disease or not. <br>The dataset contains information about patients doing cardiovascular disease examination.<br><br>\n",
    "**Data features:**\n",
    "   - Age | Objective Feature | age | int (days)<br>\n",
    "   - Height | Objective Feature | height | int (cm) |<br>\n",
    "   - Weight | Objective Feature | weight | float (kg) |<br>\n",
    "   - Gender | Objective Feature | gender | categorical code |<br>\n",
    "   - Systolic blood pressure | Examination Feature | ap_hi | int |<br>\n",
    "   - Diastolic blood pressure | Examination Feature | ap_lo | int |<br>\n",
    "   - Cholesterol | Examination Feature | cholesterol | 1: normal, 2: above normal, 3: well above normal |<br>\n",
    "   - Glucose | Examination Feature | gluc | 1: normal, 2: above normal, 3: well above normal |<br>\n",
    "   - Smoking | Subjective Feature | smoke | binary |<br>\n",
    "   - Alcohol intake | Subjective Feature | alco | binary |<br>\n",
    "   - Physical activity | Subjective Feature | active | binary |<br>\n",
    "   - Presence or absence of cardiovascular disease | Target Variable | cardio | binary |<br>\n"
   ]
  },
  {
   "cell_type": "markdown",
   "metadata": {},
   "source": [
    "# 1. Data preprocessing and cleaning"
   ]
  },
  {
   "cell_type": "markdown",
   "metadata": {},
   "source": [
    "In this stage, we're working to acheive a clean dataset by removing duplicates and extract important variables that we need such as patients age, gender, height, etc.<br>\n",
    "Down here we're importing the libraries that we'll use such as pandas, which is a famous data analysis python library and other utility libraries."
   ]
  },
  {
   "cell_type": "code",
   "execution_count": 1,
   "metadata": {
    "execution": {
     "iopub.execute_input": "2023-04-11T04:13:03.822156Z",
     "iopub.status.busy": "2023-04-11T04:13:03.821809Z",
     "iopub.status.idle": "2023-04-11T04:13:04.745252Z",
     "shell.execute_reply": "2023-04-11T04:13:04.744286Z",
     "shell.execute_reply.started": "2023-04-11T04:13:03.822068Z"
    }
   },
   "outputs": [],
   "source": [
    "import pandas as pd\n",
    "import numpy as np\n",
    "import matplotlib.pyplot as plt\n",
    "import seaborn as sb"
   ]
  },
  {
   "cell_type": "markdown",
   "metadata": {},
   "source": [
    "Here, we're reading the data file which is saved as csv (Comma Seperated Values) and we're also telling pandas that our values are seperated by a semicolon and that the first row is the data heading.<br>\n",
    "The head method in the second line lists the first 5 rows of the file excluding the data heading."
   ]
  },
  {
   "cell_type": "code",
   "execution_count": 2,
   "metadata": {
    "execution": {
     "iopub.execute_input": "2023-04-11T04:13:04.746891Z",
     "iopub.status.busy": "2023-04-11T04:13:04.746672Z",
     "iopub.status.idle": "2023-04-11T04:13:04.924113Z",
     "shell.execute_reply": "2023-04-11T04:13:04.923194Z",
     "shell.execute_reply.started": "2023-04-11T04:13:04.746866Z"
    },
    "scrolled": true
   },
   "outputs": [
    {
     "data": {
      "text/html": [
       "<div>\n",
       "<style scoped>\n",
       "    .dataframe tbody tr th:only-of-type {\n",
       "        vertical-align: middle;\n",
       "    }\n",
       "\n",
       "    .dataframe tbody tr th {\n",
       "        vertical-align: top;\n",
       "    }\n",
       "\n",
       "    .dataframe thead th {\n",
       "        text-align: right;\n",
       "    }\n",
       "</style>\n",
       "<table border=\"1\" class=\"dataframe\">\n",
       "  <thead>\n",
       "    <tr style=\"text-align: right;\">\n",
       "      <th></th>\n",
       "      <th>id</th>\n",
       "      <th>age</th>\n",
       "      <th>gender</th>\n",
       "      <th>height</th>\n",
       "      <th>weight</th>\n",
       "      <th>ap_hi</th>\n",
       "      <th>ap_lo</th>\n",
       "      <th>cholesterol</th>\n",
       "      <th>gluc</th>\n",
       "      <th>smoke</th>\n",
       "      <th>alco</th>\n",
       "      <th>active</th>\n",
       "      <th>cardio</th>\n",
       "    </tr>\n",
       "  </thead>\n",
       "  <tbody>\n",
       "    <tr>\n",
       "      <th>0</th>\n",
       "      <td>0</td>\n",
       "      <td>18393</td>\n",
       "      <td>2</td>\n",
       "      <td>168</td>\n",
       "      <td>62.0</td>\n",
       "      <td>110</td>\n",
       "      <td>80</td>\n",
       "      <td>1</td>\n",
       "      <td>1</td>\n",
       "      <td>0</td>\n",
       "      <td>0</td>\n",
       "      <td>1</td>\n",
       "      <td>0</td>\n",
       "    </tr>\n",
       "    <tr>\n",
       "      <th>1</th>\n",
       "      <td>1</td>\n",
       "      <td>20228</td>\n",
       "      <td>1</td>\n",
       "      <td>156</td>\n",
       "      <td>85.0</td>\n",
       "      <td>140</td>\n",
       "      <td>90</td>\n",
       "      <td>3</td>\n",
       "      <td>1</td>\n",
       "      <td>0</td>\n",
       "      <td>0</td>\n",
       "      <td>1</td>\n",
       "      <td>1</td>\n",
       "    </tr>\n",
       "    <tr>\n",
       "      <th>2</th>\n",
       "      <td>2</td>\n",
       "      <td>18857</td>\n",
       "      <td>1</td>\n",
       "      <td>165</td>\n",
       "      <td>64.0</td>\n",
       "      <td>130</td>\n",
       "      <td>70</td>\n",
       "      <td>3</td>\n",
       "      <td>1</td>\n",
       "      <td>0</td>\n",
       "      <td>0</td>\n",
       "      <td>0</td>\n",
       "      <td>1</td>\n",
       "    </tr>\n",
       "    <tr>\n",
       "      <th>3</th>\n",
       "      <td>3</td>\n",
       "      <td>17623</td>\n",
       "      <td>2</td>\n",
       "      <td>169</td>\n",
       "      <td>82.0</td>\n",
       "      <td>150</td>\n",
       "      <td>100</td>\n",
       "      <td>1</td>\n",
       "      <td>1</td>\n",
       "      <td>0</td>\n",
       "      <td>0</td>\n",
       "      <td>1</td>\n",
       "      <td>1</td>\n",
       "    </tr>\n",
       "    <tr>\n",
       "      <th>4</th>\n",
       "      <td>4</td>\n",
       "      <td>17474</td>\n",
       "      <td>1</td>\n",
       "      <td>156</td>\n",
       "      <td>56.0</td>\n",
       "      <td>100</td>\n",
       "      <td>60</td>\n",
       "      <td>1</td>\n",
       "      <td>1</td>\n",
       "      <td>0</td>\n",
       "      <td>0</td>\n",
       "      <td>0</td>\n",
       "      <td>0</td>\n",
       "    </tr>\n",
       "  </tbody>\n",
       "</table>\n",
       "</div>"
      ],
      "text/plain": [
       "   id    age  gender  height  weight  ap_hi  ap_lo  cholesterol  gluc  smoke  \\\n",
       "0   0  18393       2     168    62.0    110     80            1     1      0   \n",
       "1   1  20228       1     156    85.0    140     90            3     1      0   \n",
       "2   2  18857       1     165    64.0    130     70            3     1      0   \n",
       "3   3  17623       2     169    82.0    150    100            1     1      0   \n",
       "4   4  17474       1     156    56.0    100     60            1     1      0   \n",
       "\n",
       "   alco  active  cardio  \n",
       "0     0       1       0  \n",
       "1     0       1       1  \n",
       "2     0       0       1  \n",
       "3     0       1       1  \n",
       "4     0       0       0  "
      ]
     },
     "execution_count": 2,
     "metadata": {},
     "output_type": "execute_result"
    }
   ],
   "source": [
    "df = pd.read_csv('/kaggle/input/cardiovascular-disease-dataset/cardio_train.csv', sep=\";\")\n",
    "df.head()"
   ]
  },
  {
   "cell_type": "markdown",
   "metadata": {},
   "source": [
    "We need to know the number of rows and columns we're dealing with in data so we're achieving this by using the shape method."
   ]
  },
  {
   "cell_type": "code",
   "execution_count": 3,
   "metadata": {
    "execution": {
     "iopub.execute_input": "2023-04-11T04:13:04.925579Z",
     "iopub.status.busy": "2023-04-11T04:13:04.925309Z",
     "iopub.status.idle": "2023-04-11T04:13:04.930662Z",
     "shell.execute_reply": "2023-04-11T04:13:04.929799Z",
     "shell.execute_reply.started": "2023-04-11T04:13:04.925547Z"
    }
   },
   "outputs": [
    {
     "name": "stdout",
     "output_type": "stream",
     "text": [
      "Number of columns: 13\n"
     ]
    }
   ],
   "source": [
    "print(f\"Number of columns: { df.shape[1] }\")"
   ]
  },
  {
   "cell_type": "code",
   "execution_count": 4,
   "metadata": {
    "execution": {
     "iopub.execute_input": "2023-04-11T04:13:04.932905Z",
     "iopub.status.busy": "2023-04-11T04:13:04.932542Z",
     "iopub.status.idle": "2023-04-11T04:13:04.940974Z",
     "shell.execute_reply": "2023-04-11T04:13:04.940029Z",
     "shell.execute_reply.started": "2023-04-11T04:13:04.932876Z"
    }
   },
   "outputs": [
    {
     "name": "stdout",
     "output_type": "stream",
     "text": [
      "Number of rows: 70000\n"
     ]
    }
   ],
   "source": [
    "print(f\"Number of rows: { df.shape[0] }\")"
   ]
  },
  {
   "cell_type": "markdown",
   "metadata": {},
   "source": [
    "Checking if there's NULL value in any of the cells."
   ]
  },
  {
   "cell_type": "code",
   "execution_count": 5,
   "metadata": {
    "execution": {
     "iopub.execute_input": "2023-04-11T04:13:04.942434Z",
     "iopub.status.busy": "2023-04-11T04:13:04.942076Z",
     "iopub.status.idle": "2023-04-11T04:13:04.973572Z",
     "shell.execute_reply": "2023-04-11T04:13:04.972572Z",
     "shell.execute_reply.started": "2023-04-11T04:13:04.942404Z"
    },
    "scrolled": true
   },
   "outputs": [
    {
     "name": "stdout",
     "output_type": "stream",
     "text": [
      "<class 'pandas.core.frame.DataFrame'>\n",
      "RangeIndex: 70000 entries, 0 to 69999\n",
      "Data columns (total 13 columns):\n",
      " #   Column       Non-Null Count  Dtype  \n",
      "---  ------       --------------  -----  \n",
      " 0   id           70000 non-null  int64  \n",
      " 1   age          70000 non-null  int64  \n",
      " 2   gender       70000 non-null  int64  \n",
      " 3   height       70000 non-null  int64  \n",
      " 4   weight       70000 non-null  float64\n",
      " 5   ap_hi        70000 non-null  int64  \n",
      " 6   ap_lo        70000 non-null  int64  \n",
      " 7   cholesterol  70000 non-null  int64  \n",
      " 8   gluc         70000 non-null  int64  \n",
      " 9   smoke        70000 non-null  int64  \n",
      " 10  alco         70000 non-null  int64  \n",
      " 11  active       70000 non-null  int64  \n",
      " 12  cardio       70000 non-null  int64  \n",
      "dtypes: float64(1), int64(12)\n",
      "memory usage: 6.9 MB\n"
     ]
    }
   ],
   "source": [
    "df.info()"
   ]
  },
  {
   "cell_type": "markdown",
   "metadata": {},
   "source": [
    "There are no missing values"
   ]
  },
  {
   "cell_type": "markdown",
   "metadata": {},
   "source": [
    "In our dataset, the patients age is written in days, so we're converting it to years and rounding it to the nearest 2 decimals. Also we're replacing the gender column with another two-columns, one for male and the other is for female. If the patients' gender is male then a value of 1 will be inside the male column and zero inside the female column and vice-versa."
   ]
  },
  {
   "cell_type": "code",
   "execution_count": 6,
   "metadata": {
    "execution": {
     "iopub.execute_input": "2023-04-11T04:13:04.974911Z",
     "iopub.status.busy": "2023-04-11T04:13:04.974670Z",
     "iopub.status.idle": "2023-04-11T04:13:04.983832Z",
     "shell.execute_reply": "2023-04-11T04:13:04.983054Z",
     "shell.execute_reply.started": "2023-04-11T04:13:04.974884Z"
    }
   },
   "outputs": [],
   "source": [
    "df['age'] = round(df['age']/365.25,2)"
   ]
  },
  {
   "cell_type": "code",
   "execution_count": 7,
   "metadata": {
    "execution": {
     "iopub.execute_input": "2023-04-11T04:13:04.985784Z",
     "iopub.status.busy": "2023-04-11T04:13:04.984902Z",
     "iopub.status.idle": "2023-04-11T04:13:05.006034Z",
     "shell.execute_reply": "2023-04-11T04:13:05.005268Z",
     "shell.execute_reply.started": "2023-04-11T04:13:04.985750Z"
    }
   },
   "outputs": [],
   "source": [
    "df.insert(3, \"female\", (df['gender']==1).astype(int))\n",
    "df.insert(4, 'male', (df['gender']==2).astype(int))\n",
    "df.drop(['gender', 'id'], axis=1, inplace=True)"
   ]
  },
  {
   "cell_type": "markdown",
   "metadata": {},
   "source": [
    "Checking if there ary any duplicates in our rows and printing the duplicated rows count."
   ]
  },
  {
   "cell_type": "code",
   "execution_count": 8,
   "metadata": {
    "execution": {
     "iopub.execute_input": "2023-04-11T04:13:05.007586Z",
     "iopub.status.busy": "2023-04-11T04:13:05.007333Z",
     "iopub.status.idle": "2023-04-11T04:13:05.036268Z",
     "shell.execute_reply": "2023-04-11T04:13:05.035239Z",
     "shell.execute_reply.started": "2023-04-11T04:13:05.007556Z"
    }
   },
   "outputs": [
    {
     "data": {
      "text/plain": [
       "75"
      ]
     },
     "execution_count": 8,
     "metadata": {},
     "output_type": "execute_result"
    }
   ],
   "source": [
    "df.duplicated().sum()"
   ]
  },
  {
   "cell_type": "markdown",
   "metadata": {},
   "source": [
    "Dropping all duplicated rows."
   ]
  },
  {
   "cell_type": "code",
   "execution_count": 9,
   "metadata": {
    "execution": {
     "iopub.execute_input": "2023-04-11T04:13:05.038351Z",
     "iopub.status.busy": "2023-04-11T04:13:05.037821Z",
     "iopub.status.idle": "2023-04-11T04:13:05.063501Z",
     "shell.execute_reply": "2023-04-11T04:13:05.062800Z",
     "shell.execute_reply.started": "2023-04-11T04:13:05.038306Z"
    }
   },
   "outputs": [],
   "source": [
    "df.drop_duplicates(inplace=True)"
   ]
  },
  {
   "cell_type": "markdown",
   "metadata": {},
   "source": [
    "Down here, we're calculating the patient BMI (Body Mass Index) using the formula which is: $\\frac{Weight}{Height^{2}}$<br>\n",
    "In our dataset, the height of patients were in centimeters so we divided it by 100 to convert it into meters."
   ]
  },
  {
   "cell_type": "code",
   "execution_count": 10,
   "metadata": {
    "execution": {
     "iopub.execute_input": "2023-04-11T04:13:05.067247Z",
     "iopub.status.busy": "2023-04-11T04:13:05.066927Z",
     "iopub.status.idle": "2023-04-11T04:13:05.075083Z",
     "shell.execute_reply": "2023-04-11T04:13:05.074505Z",
     "shell.execute_reply.started": "2023-04-11T04:13:05.067213Z"
    }
   },
   "outputs": [],
   "source": [
    "df.insert(5, 'bmi', round((df['weight']/(df['height']/100)**2), 2))"
   ]
  },
  {
   "cell_type": "markdown",
   "metadata": {},
   "source": [
    "The describe method used down here gives us a ready-to-go primary statistics calculations such as the mean average, standard deviation (STD) and the five quartiles."
   ]
  },
  {
   "cell_type": "code",
   "execution_count": 11,
   "metadata": {
    "execution": {
     "iopub.execute_input": "2023-04-11T04:13:05.076888Z",
     "iopub.status.busy": "2023-04-11T04:13:05.076127Z",
     "iopub.status.idle": "2023-04-11T04:13:05.167063Z",
     "shell.execute_reply": "2023-04-11T04:13:05.166430Z",
     "shell.execute_reply.started": "2023-04-11T04:13:05.076841Z"
    }
   },
   "outputs": [
    {
     "data": {
      "text/html": [
       "<div>\n",
       "<style scoped>\n",
       "    .dataframe tbody tr th:only-of-type {\n",
       "        vertical-align: middle;\n",
       "    }\n",
       "\n",
       "    .dataframe tbody tr th {\n",
       "        vertical-align: top;\n",
       "    }\n",
       "\n",
       "    .dataframe thead th {\n",
       "        text-align: right;\n",
       "    }\n",
       "</style>\n",
       "<table border=\"1\" class=\"dataframe\">\n",
       "  <thead>\n",
       "    <tr style=\"text-align: right;\">\n",
       "      <th></th>\n",
       "      <th>age</th>\n",
       "      <th>female</th>\n",
       "      <th>male</th>\n",
       "      <th>height</th>\n",
       "      <th>weight</th>\n",
       "      <th>bmi</th>\n",
       "      <th>ap_hi</th>\n",
       "      <th>ap_lo</th>\n",
       "      <th>cholesterol</th>\n",
       "      <th>gluc</th>\n",
       "      <th>smoke</th>\n",
       "      <th>alco</th>\n",
       "      <th>active</th>\n",
       "      <th>cardio</th>\n",
       "    </tr>\n",
       "  </thead>\n",
       "  <tbody>\n",
       "    <tr>\n",
       "      <th>count</th>\n",
       "      <td>69925.000000</td>\n",
       "      <td>69925.000000</td>\n",
       "      <td>69925.000000</td>\n",
       "      <td>69925.000000</td>\n",
       "      <td>69925.000000</td>\n",
       "      <td>69925.000000</td>\n",
       "      <td>69925.000000</td>\n",
       "      <td>69925.000000</td>\n",
       "      <td>69925.000000</td>\n",
       "      <td>69925.000000</td>\n",
       "      <td>69925.000000</td>\n",
       "      <td>69925.000000</td>\n",
       "      <td>69925.000000</td>\n",
       "      <td>69925.000000</td>\n",
       "    </tr>\n",
       "    <tr>\n",
       "      <th>mean</th>\n",
       "      <td>53.302892</td>\n",
       "      <td>0.650268</td>\n",
       "      <td>0.349732</td>\n",
       "      <td>164.358699</td>\n",
       "      <td>74.215407</td>\n",
       "      <td>27.560388</td>\n",
       "      <td>128.826314</td>\n",
       "      <td>96.648538</td>\n",
       "      <td>1.367222</td>\n",
       "      <td>1.226671</td>\n",
       "      <td>0.088223</td>\n",
       "      <td>0.053829</td>\n",
       "      <td>0.803661</td>\n",
       "      <td>0.499979</td>\n",
       "    </tr>\n",
       "    <tr>\n",
       "      <th>std</th>\n",
       "      <td>6.755908</td>\n",
       "      <td>0.476889</td>\n",
       "      <td>0.476889</td>\n",
       "      <td>8.213453</td>\n",
       "      <td>14.399663</td>\n",
       "      <td>6.093355</td>\n",
       "      <td>154.093668</td>\n",
       "      <td>188.572745</td>\n",
       "      <td>0.680480</td>\n",
       "      <td>0.572490</td>\n",
       "      <td>0.283621</td>\n",
       "      <td>0.225682</td>\n",
       "      <td>0.397231</td>\n",
       "      <td>0.500004</td>\n",
       "    </tr>\n",
       "    <tr>\n",
       "      <th>min</th>\n",
       "      <td>29.560000</td>\n",
       "      <td>0.000000</td>\n",
       "      <td>0.000000</td>\n",
       "      <td>55.000000</td>\n",
       "      <td>10.000000</td>\n",
       "      <td>3.470000</td>\n",
       "      <td>-150.000000</td>\n",
       "      <td>-70.000000</td>\n",
       "      <td>1.000000</td>\n",
       "      <td>1.000000</td>\n",
       "      <td>0.000000</td>\n",
       "      <td>0.000000</td>\n",
       "      <td>0.000000</td>\n",
       "      <td>0.000000</td>\n",
       "    </tr>\n",
       "    <tr>\n",
       "      <th>25%</th>\n",
       "      <td>48.360000</td>\n",
       "      <td>0.000000</td>\n",
       "      <td>0.000000</td>\n",
       "      <td>159.000000</td>\n",
       "      <td>65.000000</td>\n",
       "      <td>23.880000</td>\n",
       "      <td>120.000000</td>\n",
       "      <td>80.000000</td>\n",
       "      <td>1.000000</td>\n",
       "      <td>1.000000</td>\n",
       "      <td>0.000000</td>\n",
       "      <td>0.000000</td>\n",
       "      <td>1.000000</td>\n",
       "      <td>0.000000</td>\n",
       "    </tr>\n",
       "    <tr>\n",
       "      <th>50%</th>\n",
       "      <td>53.940000</td>\n",
       "      <td>1.000000</td>\n",
       "      <td>0.000000</td>\n",
       "      <td>165.000000</td>\n",
       "      <td>72.000000</td>\n",
       "      <td>26.400000</td>\n",
       "      <td>120.000000</td>\n",
       "      <td>80.000000</td>\n",
       "      <td>1.000000</td>\n",
       "      <td>1.000000</td>\n",
       "      <td>0.000000</td>\n",
       "      <td>0.000000</td>\n",
       "      <td>1.000000</td>\n",
       "      <td>0.000000</td>\n",
       "    </tr>\n",
       "    <tr>\n",
       "      <th>75%</th>\n",
       "      <td>58.390000</td>\n",
       "      <td>1.000000</td>\n",
       "      <td>1.000000</td>\n",
       "      <td>170.000000</td>\n",
       "      <td>82.000000</td>\n",
       "      <td>30.230000</td>\n",
       "      <td>140.000000</td>\n",
       "      <td>90.000000</td>\n",
       "      <td>2.000000</td>\n",
       "      <td>1.000000</td>\n",
       "      <td>0.000000</td>\n",
       "      <td>0.000000</td>\n",
       "      <td>1.000000</td>\n",
       "      <td>1.000000</td>\n",
       "    </tr>\n",
       "    <tr>\n",
       "      <th>max</th>\n",
       "      <td>64.920000</td>\n",
       "      <td>1.000000</td>\n",
       "      <td>1.000000</td>\n",
       "      <td>250.000000</td>\n",
       "      <td>200.000000</td>\n",
       "      <td>298.670000</td>\n",
       "      <td>16020.000000</td>\n",
       "      <td>11000.000000</td>\n",
       "      <td>3.000000</td>\n",
       "      <td>3.000000</td>\n",
       "      <td>1.000000</td>\n",
       "      <td>1.000000</td>\n",
       "      <td>1.000000</td>\n",
       "      <td>1.000000</td>\n",
       "    </tr>\n",
       "  </tbody>\n",
       "</table>\n",
       "</div>"
      ],
      "text/plain": [
       "                age        female          male        height        weight  \\\n",
       "count  69925.000000  69925.000000  69925.000000  69925.000000  69925.000000   \n",
       "mean      53.302892      0.650268      0.349732    164.358699     74.215407   \n",
       "std        6.755908      0.476889      0.476889      8.213453     14.399663   \n",
       "min       29.560000      0.000000      0.000000     55.000000     10.000000   \n",
       "25%       48.360000      0.000000      0.000000    159.000000     65.000000   \n",
       "50%       53.940000      1.000000      0.000000    165.000000     72.000000   \n",
       "75%       58.390000      1.000000      1.000000    170.000000     82.000000   \n",
       "max       64.920000      1.000000      1.000000    250.000000    200.000000   \n",
       "\n",
       "                bmi         ap_hi         ap_lo   cholesterol          gluc  \\\n",
       "count  69925.000000  69925.000000  69925.000000  69925.000000  69925.000000   \n",
       "mean      27.560388    128.826314     96.648538      1.367222      1.226671   \n",
       "std        6.093355    154.093668    188.572745      0.680480      0.572490   \n",
       "min        3.470000   -150.000000    -70.000000      1.000000      1.000000   \n",
       "25%       23.880000    120.000000     80.000000      1.000000      1.000000   \n",
       "50%       26.400000    120.000000     80.000000      1.000000      1.000000   \n",
       "75%       30.230000    140.000000     90.000000      2.000000      1.000000   \n",
       "max      298.670000  16020.000000  11000.000000      3.000000      3.000000   \n",
       "\n",
       "              smoke          alco        active        cardio  \n",
       "count  69925.000000  69925.000000  69925.000000  69925.000000  \n",
       "mean       0.088223      0.053829      0.803661      0.499979  \n",
       "std        0.283621      0.225682      0.397231      0.500004  \n",
       "min        0.000000      0.000000      0.000000      0.000000  \n",
       "25%        0.000000      0.000000      1.000000      0.000000  \n",
       "50%        0.000000      0.000000      1.000000      0.000000  \n",
       "75%        0.000000      0.000000      1.000000      1.000000  \n",
       "max        1.000000      1.000000      1.000000      1.000000  "
      ]
     },
     "execution_count": 11,
     "metadata": {},
     "output_type": "execute_result"
    }
   ],
   "source": [
    "df.describe()"
   ]
  },
  {
   "cell_type": "markdown",
   "metadata": {},
   "source": [
    "Concluding this data, we've found the following:\n",
    "- The **mean age** for patients is 53.\n",
    "- The **percentage of males** is 35.\n",
    "- The **percentage of females** is 65.\n",
    "- The **percentage of smokers** is 8.\n",
    "- The **percentage of alcoholists** is 5.\n",
    "- The **percentage of patients who do sports** is 80."
   ]
  },
  {
   "cell_type": "markdown",
   "metadata": {},
   "source": [
    "It seems there are mony outliers in body mass index, may be it's a mistake. So, lets drop outliers."
   ]
  },
  {
   "cell_type": "code",
   "execution_count": 12,
   "metadata": {
    "execution": {
     "iopub.execute_input": "2023-04-11T04:13:05.168518Z",
     "iopub.status.busy": "2023-04-11T04:13:05.168164Z",
     "iopub.status.idle": "2023-04-11T04:13:05.189328Z",
     "shell.execute_reply": "2023-04-11T04:13:05.188308Z",
     "shell.execute_reply.started": "2023-04-11T04:13:05.168490Z"
    }
   },
   "outputs": [],
   "source": [
    "df.drop(df.query('bmi >60 or bmi <15').index, axis=0, inplace=True)"
   ]
  },
  {
   "cell_type": "code",
   "execution_count": 13,
   "metadata": {
    "execution": {
     "iopub.execute_input": "2023-04-11T04:13:05.190707Z",
     "iopub.status.busy": "2023-04-11T04:13:05.190434Z",
     "iopub.status.idle": "2023-04-11T04:13:06.321048Z",
     "shell.execute_reply": "2023-04-11T04:13:06.320127Z",
     "shell.execute_reply.started": "2023-04-11T04:13:05.190677Z"
    }
   },
   "outputs": [
    {
     "data": {
      "text/plain": [
       "normal      38937\n",
       "high 1      15378\n",
       "high 2      15021\n",
       "elevated      419\n",
       "high 3         77\n",
       "Name: bp_cat, dtype: int64"
      ]
     },
     "execution_count": 13,
     "metadata": {},
     "output_type": "execute_result"
    }
   ],
   "source": [
    "def BPCategorize(x,y):\n",
    "    if x<=120 and y<=80:\n",
    "        return 'normal'\n",
    "    elif x<=129 and y<=80:\n",
    "        return 'elevated'\n",
    "    elif x<=139 or y<=89:\n",
    "        return 'high 1'\n",
    "    elif x<=180 or y<=120:\n",
    "        return \"high 2\"\n",
    "    elif x>180 or y>120:\n",
    "        return 'high 3'\n",
    "    else:\n",
    "        return None\n",
    "    \n",
    "df.insert(8, \"bp_cat\", df.apply(lambda row: BPCategorize(row['ap_hi'], row['ap_lo']), axis=1))\n",
    "df['bp_cat'].value_counts()"
   ]
  },
  {
   "cell_type": "markdown",
   "metadata": {},
   "source": [
    "We can also drop outliers from blood pressure variables"
   ]
  },
  {
   "cell_type": "code",
   "execution_count": 14,
   "metadata": {
    "execution": {
     "iopub.execute_input": "2023-04-11T04:13:06.322828Z",
     "iopub.status.busy": "2023-04-11T04:13:06.322598Z",
     "iopub.status.idle": "2023-04-11T04:13:06.341623Z",
     "shell.execute_reply": "2023-04-11T04:13:06.340575Z",
     "shell.execute_reply.started": "2023-04-11T04:13:06.322801Z"
    }
   },
   "outputs": [],
   "source": [
    "df.drop(df.query('ap_hi >220 or ap_lo >180 or ap_hi<40 or ap_lo<40').index, axis=0, inplace=True)"
   ]
  },
  {
   "cell_type": "markdown",
   "metadata": {},
   "source": [
    "**Finally, we've finished cleaning and sorting our dataset according to our needs.**"
   ]
  },
  {
   "cell_type": "code",
   "execution_count": 15,
   "metadata": {
    "execution": {
     "iopub.execute_input": "2023-04-11T04:13:06.343137Z",
     "iopub.status.busy": "2023-04-11T04:13:06.342798Z",
     "iopub.status.idle": "2023-04-11T04:13:06.358504Z",
     "shell.execute_reply": "2023-04-11T04:13:06.357581Z",
     "shell.execute_reply.started": "2023-04-11T04:13:06.343109Z"
    }
   },
   "outputs": [
    {
     "data": {
      "text/html": [
       "<div>\n",
       "<style scoped>\n",
       "    .dataframe tbody tr th:only-of-type {\n",
       "        vertical-align: middle;\n",
       "    }\n",
       "\n",
       "    .dataframe tbody tr th {\n",
       "        vertical-align: top;\n",
       "    }\n",
       "\n",
       "    .dataframe thead th {\n",
       "        text-align: right;\n",
       "    }\n",
       "</style>\n",
       "<table border=\"1\" class=\"dataframe\">\n",
       "  <thead>\n",
       "    <tr style=\"text-align: right;\">\n",
       "      <th></th>\n",
       "      <th>age</th>\n",
       "      <th>female</th>\n",
       "      <th>male</th>\n",
       "      <th>height</th>\n",
       "      <th>weight</th>\n",
       "      <th>bmi</th>\n",
       "      <th>ap_hi</th>\n",
       "      <th>ap_lo</th>\n",
       "      <th>bp_cat</th>\n",
       "      <th>cholesterol</th>\n",
       "      <th>gluc</th>\n",
       "      <th>smoke</th>\n",
       "      <th>alco</th>\n",
       "      <th>active</th>\n",
       "      <th>cardio</th>\n",
       "    </tr>\n",
       "  </thead>\n",
       "  <tbody>\n",
       "    <tr>\n",
       "      <th>0</th>\n",
       "      <td>50.36</td>\n",
       "      <td>0</td>\n",
       "      <td>1</td>\n",
       "      <td>168</td>\n",
       "      <td>62.0</td>\n",
       "      <td>21.97</td>\n",
       "      <td>110</td>\n",
       "      <td>80</td>\n",
       "      <td>normal</td>\n",
       "      <td>1</td>\n",
       "      <td>1</td>\n",
       "      <td>0</td>\n",
       "      <td>0</td>\n",
       "      <td>1</td>\n",
       "      <td>0</td>\n",
       "    </tr>\n",
       "    <tr>\n",
       "      <th>1</th>\n",
       "      <td>55.38</td>\n",
       "      <td>1</td>\n",
       "      <td>0</td>\n",
       "      <td>156</td>\n",
       "      <td>85.0</td>\n",
       "      <td>34.93</td>\n",
       "      <td>140</td>\n",
       "      <td>90</td>\n",
       "      <td>high 2</td>\n",
       "      <td>3</td>\n",
       "      <td>1</td>\n",
       "      <td>0</td>\n",
       "      <td>0</td>\n",
       "      <td>1</td>\n",
       "      <td>1</td>\n",
       "    </tr>\n",
       "    <tr>\n",
       "      <th>2</th>\n",
       "      <td>51.63</td>\n",
       "      <td>1</td>\n",
       "      <td>0</td>\n",
       "      <td>165</td>\n",
       "      <td>64.0</td>\n",
       "      <td>23.51</td>\n",
       "      <td>130</td>\n",
       "      <td>70</td>\n",
       "      <td>high 1</td>\n",
       "      <td>3</td>\n",
       "      <td>1</td>\n",
       "      <td>0</td>\n",
       "      <td>0</td>\n",
       "      <td>0</td>\n",
       "      <td>1</td>\n",
       "    </tr>\n",
       "    <tr>\n",
       "      <th>3</th>\n",
       "      <td>48.25</td>\n",
       "      <td>0</td>\n",
       "      <td>1</td>\n",
       "      <td>169</td>\n",
       "      <td>82.0</td>\n",
       "      <td>28.71</td>\n",
       "      <td>150</td>\n",
       "      <td>100</td>\n",
       "      <td>high 2</td>\n",
       "      <td>1</td>\n",
       "      <td>1</td>\n",
       "      <td>0</td>\n",
       "      <td>0</td>\n",
       "      <td>1</td>\n",
       "      <td>1</td>\n",
       "    </tr>\n",
       "    <tr>\n",
       "      <th>4</th>\n",
       "      <td>47.84</td>\n",
       "      <td>1</td>\n",
       "      <td>0</td>\n",
       "      <td>156</td>\n",
       "      <td>56.0</td>\n",
       "      <td>23.01</td>\n",
       "      <td>100</td>\n",
       "      <td>60</td>\n",
       "      <td>normal</td>\n",
       "      <td>1</td>\n",
       "      <td>1</td>\n",
       "      <td>0</td>\n",
       "      <td>0</td>\n",
       "      <td>0</td>\n",
       "      <td>0</td>\n",
       "    </tr>\n",
       "  </tbody>\n",
       "</table>\n",
       "</div>"
      ],
      "text/plain": [
       "     age  female  male  height  weight    bmi  ap_hi  ap_lo  bp_cat  \\\n",
       "0  50.36       0     1     168    62.0  21.97    110     80  normal   \n",
       "1  55.38       1     0     156    85.0  34.93    140     90  high 2   \n",
       "2  51.63       1     0     165    64.0  23.51    130     70  high 1   \n",
       "3  48.25       0     1     169    82.0  28.71    150    100  high 2   \n",
       "4  47.84       1     0     156    56.0  23.01    100     60  normal   \n",
       "\n",
       "   cholesterol  gluc  smoke  alco  active  cardio  \n",
       "0            1     1      0     0       1       0  \n",
       "1            3     1      0     0       1       1  \n",
       "2            3     1      0     0       0       1  \n",
       "3            1     1      0     0       1       1  \n",
       "4            1     1      0     0       0       0  "
      ]
     },
     "execution_count": 15,
     "metadata": {},
     "output_type": "execute_result"
    }
   ],
   "source": [
    "df.head()"
   ]
  },
  {
   "cell_type": "markdown",
   "metadata": {},
   "source": [
    "# 2. Data analysis"
   ]
  },
  {
   "cell_type": "markdown",
   "metadata": {},
   "source": [
    "In this stage, we're using pyplot and seaborn library to analyse our data through visualization such as pie-chart, bar-chart and boxplot instead of using just plain numbers and tables."
   ]
  },
  {
   "cell_type": "markdown",
   "metadata": {},
   "source": [
    "Here, we're defining a variable of standard and unique color for the visualization to avoid distraction to the reader."
   ]
  },
  {
   "cell_type": "code",
   "execution_count": 16,
   "metadata": {
    "execution": {
     "iopub.execute_input": "2023-04-11T04:13:06.360479Z",
     "iopub.status.busy": "2023-04-11T04:13:06.360105Z",
     "iopub.status.idle": "2023-04-11T04:13:06.364231Z",
     "shell.execute_reply": "2023-04-11T04:13:06.363330Z",
     "shell.execute_reply.started": "2023-04-11T04:13:06.360439Z"
    }
   },
   "outputs": [],
   "source": [
    "base_color = sb.color_palette()[0]"
   ]
  },
  {
   "cell_type": "markdown",
   "metadata": {},
   "source": [
    "We wanted to show the percentage of males and females using a pie-chart but we removed that column earlier in order to achieve flexibility for Machine Learning models, so, we had to create a workaround by creating a function to merge the gender columns in our dataset (male,female) into one column called gender."
   ]
  },
  {
   "cell_type": "code",
   "execution_count": 17,
   "metadata": {
    "execution": {
     "iopub.execute_input": "2023-04-11T04:13:06.366630Z",
     "iopub.status.busy": "2023-04-11T04:13:06.365985Z",
     "iopub.status.idle": "2023-04-11T04:13:06.377155Z",
     "shell.execute_reply": "2023-04-11T04:13:06.376425Z",
     "shell.execute_reply.started": "2023-04-11T04:13:06.366584Z"
    }
   },
   "outputs": [],
   "source": [
    "def gender(x, y):\n",
    "    if x==1:\n",
    "        return 'female'\n",
    "    else:\n",
    "        return 'male'"
   ]
  },
  {
   "cell_type": "markdown",
   "metadata": {},
   "source": [
    "Here, we're using the libraries mentioned before in creating the visualizations we want."
   ]
  },
  {
   "cell_type": "code",
   "execution_count": 18,
   "metadata": {
    "execution": {
     "iopub.execute_input": "2023-04-11T04:13:06.379663Z",
     "iopub.status.busy": "2023-04-11T04:13:06.378726Z",
     "iopub.status.idle": "2023-04-11T04:13:07.260840Z",
     "shell.execute_reply": "2023-04-11T04:13:07.259855Z",
     "shell.execute_reply.started": "2023-04-11T04:13:06.379617Z"
    }
   },
   "outputs": [
    {
     "data": {
      "text/plain": [
       "''"
      ]
     },
     "execution_count": 18,
     "metadata": {},
     "output_type": "execute_result"
    },
    {
     "data": {
      "image/png": "[encoded data removed]",
      "text/plain": [
       "<Figure size 1008x1440 with 2 Axes>"
      ]
     },
     "metadata": {},
     "output_type": "display_data"
    }
   ],
   "source": [
    "fig, ax = plt.subplots(1,2, figsize=(14,20))\n",
    "plt.tight_layout(pad=10)\n",
    "ax[0].pie(x=df['cardio'].value_counts(), labels=['Cardio', 'No cardio'],autopct='%1.1f%%', shadow=True, startangle=90, explode=(0.05,0.0))\n",
    "ax[0].title.set_text('Cardio percentage')\n",
    "gender = df.query(\"cardio == 1\").apply(lambda row: gender(row['female'], row['male']), axis=1).value_counts()\n",
    "ax[1].pie(x=gender, labels=['Female', 'Male'],autopct='%1.1f%%', shadow=True, startangle=90, explode=(0.05,0.0))\n",
    "ax[1].title.set_text('Cardiovascular patients gender percentage')\n",
    ";"
   ]
  },
  {
   "cell_type": "markdown",
   "metadata": {},
   "source": [
    "**Concluding the charts, we've found the following:**\n",
    "- The percentage of people with cardiovascular diseases is 50%.\n",
    "- The percentage of males with cardiovascular diseases is 35.3%.\n",
    "- The percentage of females with cardiovascular diseases is 64.7%."
   ]
  },
  {
   "cell_type": "markdown",
   "metadata": {},
   "source": [
    "<hr>"
   ]
  },
  {
   "cell_type": "markdown",
   "metadata": {},
   "source": [
    "**Here we're making boxplots to compare the age and body mass index for the cardio and non-cardio patients.**"
   ]
  },
  {
   "cell_type": "code",
   "execution_count": 19,
   "metadata": {
    "execution": {
     "iopub.execute_input": "2023-04-11T04:13:07.262357Z",
     "iopub.status.busy": "2023-04-11T04:13:07.262099Z",
     "iopub.status.idle": "2023-04-11T04:13:07.653222Z",
     "shell.execute_reply": "2023-04-11T04:13:07.652320Z",
     "shell.execute_reply.started": "2023-04-11T04:13:07.262327Z"
    }
   },
   "outputs": [
    {
     "data": {
      "text/plain": [
       "''"
      ]
     },
     "execution_count": 19,
     "metadata": {},
     "output_type": "execute_result"
    },
    {
     "data": {
      "image/png": "[encoded data removed]",
      "text/plain": [
       "<Figure size 1440x720 with 2 Axes>"
      ]
     },
     "metadata": {
      "needs_background": "light"
     },
     "output_type": "display_data"
    }
   ],
   "source": [
    "fig, ax = plt.subplots(ncols=2, figsize=(20,10))\n",
    "plt.tight_layout(pad=18)\n",
    "sb.boxplot(data=df, x='cardio', y='age', ax=ax[0], color=base_color)\n",
    "sb.boxplot(data=df, x='cardio', y='bmi', showfliers=False, ax=ax[1], color=base_color)\n",
    "ax[0].title.set_text('Age')\n",
    "ax[0].set_xticklabels(['No-cardio', 'Cardio'])\n",
    "ax[1].title.set_text('body mass index')\n",
    "ax[1].set_xticklabels(['No-cardio', 'Cardio'])\n",
    "ax[0].set_xlabel(\"\")\n",
    "ax[1].set_xlabel(\"\")\n",
    ";"
   ]
  },
  {
   "cell_type": "markdown",
   "metadata": {},
   "source": [
    "**Concluding the following, we've found the following:**\n",
    "- A relation is found between the age of people and cardiovascular diseases, thus, elderly people are most likely to have this kind of diseases.\n",
    "- Another relation is found between the BMI and cardiovascular diseases, thus, people with higher BMI are also most likely to to have this kind of diseases."
   ]
  },
  {
   "cell_type": "markdown",
   "metadata": {},
   "source": [
    "<hr>"
   ]
  },
  {
   "cell_type": "markdown",
   "metadata": {},
   "source": [
    "In the following code, we're trying to find other general relations between our variables in the dataset."
   ]
  },
  {
   "cell_type": "code",
   "execution_count": 20,
   "metadata": {
    "execution": {
     "iopub.execute_input": "2023-04-11T04:13:07.655016Z",
     "iopub.status.busy": "2023-04-11T04:13:07.654659Z",
     "iopub.status.idle": "2023-04-11T04:13:08.751092Z",
     "shell.execute_reply": "2023-04-11T04:13:08.750048Z",
     "shell.execute_reply.started": "2023-04-11T04:13:07.654969Z"
    }
   },
   "outputs": [
    {
     "data": {
      "text/plain": [
       "''"
      ]
     },
     "execution_count": 20,
     "metadata": {},
     "output_type": "execute_result"
    },
    {
     "data": {
      "image/png": "[encoded data removed]",
      "text/plain": [
       "<Figure size 1440x936 with 6 Axes>"
      ]
     },
     "metadata": {
      "needs_background": "light"
     },
     "output_type": "display_data"
    }
   ],
   "source": [
    "fig, ax = plt.subplots(ncols=3, nrows=2, figsize=(20,13), sharey=True)\n",
    "plt.tight_layout(pad=3)\n",
    "\n",
    "\n",
    "df_gluc = df.groupby('gluc').mean()\n",
    "sb.barplot(data=df_gluc, x=df_gluc.index, y='cardio', ax=ax[0][0], color=base_color)\n",
    "ax[0][0].set_xticklabels(['normal', 'above normal', 'well above normal'])\n",
    "ax[0][0].set_yticks(np.arange(0, 1.2, 0.1))\n",
    "ax[0][0].set_yticklabels(np.arange(0, 120, 10))\n",
    "\n",
    "df_cholesterol = df.groupby('cholesterol').mean()\n",
    "sb.barplot(data=df_cholesterol, x=df_cholesterol.index, y='cardio', ax=ax[0][1], color=base_color)\n",
    "ax[0][1].set_xticklabels(['normal', 'above normal', 'well above normal'])\n",
    "\n",
    "df_smoke = df.groupby('smoke').mean()\n",
    "sb.barplot(data=df_smoke, x=df_smoke.index, y='cardio', ax=ax[0][2], color=base_color)\n",
    "\n",
    "df_alco = df.groupby('alco').mean()\n",
    "sb.barplot(data=df_alco, x=df_alco.index, y='cardio', ax=ax[1][0], color=base_color)\n",
    "\n",
    "df_active = df.groupby('active').mean()\n",
    "sb.barplot(data=df_active, x=df_active.index, y='cardio', ax=ax[1][1], color=base_color)\n",
    "\n",
    "df_bp = df.groupby('bp_cat').mean()\n",
    "sb.barplot(data=df_bp, x=df_bp.index, y='cardio', ax=ax[1][2], color=base_color,\n",
    "           order=['normal', 'elevated', 'high 1', 'high 2', 'high 3'])\n",
    "plt.setp(ax[:, :], ylabel='')\n",
    "plt.setp(ax[:, 0], ylabel='Cardio Pecentage')\n",
    ";"
   ]
  },
  {
   "cell_type": "markdown",
   "metadata": {},
   "source": [
    "**Concluding the following, we've found the following:**\n",
    "- A relation is found between the glucose levels and cardiovascular disease, thus, 60% of people who have well above normal levels of glucose are more likely to have a cardiovascular disease.\n",
    "- Another significant relation is found between the cholestrol levels and cardiovascular diseases, thus, higher cholestrol levels means more chance of encountering a cardiovascular disease.\n",
    "- We've found that there is no strong bonded relationship between smoking and alcohol compared to cardiovascular diseases.\n",
    "- A minor relationship is found between being doing sports and activities to cardiovascular diseases as inactive people might develop cardiovascular diseases.\n",
    "- A major direct relationship is found between blood pressure and cardiovascular diseases where people who develop high blood pressure levels have the highest chances of having cardiovascular diseases."
   ]
  },
  {
   "cell_type": "markdown",
   "metadata": {},
   "source": [
    "# 3. Probability and Statistics "
   ]
  },
  {
   "cell_type": "markdown",
   "metadata": {},
   "source": [
    "**Probability that a person has cardio diseases given that he is 50 or older**"
   ]
  },
  {
   "cell_type": "code",
   "execution_count": 21,
   "metadata": {
    "execution": {
     "iopub.execute_input": "2023-04-11T04:13:08.753219Z",
     "iopub.status.busy": "2023-04-11T04:13:08.752516Z",
     "iopub.status.idle": "2023-04-11T04:13:08.773511Z",
     "shell.execute_reply": "2023-04-11T04:13:08.772787Z",
     "shell.execute_reply.started": "2023-04-11T04:13:08.753181Z"
    }
   },
   "outputs": [
    {
     "data": {
      "text/plain": [
       "55.46"
      ]
     },
     "execution_count": 21,
     "metadata": {},
     "output_type": "execute_result"
    }
   ],
   "source": [
    "df_age_50 = df.query('age >=50')\n",
    "df_agy_50_cardio = df_age_50.query('cardio==1')\n",
    "round(df_agy_50_cardio.shape[0]*100/df_age_50.shape[0],2)"
   ]
  },
  {
   "cell_type": "markdown",
   "metadata": {},
   "source": [
    "**Probability that a person has cardio diseases given that he has body mass index greater than 37**"
   ]
  },
  {
   "cell_type": "code",
   "execution_count": 22,
   "metadata": {
    "execution": {
     "iopub.execute_input": "2023-04-11T04:13:08.775401Z",
     "iopub.status.busy": "2023-04-11T04:13:08.774586Z",
     "iopub.status.idle": "2023-04-11T04:13:08.792928Z",
     "shell.execute_reply": "2023-04-11T04:13:08.791914Z",
     "shell.execute_reply.started": "2023-04-11T04:13:08.775366Z"
    }
   },
   "outputs": [
    {
     "data": {
      "text/plain": [
       "68.78"
      ]
     },
     "execution_count": 22,
     "metadata": {},
     "output_type": "execute_result"
    }
   ],
   "source": [
    "df_bmi37 = df.query('bmi >=37')\n",
    "df_bmi37_cardio = df_bmi37.query('cardio ==1')\n",
    "round(df_bmi37_cardio.shape[0]*100/df_bmi37.shape[0],2)"
   ]
  },
  {
   "cell_type": "markdown",
   "metadata": {},
   "source": [
    "**Probability that a person has cardio diseases given that the patient has a hypertensive crisis**"
   ]
  },
  {
   "cell_type": "code",
   "execution_count": 23,
   "metadata": {
    "execution": {
     "iopub.execute_input": "2023-04-11T04:13:08.794742Z",
     "iopub.status.busy": "2023-04-11T04:13:08.794355Z",
     "iopub.status.idle": "2023-04-11T04:13:08.811799Z",
     "shell.execute_reply": "2023-04-11T04:13:08.810859Z",
     "shell.execute_reply.started": "2023-04-11T04:13:08.794708Z"
    }
   },
   "outputs": [
    {
     "data": {
      "text/plain": [
       "89.29"
      ]
     },
     "execution_count": 23,
     "metadata": {},
     "output_type": "execute_result"
    }
   ],
   "source": [
    "df_high3 = df.query(\"bp_cat == 'high 3'\")\n",
    "df_high_cardio = df_high3.query('cardio == 1')\n",
    "round(df_high_cardio.shape[0]*100/df_high3.shape[0],2)"
   ]
  },
  {
   "cell_type": "markdown",
   "metadata": {},
   "source": [
    "**Probability that a person drinks alcohol or smokes**"
   ]
  },
  {
   "cell_type": "code",
   "execution_count": 24,
   "metadata": {
    "execution": {
     "iopub.execute_input": "2023-04-11T04:13:08.813398Z",
     "iopub.status.busy": "2023-04-11T04:13:08.813142Z",
     "iopub.status.idle": "2023-04-11T04:13:08.830232Z",
     "shell.execute_reply": "2023-04-11T04:13:08.829283Z",
     "shell.execute_reply.started": "2023-04-11T04:13:08.813368Z"
    }
   },
   "outputs": [
    {
     "name": "stdout",
     "output_type": "stream",
     "text": [
      "11.53756450249264\n"
     ]
    }
   ],
   "source": [
    "df_cohol_smoke = df.query(\"alco==1 or smoke==1\")\n",
    "print(df_cohol_smoke.shape[0]*100/df.shape[0])"
   ]
  },
  {
   "cell_type": "markdown",
   "metadata": {},
   "source": [
    "**Probability that a person has cardio diseases given that the patient drinks alcohol or smokes**"
   ]
  },
  {
   "cell_type": "code",
   "execution_count": 25,
   "metadata": {
    "execution": {
     "iopub.execute_input": "2023-04-11T04:13:08.832087Z",
     "iopub.status.busy": "2023-04-11T04:13:08.831833Z",
     "iopub.status.idle": "2023-04-11T04:13:08.843695Z",
     "shell.execute_reply": "2023-04-11T04:13:08.842693Z",
     "shell.execute_reply.started": "2023-04-11T04:13:08.832059Z"
    },
    "scrolled": true
   },
   "outputs": [
    {
     "data": {
      "text/plain": [
       "47.95957043588124"
      ]
     },
     "execution_count": 25,
     "metadata": {},
     "output_type": "execute_result"
    }
   ],
   "source": [
    "df_cohol_smoke_cadrio = df_cohol_smoke.query('cardio==1')\n",
    "df_cohol_smoke_cadrio.shape[0]*100/df_cohol_smoke.shape[0]"
   ]
  },
  {
   "cell_type": "markdown",
   "metadata": {},
   "source": [
    "**Probability that a person has cardio diseases given that the patient is not active**"
   ]
  },
  {
   "cell_type": "code",
   "execution_count": 26,
   "metadata": {
    "execution": {
     "iopub.execute_input": "2023-04-11T04:13:08.845602Z",
     "iopub.status.busy": "2023-04-11T04:13:08.845242Z",
     "iopub.status.idle": "2023-04-11T04:13:08.868203Z",
     "shell.execute_reply": "2023-04-11T04:13:08.867208Z",
     "shell.execute_reply.started": "2023-04-11T04:13:08.845552Z"
    }
   },
   "outputs": [
    {
     "data": {
      "text/plain": [
       "53.28196769891836"
      ]
     },
     "execution_count": 26,
     "metadata": {},
     "output_type": "execute_result"
    }
   ],
   "source": [
    "df_not_active = df.query('active==0')\n",
    "df_not_active_cardio = df_not_active.query('cardio==1')\n",
    "df_not_active_cardio.shape[0]*100/df_not_active.shape[0]"
   ]
  },
  {
   "cell_type": "markdown",
   "metadata": {},
   "source": [
    "# 4. Predicting using Machine Learning"
   ]
  },
  {
   "cell_type": "markdown",
   "metadata": {},
   "source": [
    "In this stage, we're using Machine Learning (ML) to predict the existence of cardiovascular diseases in patients according to our dataset. As known, there are various Machine Learning (ML) algorithms that are widely used, hence, we're using multiple algorithms and comparing them to each other according to their results."
   ]
  },
  {
   "cell_type": "markdown",
   "metadata": {},
   "source": [
    "In the cell below, we're importing libraries that will enable us to use Machine Learning algorithms.<br>Mainly, these are the algorithms that we are using:\n",
    "- Random Forest Classifier\n",
    "- Support Vector Classifier\n",
    "- K Neighbors Classifier\n",
    "- X Gradient Boost Classifier"
   ]
  },
  {
   "cell_type": "markdown",
   "metadata": {},
   "source": [
    "We're also using metrics libraries to evaluate our predictions. As for prediction evaluation, we're using the following libraries:\n",
    "- Accuracy Score\n",
    "- Confusion Matrix"
   ]
  },
  {
   "cell_type": "code",
   "execution_count": 27,
   "metadata": {
    "execution": {
     "iopub.execute_input": "2023-04-11T04:13:08.869720Z",
     "iopub.status.busy": "2023-04-11T04:13:08.869449Z",
     "iopub.status.idle": "2023-04-11T04:13:09.368031Z",
     "shell.execute_reply": "2023-04-11T04:13:09.366917Z",
     "shell.execute_reply.started": "2023-04-11T04:13:08.869690Z"
    }
   },
   "outputs": [],
   "source": [
    "from sklearn.ensemble import RandomForestClassifier\n",
    "from sklearn.naive_bayes import GaussianNB\n",
    "from sklearn.linear_model import LinearRegression\n",
    "from sklearn.svm import SVC\n",
    "from sklearn.neighbors import KNeighborsClassifier\n",
    "from xgboost import XGBClassifier\n",
    "from sklearn.model_selection import train_test_split, GridSearchCV, RandomizedSearchCV, cross_val_predict, cross_validate\n",
    "from sklearn.metrics import accuracy_score, r2_score, confusion_matrix, plot_confusion_matrix, plot_roc_curve\n",
    "from xgboost import plot_importance\n",
    "import warnings\n",
    "warnings.filterwarnings('ignore')"
   ]
  },
  {
   "cell_type": "code",
   "execution_count": 28,
   "metadata": {
    "execution": {
     "iopub.execute_input": "2023-04-11T04:13:09.374080Z",
     "iopub.status.busy": "2023-04-11T04:13:09.373799Z",
     "iopub.status.idle": "2023-04-11T04:13:09.394434Z",
     "shell.execute_reply": "2023-04-11T04:13:09.393576Z",
     "shell.execute_reply.started": "2023-04-11T04:13:09.374047Z"
    }
   },
   "outputs": [
    {
     "data": {
      "text/html": [
       "<div>\n",
       "<style scoped>\n",
       "    .dataframe tbody tr th:only-of-type {\n",
       "        vertical-align: middle;\n",
       "    }\n",
       "\n",
       "    .dataframe tbody tr th {\n",
       "        vertical-align: top;\n",
       "    }\n",
       "\n",
       "    .dataframe thead th {\n",
       "        text-align: right;\n",
       "    }\n",
       "</style>\n",
       "<table border=\"1\" class=\"dataframe\">\n",
       "  <thead>\n",
       "    <tr style=\"text-align: right;\">\n",
       "      <th></th>\n",
       "      <th>age</th>\n",
       "      <th>female</th>\n",
       "      <th>male</th>\n",
       "      <th>height</th>\n",
       "      <th>weight</th>\n",
       "      <th>bmi</th>\n",
       "      <th>ap_hi</th>\n",
       "      <th>ap_lo</th>\n",
       "      <th>bp_cat</th>\n",
       "      <th>cholesterol</th>\n",
       "      <th>gluc</th>\n",
       "      <th>smoke</th>\n",
       "      <th>alco</th>\n",
       "      <th>active</th>\n",
       "      <th>cardio</th>\n",
       "    </tr>\n",
       "  </thead>\n",
       "  <tbody>\n",
       "    <tr>\n",
       "      <th>0</th>\n",
       "      <td>50.36</td>\n",
       "      <td>0</td>\n",
       "      <td>1</td>\n",
       "      <td>168</td>\n",
       "      <td>62.0</td>\n",
       "      <td>21.97</td>\n",
       "      <td>110</td>\n",
       "      <td>80</td>\n",
       "      <td>normal</td>\n",
       "      <td>1</td>\n",
       "      <td>1</td>\n",
       "      <td>0</td>\n",
       "      <td>0</td>\n",
       "      <td>1</td>\n",
       "      <td>0</td>\n",
       "    </tr>\n",
       "    <tr>\n",
       "      <th>1</th>\n",
       "      <td>55.38</td>\n",
       "      <td>1</td>\n",
       "      <td>0</td>\n",
       "      <td>156</td>\n",
       "      <td>85.0</td>\n",
       "      <td>34.93</td>\n",
       "      <td>140</td>\n",
       "      <td>90</td>\n",
       "      <td>high 2</td>\n",
       "      <td>3</td>\n",
       "      <td>1</td>\n",
       "      <td>0</td>\n",
       "      <td>0</td>\n",
       "      <td>1</td>\n",
       "      <td>1</td>\n",
       "    </tr>\n",
       "    <tr>\n",
       "      <th>2</th>\n",
       "      <td>51.63</td>\n",
       "      <td>1</td>\n",
       "      <td>0</td>\n",
       "      <td>165</td>\n",
       "      <td>64.0</td>\n",
       "      <td>23.51</td>\n",
       "      <td>130</td>\n",
       "      <td>70</td>\n",
       "      <td>high 1</td>\n",
       "      <td>3</td>\n",
       "      <td>1</td>\n",
       "      <td>0</td>\n",
       "      <td>0</td>\n",
       "      <td>0</td>\n",
       "      <td>1</td>\n",
       "    </tr>\n",
       "    <tr>\n",
       "      <th>3</th>\n",
       "      <td>48.25</td>\n",
       "      <td>0</td>\n",
       "      <td>1</td>\n",
       "      <td>169</td>\n",
       "      <td>82.0</td>\n",
       "      <td>28.71</td>\n",
       "      <td>150</td>\n",
       "      <td>100</td>\n",
       "      <td>high 2</td>\n",
       "      <td>1</td>\n",
       "      <td>1</td>\n",
       "      <td>0</td>\n",
       "      <td>0</td>\n",
       "      <td>1</td>\n",
       "      <td>1</td>\n",
       "    </tr>\n",
       "    <tr>\n",
       "      <th>4</th>\n",
       "      <td>47.84</td>\n",
       "      <td>1</td>\n",
       "      <td>0</td>\n",
       "      <td>156</td>\n",
       "      <td>56.0</td>\n",
       "      <td>23.01</td>\n",
       "      <td>100</td>\n",
       "      <td>60</td>\n",
       "      <td>normal</td>\n",
       "      <td>1</td>\n",
       "      <td>1</td>\n",
       "      <td>0</td>\n",
       "      <td>0</td>\n",
       "      <td>0</td>\n",
       "      <td>0</td>\n",
       "    </tr>\n",
       "  </tbody>\n",
       "</table>\n",
       "</div>"
      ],
      "text/plain": [
       "     age  female  male  height  weight    bmi  ap_hi  ap_lo  bp_cat  \\\n",
       "0  50.36       0     1     168    62.0  21.97    110     80  normal   \n",
       "1  55.38       1     0     156    85.0  34.93    140     90  high 2   \n",
       "2  51.63       1     0     165    64.0  23.51    130     70  high 1   \n",
       "3  48.25       0     1     169    82.0  28.71    150    100  high 2   \n",
       "4  47.84       1     0     156    56.0  23.01    100     60  normal   \n",
       "\n",
       "   cholesterol  gluc  smoke  alco  active  cardio  \n",
       "0            1     1      0     0       1       0  \n",
       "1            3     1      0     0       1       1  \n",
       "2            3     1      0     0       0       1  \n",
       "3            1     1      0     0       1       1  \n",
       "4            1     1      0     0       0       0  "
      ]
     },
     "execution_count": 28,
     "metadata": {},
     "output_type": "execute_result"
    }
   ],
   "source": [
    "df.head()"
   ]
  },
  {
   "cell_type": "markdown",
   "metadata": {},
   "source": [
    "Here, we're dropping the cardio column in our dataset as this will be our target prediction variable.<br>Since Machine Learning understands numerical values only, we're also dropping the blood pressure category column as it's datatype is string."
   ]
  },
  {
   "cell_type": "code",
   "execution_count": 29,
   "metadata": {
    "execution": {
     "iopub.execute_input": "2023-04-11T04:13:09.396323Z",
     "iopub.status.busy": "2023-04-11T04:13:09.395986Z",
     "iopub.status.idle": "2023-04-11T04:13:09.408638Z",
     "shell.execute_reply": "2023-04-11T04:13:09.407605Z",
     "shell.execute_reply.started": "2023-04-11T04:13:09.396288Z"
    },
    "scrolled": true
   },
   "outputs": [],
   "source": [
    "X = df.drop(['cardio', 'bp_cat'], axis=1)\n",
    "y = df['cardio']"
   ]
  },
  {
   "cell_type": "markdown",
   "metadata": {},
   "source": [
    "We need to split our data in two groups, one is used for training our model and the other is for testing and evaluating."
   ]
  },
  {
   "cell_type": "code",
   "execution_count": 30,
   "metadata": {
    "execution": {
     "iopub.execute_input": "2023-04-11T04:13:09.410649Z",
     "iopub.status.busy": "2023-04-11T04:13:09.410066Z",
     "iopub.status.idle": "2023-04-11T04:13:09.438489Z",
     "shell.execute_reply": "2023-04-11T04:13:09.437604Z",
     "shell.execute_reply.started": "2023-04-11T04:13:09.410612Z"
    }
   },
   "outputs": [],
   "source": [
    "X_train, X_test, y_train, y_test = train_test_split(X, y)"
   ]
  },
  {
   "cell_type": "code",
   "execution_count": 31,
   "metadata": {
    "execution": {
     "iopub.execute_input": "2023-04-11T04:13:09.439842Z",
     "iopub.status.busy": "2023-04-11T04:13:09.439594Z",
     "iopub.status.idle": "2023-04-11T04:13:09.495085Z",
     "shell.execute_reply": "2023-04-11T04:13:09.493914Z",
     "shell.execute_reply.started": "2023-04-11T04:13:09.439814Z"
    }
   },
   "outputs": [
    {
     "data": {
      "text/plain": [
       "-2.3806014237948987"
      ]
     },
     "execution_count": 31,
     "metadata": {},
     "output_type": "execute_result"
    }
   ],
   "source": [
    "#check for linearity\n",
    "m9 = LinearRegression().fit(X, y)\n",
    "r2_score(m9.predict(X), y)"
   ]
  },
  {
   "cell_type": "markdown",
   "metadata": {},
   "source": [
    "####  X Gradient Boost"
   ]
  },
  {
   "cell_type": "markdown",
   "metadata": {},
   "source": [
    "Just like Random Forest Classifier, the XGB classifier uses a decision-tree algorithm but also with a gradient boosting framework. Rather than training all of the models in isolation of one another, boosting trains models in succession, with each new model being trained to correct the errors made by the previous ones.<br><br><img width=\"20%\" src=\"https://miro.medium.com/max/461/1*A9myadIB_CqJv-EJA-G_bA.png\">"
   ]
  },
  {
   "cell_type": "markdown",
   "metadata": {},
   "source": [
    "As usual, we're training our model."
   ]
  },
  {
   "cell_type": "code",
   "execution_count": 53,
   "metadata": {
    "execution": {
     "iopub.execute_input": "2023-04-11T04:16:51.138101Z",
     "iopub.status.busy": "2023-04-11T04:16:51.137761Z",
     "iopub.status.idle": "2023-04-11T04:16:51.142352Z",
     "shell.execute_reply": "2023-04-11T04:16:51.141512Z",
     "shell.execute_reply.started": "2023-04-11T04:16:51.138072Z"
    }
   },
   "outputs": [],
   "source": [
    "# ROUND 1\n",
    "# param_grid = {\n",
    "#     'max_depth': [3, 4, 5],\n",
    "#     'learning_rate': [0.1, 0.01, 0.05],\n",
    "#     'gamma': [0, 0.25, 0.1],\n",
    "#     'reg_lambda': [0, 1.0, 10.0],\n",
    "#     'scale_pos_weight': [1, 3, 5]\n",
    "# }\n",
    "\n",
    "# ROUND 2\n",
    "# param_grid = {\n",
    "#     'max_depth': [3],\n",
    "#     'learning_rate': [0.6, 0.5, 0.7],\n",
    "#     'gamma': [0.25],\n",
    "#     'reg_lambda': [50.0, 100, 150],\n",
    "#     'scale_pos_weight': [3]\n",
    "# }\n",
    "\n",
    "# ROUND 3\n",
    "# param_grid = {\n",
    "#     'max_depth': [3],\n",
    "#     'learning_rate': [0.6, 0.5, 0.7],\n",
    "#     'gamma': [0.25],\n",
    "#     'reg_lambda': [50.0, 100, 150],\n",
    "#     'scale_pos_weight': [3]\n",
    "# }\n",
    "\n",
    "# ROUND 4  \n",
    "# param_grid= = {\n",
    "#     'max_depth': [3],\n",
    "#     'learning_rate': [0.6, 0.65, 0.55],\n",
    "#     'gamma': [0.25],\n",
    "#     'reg_lambda': [40.0, 50.0, 60.0],\n",
    "#     'scale_pos_weight': [3]\n",
    "# }\n",
    "\n",
    "## Winner Winner Chicken Dinner!!!!!\n",
    "# param_grid={'gamma': [0.24],\n",
    "#  'learning_rate': [.13],\n",
    "#  'max_depth': [5],\n",
    "#  'reg_lambda': [50],\n",
    "#     'n_estimators': [150]}"
   ]
  },
  {
   "cell_type": "code",
   "execution_count": 54,
   "metadata": {
    "execution": {
     "iopub.execute_input": "2023-04-11T04:16:51.143756Z",
     "iopub.status.busy": "2023-04-11T04:16:51.143530Z",
     "iopub.status.idle": "2023-04-11T04:16:51.154673Z",
     "shell.execute_reply": "2023-04-11T04:16:51.153956Z",
     "shell.execute_reply.started": "2023-04-11T04:16:51.143728Z"
    }
   },
   "outputs": [],
   "source": [
    "# optimal_params = GridSearchCV(\n",
    "#     estimator=XGBClassifier(objective=\"binary:logistic\",\n",
    "#                             seed=0,\n",
    "#                             subsample=0.9),\n",
    "#     param_grid=param_grid,\n",
    "#     scoring='roc_auc',\n",
    "#     verbose=1,\n",
    "#     n_jobs=7,\n",
    "#     cv=5\n",
    "# )"
   ]
  },
  {
   "cell_type": "code",
   "execution_count": 55,
   "metadata": {
    "execution": {
     "iopub.execute_input": "2023-04-11T04:16:51.156034Z",
     "iopub.status.busy": "2023-04-11T04:16:51.155819Z",
     "iopub.status.idle": "2023-04-11T04:16:51.167012Z",
     "shell.execute_reply": "2023-04-11T04:16:51.166360Z",
     "shell.execute_reply.started": "2023-04-11T04:16:51.156008Z"
    }
   },
   "outputs": [],
   "source": [
    "# optimal_params.fit(\n",
    "#                 X_train, \n",
    "#                 y_train, \n",
    "#                 verbose=False,\n",
    "#                 early_stopping_rounds=10,\n",
    "#                 eval_metric='aucpr',\n",
    "#                 eval_set=[(X_test, y_test)])"
   ]
  },
  {
   "cell_type": "code",
   "execution_count": 56,
   "metadata": {
    "execution": {
     "iopub.execute_input": "2023-04-11T04:16:51.168371Z",
     "iopub.status.busy": "2023-04-11T04:16:51.168033Z",
     "iopub.status.idle": "2023-04-11T04:16:51.178986Z",
     "shell.execute_reply": "2023-04-11T04:16:51.178038Z",
     "shell.execute_reply.started": "2023-04-11T04:16:51.168342Z"
    }
   },
   "outputs": [],
   "source": [
    "# optimal_params.best_params_"
   ]
  },
  {
   "cell_type": "code",
   "execution_count": 57,
   "metadata": {
    "execution": {
     "iopub.execute_input": "2023-04-11T04:16:51.180862Z",
     "iopub.status.busy": "2023-04-11T04:16:51.180248Z",
     "iopub.status.idle": "2023-04-11T04:17:22.649199Z",
     "shell.execute_reply": "2023-04-11T04:17:22.648555Z",
     "shell.execute_reply.started": "2023-04-11T04:16:51.180829Z"
    }
   },
   "outputs": [
    {
     "name": "stdout",
     "output_type": "stream",
     "text": [
      "Testing accuracy: 72.95%\n",
      "Average testing accuracy: 73.5999%\n"
     ]
    }
   ],
   "source": [
    "boost_model = XGBClassifier(verbosity=0, seed=0, n_estimators=150,\n",
    "                            gamma= 0.24, max_depth=4, learning_rate=0.13,\n",
    "                            reg_lambda=50.0, scale_pos_weight=1)\n",
    "\n",
    "boost_model.fit(X_train, y_train)\n",
    "boost_pred = boost_model.predict(X_test)\n",
    "print(f\"Testing accuracy: {round((accuracy_score(boost_pred, y_test)*100),2)}%\")\n",
    "xgb_cross = cross_validate(boost_model, X, y, cv=11)\n",
    "print(f\"Average testing accuracy: {round((xgb_cross['test_score'].mean()*100),4)}%\")"
   ]
  },
  {
   "cell_type": "markdown",
   "metadata": {},
   "source": [
    "Again, we're predicting our new values."
   ]
  },
  {
   "cell_type": "code",
   "execution_count": 58,
   "metadata": {
    "execution": {
     "iopub.execute_input": "2023-04-11T04:17:22.650829Z",
     "iopub.status.busy": "2023-04-11T04:17:22.650345Z",
     "iopub.status.idle": "2023-04-11T04:17:22.883716Z",
     "shell.execute_reply": "2023-04-11T04:17:22.882631Z",
     "shell.execute_reply.started": "2023-04-11T04:17:22.650794Z"
    }
   },
   "outputs": [
    {
     "data": {
      "text/plain": [
       "''"
      ]
     },
     "execution_count": 58,
     "metadata": {},
     "output_type": "execute_result"
    },
    {
     "data": {
      "image/png": "[encoded data removed]",
      "text/plain": [
       "<Figure size 432x288 with 2 Axes>"
      ]
     },
     "metadata": {
      "needs_background": "light"
     },
     "output_type": "display_data"
    }
   ],
   "source": [
    "plot_confusion_matrix(boost_model, X_test, y_test, values_format='d')\n",
    ";"
   ]
  },
  {
   "cell_type": "code",
   "execution_count": 59,
   "metadata": {
    "execution": {
     "iopub.execute_input": "2023-04-11T04:17:22.887373Z",
     "iopub.status.busy": "2023-04-11T04:17:22.887112Z",
     "iopub.status.idle": "2023-04-11T04:17:23.093600Z",
     "shell.execute_reply": "2023-04-11T04:17:23.092707Z",
     "shell.execute_reply.started": "2023-04-11T04:17:22.887342Z"
    }
   },
   "outputs": [
    {
     "data": {
      "text/plain": [
       "<sklearn.metrics._plot.roc_curve.RocCurveDisplay at 0x739ce16b2790>"
      ]
     },
     "execution_count": 59,
     "metadata": {},
     "output_type": "execute_result"
    },
    {
     "data": {
      "image/png": "[encoded data removed]",
      "text/plain": [
       "<Figure size 432x288 with 1 Axes>"
      ]
     },
     "metadata": {
      "needs_background": "light"
     },
     "output_type": "display_data"
    }
   ],
   "source": [
    "plot_roc_curve(boost_model, X_test, y_test)"
   ]
  },
  {
   "cell_type": "markdown",
   "metadata": {},
   "source": [
    "As seen in the output, the accuracy score is the highest of all models used before, however, type-one error equals 2728."
   ]
  },
  {
   "cell_type": "code",
   "execution_count": 60,
   "metadata": {
    "execution": {
     "iopub.execute_input": "2023-04-11T04:17:23.095339Z",
     "iopub.status.busy": "2023-04-11T04:17:23.095008Z",
     "iopub.status.idle": "2023-04-11T04:17:23.384585Z",
     "shell.execute_reply": "2023-04-11T04:17:23.383562Z",
     "shell.execute_reply.started": "2023-04-11T04:17:23.095297Z"
    }
   },
   "outputs": [
    {
     "data": {
      "text/plain": [
       "<AxesSubplot:title={'center':'Feature importance'}, xlabel='F score', ylabel='Features'>"
      ]
     },
     "execution_count": 60,
     "metadata": {},
     "output_type": "execute_result"
    },
    {
     "data": {
      "image/png": "[encoded data removed]",
      "text/plain": [
       "<Figure size 432x288 with 1 Axes>"
      ]
     },
     "metadata": {
      "needs_background": "light"
     },
     "output_type": "display_data"
    }
   ],
   "source": [
    "plot_importance(boost_model)"
   ]
  }
 ],
 "metadata": {
  "kernelspec": {
   "display_name": "Python 3",
   "language": "python",
   "name": "python3"
  },
  "language_info": {
   "codemirror_mode": {
    "name": "ipython",
    "version": 3
   },
   "file_extension": ".py",
   "mimetype": "text/x-python",
   "name": "python",
   "nbconvert_exporter": "python",
   "pygments_lexer": "ipython3",
   "version": "3.8.8"
  }
 },
 "nbformat": 4,
 "nbformat_minor": 4
}
