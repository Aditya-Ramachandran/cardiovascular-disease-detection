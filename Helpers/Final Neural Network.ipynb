{
 "cells": [
  {
   "cell_type": "code",
   "execution_count": 236,
   "id": "3844d73d",
   "metadata": {},
   "outputs": [],
   "source": [
    "import numpy as np # linear algebra\n",
    "import pandas as pd # data processing\n",
    "import seaborn as sns             # visualizations\n",
    "import matplotlib.pyplot as plt   # visualizations\n",
    "from sklearn import preprocessing\n",
    "from sklearn.model_selection import train_test_split\n",
    "from keras.utils import np_utils"
   ]
  },
  {
   "cell_type": "markdown",
   "id": "3be0acf3",
   "metadata": {},
   "source": [
    "## Uploading data"
   ]
  },
  {
   "cell_type": "code",
   "execution_count": 14,
   "id": "6cc3be7a",
   "metadata": {},
   "outputs": [
    {
     "data": {
      "text/html": [
       "<div>\n",
       "<style scoped>\n",
       "    .dataframe tbody tr th:only-of-type {\n",
       "        vertical-align: middle;\n",
       "    }\n",
       "\n",
       "    .dataframe tbody tr th {\n",
       "        vertical-align: top;\n",
       "    }\n",
       "\n",
       "    .dataframe thead th {\n",
       "        text-align: right;\n",
       "    }\n",
       "</style>\n",
       "<table border=\"1\" class=\"dataframe\">\n",
       "  <thead>\n",
       "    <tr style=\"text-align: right;\">\n",
       "      <th></th>\n",
       "      <th>id</th>\n",
       "      <th>age</th>\n",
       "      <th>gender</th>\n",
       "      <th>height</th>\n",
       "      <th>weight</th>\n",
       "      <th>ap_hi</th>\n",
       "      <th>ap_lo</th>\n",
       "      <th>cholesterol</th>\n",
       "      <th>gluc</th>\n",
       "      <th>smoke</th>\n",
       "      <th>alco</th>\n",
       "      <th>active</th>\n",
       "      <th>cardio</th>\n",
       "    </tr>\n",
       "  </thead>\n",
       "  <tbody>\n",
       "    <tr>\n",
       "      <th>0</th>\n",
       "      <td>0</td>\n",
       "      <td>50.391781</td>\n",
       "      <td>2</td>\n",
       "      <td>168</td>\n",
       "      <td>62.0</td>\n",
       "      <td>110</td>\n",
       "      <td>80</td>\n",
       "      <td>1</td>\n",
       "      <td>1</td>\n",
       "      <td>0</td>\n",
       "      <td>0</td>\n",
       "      <td>1</td>\n",
       "      <td>0</td>\n",
       "    </tr>\n",
       "    <tr>\n",
       "      <th>1</th>\n",
       "      <td>1</td>\n",
       "      <td>55.419178</td>\n",
       "      <td>1</td>\n",
       "      <td>156</td>\n",
       "      <td>85.0</td>\n",
       "      <td>140</td>\n",
       "      <td>90</td>\n",
       "      <td>3</td>\n",
       "      <td>1</td>\n",
       "      <td>0</td>\n",
       "      <td>0</td>\n",
       "      <td>1</td>\n",
       "      <td>1</td>\n",
       "    </tr>\n",
       "    <tr>\n",
       "      <th>2</th>\n",
       "      <td>2</td>\n",
       "      <td>51.663014</td>\n",
       "      <td>1</td>\n",
       "      <td>165</td>\n",
       "      <td>64.0</td>\n",
       "      <td>130</td>\n",
       "      <td>70</td>\n",
       "      <td>3</td>\n",
       "      <td>1</td>\n",
       "      <td>0</td>\n",
       "      <td>0</td>\n",
       "      <td>0</td>\n",
       "      <td>1</td>\n",
       "    </tr>\n",
       "    <tr>\n",
       "      <th>3</th>\n",
       "      <td>3</td>\n",
       "      <td>48.282192</td>\n",
       "      <td>2</td>\n",
       "      <td>169</td>\n",
       "      <td>82.0</td>\n",
       "      <td>150</td>\n",
       "      <td>100</td>\n",
       "      <td>1</td>\n",
       "      <td>1</td>\n",
       "      <td>0</td>\n",
       "      <td>0</td>\n",
       "      <td>1</td>\n",
       "      <td>1</td>\n",
       "    </tr>\n",
       "    <tr>\n",
       "      <th>4</th>\n",
       "      <td>8</td>\n",
       "      <td>60.038356</td>\n",
       "      <td>1</td>\n",
       "      <td>151</td>\n",
       "      <td>67.0</td>\n",
       "      <td>120</td>\n",
       "      <td>80</td>\n",
       "      <td>2</td>\n",
       "      <td>2</td>\n",
       "      <td>0</td>\n",
       "      <td>0</td>\n",
       "      <td>0</td>\n",
       "      <td>0</td>\n",
       "    </tr>\n",
       "  </tbody>\n",
       "</table>\n",
       "</div>"
      ],
      "text/plain": [
       "   id        age  gender  height  weight  ap_hi  ap_lo  cholesterol  gluc  \\\n",
       "0   0  50.391781       2     168    62.0    110     80            1     1   \n",
       "1   1  55.419178       1     156    85.0    140     90            3     1   \n",
       "2   2  51.663014       1     165    64.0    130     70            3     1   \n",
       "3   3  48.282192       2     169    82.0    150    100            1     1   \n",
       "4   8  60.038356       1     151    67.0    120     80            2     2   \n",
       "\n",
       "   smoke  alco  active  cardio  \n",
       "0      0     0       1       0  \n",
       "1      0     0       1       1  \n",
       "2      0     0       0       1  \n",
       "3      0     0       1       1  \n",
       "4      0     0       0       0  "
      ]
     },
     "execution_count": 14,
     "metadata": {},
     "output_type": "execute_result"
    }
   ],
   "source": [
    "df = pd.read_csv('../Dataset/cardio_train_cleaned_1.csv')\n",
    "dfcol=df.columns\n",
    "df.head()"
   ]
  },
  {
   "cell_type": "code",
   "execution_count": 15,
   "id": "7ea81376",
   "metadata": {},
   "outputs": [],
   "source": [
    "# import os\n",
    "# cwd = os.getcwd()\n",
    "# print(cwd)\n"
   ]
  },
  {
   "cell_type": "markdown",
   "id": "b314679c",
   "metadata": {},
   "source": [
    "## Checking if the targets are balanced"
   ]
  },
  {
   "cell_type": "code",
   "execution_count": 16,
   "id": "01e40a31",
   "metadata": {},
   "outputs": [
    {
     "data": {
      "text/plain": [
       "<AxesSubplot:xlabel='cardio', ylabel='count'>"
      ]
     },
     "execution_count": 16,
     "metadata": {},
     "output_type": "execute_result"
    },
    {
     "data": {
      "image/png": "[encoded data removed]",
      "text/plain": [
       "<Figure size 432x288 with 1 Axes>"
      ]
     },
     "metadata": {
      "needs_background": "light"
     },
     "output_type": "display_data"
    }
   ],
   "source": [
    "df[[\"cardio\",\"height\"]].groupby(\"cardio\").count()\n",
    "sns.countplot(x=\"cardio\", data=df, palette=\"Set1\")"
   ]
  },
  {
   "cell_type": "markdown",
   "id": "10ef4562",
   "metadata": {},
   "source": [
    "## Data Transform (Scaling to avoid outliers)"
   ]
  },
  {
   "cell_type": "code",
   "execution_count": 17,
   "id": "9f605ab4",
   "metadata": {},
   "outputs": [
    {
     "data": {
      "text/html": [
       "<div>\n",
       "<style scoped>\n",
       "    .dataframe tbody tr th:only-of-type {\n",
       "        vertical-align: middle;\n",
       "    }\n",
       "\n",
       "    .dataframe tbody tr th {\n",
       "        vertical-align: top;\n",
       "    }\n",
       "\n",
       "    .dataframe thead th {\n",
       "        text-align: right;\n",
       "    }\n",
       "</style>\n",
       "<table border=\"1\" class=\"dataframe\">\n",
       "  <thead>\n",
       "    <tr style=\"text-align: right;\">\n",
       "      <th></th>\n",
       "      <th>id</th>\n",
       "      <th>age</th>\n",
       "      <th>gender</th>\n",
       "      <th>height</th>\n",
       "      <th>weight</th>\n",
       "      <th>ap_hi</th>\n",
       "      <th>ap_lo</th>\n",
       "      <th>cholesterol</th>\n",
       "      <th>gluc</th>\n",
       "      <th>smoke</th>\n",
       "      <th>alco</th>\n",
       "      <th>active</th>\n",
       "      <th>cardio</th>\n",
       "    </tr>\n",
       "  </thead>\n",
       "  <tbody>\n",
       "    <tr>\n",
       "      <th>0</th>\n",
       "      <td>0.00000</td>\n",
       "      <td>0.586121</td>\n",
       "      <td>1.0</td>\n",
       "      <td>0.579487</td>\n",
       "      <td>0.269841</td>\n",
       "      <td>0.093750</td>\n",
       "      <td>0.733945</td>\n",
       "      <td>0.0</td>\n",
       "      <td>0.0</td>\n",
       "      <td>0.0</td>\n",
       "      <td>0.0</td>\n",
       "      <td>1.0</td>\n",
       "      <td>0.0</td>\n",
       "    </tr>\n",
       "    <tr>\n",
       "      <th>1</th>\n",
       "      <td>0.00001</td>\n",
       "      <td>0.728878</td>\n",
       "      <td>0.0</td>\n",
       "      <td>0.517949</td>\n",
       "      <td>0.391534</td>\n",
       "      <td>0.406250</td>\n",
       "      <td>0.825688</td>\n",
       "      <td>1.0</td>\n",
       "      <td>0.0</td>\n",
       "      <td>0.0</td>\n",
       "      <td>0.0</td>\n",
       "      <td>1.0</td>\n",
       "      <td>1.0</td>\n",
       "    </tr>\n",
       "    <tr>\n",
       "      <th>2</th>\n",
       "      <td>0.00002</td>\n",
       "      <td>0.622219</td>\n",
       "      <td>0.0</td>\n",
       "      <td>0.564103</td>\n",
       "      <td>0.280423</td>\n",
       "      <td>0.302083</td>\n",
       "      <td>0.642202</td>\n",
       "      <td>1.0</td>\n",
       "      <td>0.0</td>\n",
       "      <td>0.0</td>\n",
       "      <td>0.0</td>\n",
       "      <td>0.0</td>\n",
       "      <td>1.0</td>\n",
       "    </tr>\n",
       "    <tr>\n",
       "      <th>3</th>\n",
       "      <td>0.00003</td>\n",
       "      <td>0.526218</td>\n",
       "      <td>1.0</td>\n",
       "      <td>0.584615</td>\n",
       "      <td>0.375661</td>\n",
       "      <td>0.510417</td>\n",
       "      <td>0.917431</td>\n",
       "      <td>0.0</td>\n",
       "      <td>0.0</td>\n",
       "      <td>0.0</td>\n",
       "      <td>0.0</td>\n",
       "      <td>1.0</td>\n",
       "      <td>1.0</td>\n",
       "    </tr>\n",
       "    <tr>\n",
       "      <th>4</th>\n",
       "      <td>0.00008</td>\n",
       "      <td>0.860044</td>\n",
       "      <td>0.0</td>\n",
       "      <td>0.492308</td>\n",
       "      <td>0.296296</td>\n",
       "      <td>0.197917</td>\n",
       "      <td>0.733945</td>\n",
       "      <td>0.5</td>\n",
       "      <td>0.5</td>\n",
       "      <td>0.0</td>\n",
       "      <td>0.0</td>\n",
       "      <td>0.0</td>\n",
       "      <td>0.0</td>\n",
       "    </tr>\n",
       "  </tbody>\n",
       "</table>\n",
       "</div>"
      ],
      "text/plain": [
       "        id       age  gender    height    weight     ap_hi     ap_lo  \\\n",
       "0  0.00000  0.586121     1.0  0.579487  0.269841  0.093750  0.733945   \n",
       "1  0.00001  0.728878     0.0  0.517949  0.391534  0.406250  0.825688   \n",
       "2  0.00002  0.622219     0.0  0.564103  0.280423  0.302083  0.642202   \n",
       "3  0.00003  0.526218     1.0  0.584615  0.375661  0.510417  0.917431   \n",
       "4  0.00008  0.860044     0.0  0.492308  0.296296  0.197917  0.733945   \n",
       "\n",
       "   cholesterol  gluc  smoke  alco  active  cardio  \n",
       "0          0.0   0.0    0.0   0.0     1.0     0.0  \n",
       "1          1.0   0.0    0.0   0.0     1.0     1.0  \n",
       "2          1.0   0.0    0.0   0.0     0.0     1.0  \n",
       "3          0.0   0.0    0.0   0.0     1.0     1.0  \n",
       "4          0.5   0.5    0.0   0.0     0.0     0.0  "
      ]
     },
     "execution_count": 17,
     "metadata": {},
     "output_type": "execute_result"
    }
   ],
   "source": [
    "from sklearn import preprocessing\n",
    "scaler=preprocessing.MinMaxScaler()\n",
    "dfscale=scaler.fit_transform(df)\n",
    "dfscale2=pd.DataFrame(dfscale, columns=dfcol)\n",
    "dfscale2.head()"
   ]
  },
  {
   "cell_type": "markdown",
   "id": "86e774c4",
   "metadata": {},
   "source": [
    "## Splitting data"
   ]
  },
  {
   "cell_type": "code",
   "execution_count": 18,
   "id": "a75743ff",
   "metadata": {},
   "outputs": [],
   "source": [
    "xdf=dfscale2.iloc[:,0:11]\n",
    "ydf=dfscale2.iloc[:,-1]"
   ]
  },
  {
   "cell_type": "code",
   "execution_count": 19,
   "id": "7e0a3979",
   "metadata": {},
   "outputs": [],
   "source": [
    "x_training, x_testing, y_training, y_testing = train_test_split(xdf, ydf, test_size = 0.2, random_state=123, stratify=ydf)"
   ]
  },
  {
   "cell_type": "code",
   "execution_count": 20,
   "id": "647a4b0a",
   "metadata": {},
   "outputs": [
    {
     "name": "stdout",
     "output_type": "stream",
     "text": [
      "(64390, 11)\n"
     ]
    }
   ],
   "source": [
    "print(xdf.shape)"
   ]
  },
  {
   "cell_type": "code",
   "execution_count": 21,
   "id": "f53197af",
   "metadata": {},
   "outputs": [
    {
     "data": {
      "text/plain": [
       "(64390,)"
      ]
     },
     "execution_count": 21,
     "metadata": {},
     "output_type": "execute_result"
    }
   ],
   "source": [
    "ydf.shape"
   ]
  },
  {
   "cell_type": "markdown",
   "id": "f6500723",
   "metadata": {},
   "source": [
    "## Neural Network"
   ]
  },
  {
   "cell_type": "code",
   "execution_count": 24,
   "id": "ea7b1b6d",
   "metadata": {},
   "outputs": [],
   "source": [
    "from keras.models import Sequential\n",
    "from keras.layers.core import Dense, Activation\n",
    "from keras.optimizers import SGD\n",
    "from keras.layers import Dropout\n",
    "from keras.constraints import maxnorm\n",
    "from keras.optimizers import Nadam"
   ]
  },
  {
   "cell_type": "code",
   "execution_count": 42,
   "id": "f4caddac",
   "metadata": {},
   "outputs": [
    {
     "name": "stdout",
     "output_type": "stream",
     "text": [
      "Model: \"sequential_2\"\n",
      "_________________________________________________________________\n",
      "Layer (type)                 Output Shape              Param #   \n",
      "=================================================================\n",
      "dense_4 (Dense)              (None, 20)                240       \n",
      "_________________________________________________________________\n",
      "dropout_3 (Dropout)          (None, 20)                0         \n",
      "_________________________________________________________________\n",
      "dense_5 (Dense)              (None, 5)                 105       \n",
      "_________________________________________________________________\n",
      "dropout_4 (Dropout)          (None, 5)                 0         \n",
      "_________________________________________________________________\n",
      "dense_6 (Dense)              (None, 3)                 18        \n",
      "_________________________________________________________________\n",
      "dropout_5 (Dropout)          (None, 3)                 0         \n",
      "_________________________________________________________________\n",
      "dense_7 (Dense)              (None, 1)                 4         \n",
      "=================================================================\n",
      "Total params: 367\n",
      "Trainable params: 367\n",
      "Non-trainable params: 0\n",
      "_________________________________________________________________\n"
     ]
    }
   ],
   "source": [
    "batch_size = 10\n",
    "epochs = 100\n",
    "optimizer = Nadam(lr=0.01, beta_1=0.9)\n",
    "dropout_rate = 0.1\n",
    "weight_constraint = 2\n",
    "neurons = 20\n",
    "\n",
    "model = Sequential()\n",
    "model.add(Dense(neurons, input_dim=11, activation='softsign', kernel_constraint=maxnorm(weight_constraint)))\n",
    "model.add(Dropout(dropout_rate))\n",
    "model.add(Dense(5, activation='softsign'))\n",
    "model.add(Dropout(dropout_rate))\n",
    "model.add(Dense(3, activation='softsign'))\n",
    "model.add(Dropout(dropout_rate))\n",
    "model.add(Dense(1, activation='sigmoid'))\n",
    "\n",
    "model.compile(loss = 'binary_crossentropy', optimizer=optimizer, metrics=['accuracy'])\n",
    "\n",
    "model.summary()"
   ]
  },
  {
   "cell_type": "code",
   "execution_count": 28,
   "id": "c7b829c2",
   "metadata": {},
   "outputs": [
    {
     "name": "stdout",
     "output_type": "stream",
     "text": [
      "Epoch 1/100\n",
      "5152/5152 [==============================] - 3s 611us/step - loss: 0.5842 - accuracy: 0.7071\n",
      "Epoch 2/100\n",
      "5152/5152 [==============================] - 3s 634us/step - loss: 0.5776 - accuracy: 0.7097\n",
      "Epoch 3/100\n",
      "5152/5152 [==============================] - 3s 597us/step - loss: 0.5779 - accuracy: 0.7073\n",
      "Epoch 4/100\n",
      "5152/5152 [==============================] - 3s 600us/step - loss: 0.5794 - accuracy: 0.7092\n",
      "Epoch 5/100\n",
      "5152/5152 [==============================] - 3s 618us/step - loss: 0.5791 - accuracy: 0.7074\n",
      "Epoch 6/100\n",
      "5152/5152 [==============================] - 3s 600us/step - loss: 0.5786 - accuracy: 0.7069\n",
      "Epoch 7/100\n",
      "5152/5152 [==============================] - 3s 599us/step - loss: 0.5795 - accuracy: 0.7074\n",
      "Epoch 8/100\n",
      "5152/5152 [==============================] - 3s 597us/step - loss: 0.5787 - accuracy: 0.7071\n",
      "Epoch 9/100\n",
      "5152/5152 [==============================] - 3s 640us/step - loss: 0.5801 - accuracy: 0.7078\n",
      "Epoch 10/100\n",
      "5152/5152 [==============================] - 3s 637us/step - loss: 0.5796 - accuracy: 0.7078\n",
      "Epoch 11/100\n",
      "5152/5152 [==============================] - 3s 605us/step - loss: 0.5797 - accuracy: 0.7088\n",
      "Epoch 12/100\n",
      "5152/5152 [==============================] - 3s 610us/step - loss: 0.5795 - accuracy: 0.7056\n",
      "Epoch 13/100\n",
      "5152/5152 [==============================] - 3s 597us/step - loss: 0.5796 - accuracy: 0.7104\n",
      "Epoch 14/100\n",
      "5152/5152 [==============================] - 3s 599us/step - loss: 0.5792 - accuracy: 0.7102\n",
      "Epoch 15/100\n",
      "5152/5152 [==============================] - 3s 609us/step - loss: 0.5809 - accuracy: 0.7068\n",
      "Epoch 16/100\n",
      "5152/5152 [==============================] - 3s 604us/step - loss: 0.5807 - accuracy: 0.7076\n",
      "Epoch 17/100\n",
      "5152/5152 [==============================] - 3s 592us/step - loss: 0.5784 - accuracy: 0.7090\n",
      "Epoch 18/100\n",
      "5152/5152 [==============================] - 3s 615us/step - loss: 0.5805 - accuracy: 0.7074\n",
      "Epoch 19/100\n",
      "5152/5152 [==============================] - 3s 593us/step - loss: 0.5814 - accuracy: 0.7067\n",
      "Epoch 20/100\n",
      "5152/5152 [==============================] - 3s 605us/step - loss: 0.5813 - accuracy: 0.7052\n",
      "Epoch 21/100\n",
      "5152/5152 [==============================] - 3s 610us/step - loss: 0.5802 - accuracy: 0.7079\n",
      "Epoch 22/100\n",
      "5152/5152 [==============================] - 3s 600us/step - loss: 0.5804 - accuracy: 0.7064\n",
      "Epoch 23/100\n",
      "5152/5152 [==============================] - 3s 604us/step - loss: 0.5793 - accuracy: 0.7075\n",
      "Epoch 24/100\n",
      "5152/5152 [==============================] - 3s 594us/step - loss: 0.5796 - accuracy: 0.7082\n",
      "Epoch 25/100\n",
      "5152/5152 [==============================] - 3s 595us/step - loss: 0.5798 - accuracy: 0.7079\n",
      "Epoch 26/100\n",
      "5152/5152 [==============================] - 3s 622us/step - loss: 0.5810 - accuracy: 0.7074\n",
      "Epoch 27/100\n",
      "5152/5152 [==============================] - 3s 630us/step - loss: 0.5817 - accuracy: 0.7077\n",
      "Epoch 28/100\n",
      "5152/5152 [==============================] - 3s 675us/step - loss: 0.5805 - accuracy: 0.7047\n",
      "Epoch 29/100\n",
      "5152/5152 [==============================] - 4s 683us/step - loss: 0.5800 - accuracy: 0.7082\n",
      "Epoch 30/100\n",
      "5152/5152 [==============================] - 3s 677us/step - loss: 0.5795 - accuracy: 0.7104\n",
      "Epoch 31/100\n",
      "5152/5152 [==============================] - 3s 595us/step - loss: 0.5802 - accuracy: 0.7061\n",
      "Epoch 32/100\n",
      "5152/5152 [==============================] - 3s 570us/step - loss: 0.5809 - accuracy: 0.7040\n",
      "Epoch 33/100\n",
      "5152/5152 [==============================] - 3s 636us/step - loss: 0.5795 - accuracy: 0.7072\n",
      "Epoch 34/100\n",
      "5152/5152 [==============================] - 3s 594us/step - loss: 0.5800 - accuracy: 0.7093\n",
      "Epoch 35/100\n",
      "5152/5152 [==============================] - 3s 595us/step - loss: 0.5808 - accuracy: 0.7081\n",
      "Epoch 36/100\n",
      "5152/5152 [==============================] - 3s 591us/step - loss: 0.5794 - accuracy: 0.7064\n",
      "Epoch 37/100\n",
      "5152/5152 [==============================] - 3s 635us/step - loss: 0.5803 - accuracy: 0.7065\n",
      "Epoch 38/100\n",
      "5152/5152 [==============================] - 3s 596us/step - loss: 0.5799 - accuracy: 0.7079\n",
      "Epoch 39/100\n",
      "5152/5152 [==============================] - 3s 617us/step - loss: 0.5799 - accuracy: 0.7081\n",
      "Epoch 40/100\n",
      "5152/5152 [==============================] - 3s 607us/step - loss: 0.5793 - accuracy: 0.7061\n",
      "Epoch 41/100\n",
      "5152/5152 [==============================] - 3s 594us/step - loss: 0.5805 - accuracy: 0.7065\n",
      "Epoch 42/100\n",
      "5152/5152 [==============================] - 3s 589us/step - loss: 0.5801 - accuracy: 0.7080\n",
      "Epoch 43/100\n",
      "5152/5152 [==============================] - 3s 592us/step - loss: 0.5814 - accuracy: 0.7058\n",
      "Epoch 44/100\n",
      "5152/5152 [==============================] - 3s 600us/step - loss: 0.5801 - accuracy: 0.7075\n",
      "Epoch 45/100\n",
      "5152/5152 [==============================] - 3s 595us/step - loss: 0.5795 - accuracy: 0.7081\n",
      "Epoch 46/100\n",
      "5152/5152 [==============================] - 3s 621us/step - loss: 0.5823 - accuracy: 0.7051\n",
      "Epoch 47/100\n",
      "5152/5152 [==============================] - 3s 608us/step - loss: 0.5833 - accuracy: 0.7041\n",
      "Epoch 48/100\n",
      "5152/5152 [==============================] - 3s 640us/step - loss: 0.5804 - accuracy: 0.7082\n",
      "Epoch 49/100\n",
      "5152/5152 [==============================] - 3s 607us/step - loss: 0.5824 - accuracy: 0.7053\n",
      "Epoch 50/100\n",
      "5152/5152 [==============================] - 3s 600us/step - loss: 0.5813 - accuracy: 0.7053\n",
      "Epoch 51/100\n",
      "5152/5152 [==============================] - 3s 592us/step - loss: 0.5828 - accuracy: 0.7055\n",
      "Epoch 52/100\n",
      "5152/5152 [==============================] - 3s 598us/step - loss: 0.5833 - accuracy: 0.7033\n",
      "Epoch 53/100\n",
      "5152/5152 [==============================] - 3s 601us/step - loss: 0.5822 - accuracy: 0.7061\n",
      "Epoch 54/100\n",
      "5152/5152 [==============================] - 3s 598us/step - loss: 0.5818 - accuracy: 0.7085\n",
      "Epoch 55/100\n",
      "5152/5152 [==============================] - 3s 601us/step - loss: 0.5810 - accuracy: 0.7087\n",
      "Epoch 56/100\n",
      "5152/5152 [==============================] - 3s 598us/step - loss: 0.5834 - accuracy: 0.7044\n",
      "Epoch 57/100\n",
      "5152/5152 [==============================] - 3s 600us/step - loss: 0.5833 - accuracy: 0.7044\n",
      "Epoch 58/100\n",
      "5152/5152 [==============================] - 3s 611us/step - loss: 0.5813 - accuracy: 0.7072\n",
      "Epoch 59/100\n",
      "5152/5152 [==============================] - 3s 622us/step - loss: 0.5814 - accuracy: 0.7046\n",
      "Epoch 60/100\n",
      "5152/5152 [==============================] - 3s 599us/step - loss: 0.5816 - accuracy: 0.7077\n",
      "Epoch 61/100\n",
      "5152/5152 [==============================] - 3s 599us/step - loss: 0.5812 - accuracy: 0.7079\n",
      "Epoch 62/100\n",
      "5152/5152 [==============================] - 3s 598us/step - loss: 0.5818 - accuracy: 0.7085\n",
      "Epoch 63/100\n",
      "5152/5152 [==============================] - 3s 599us/step - loss: 0.5835 - accuracy: 0.7052\n",
      "Epoch 64/100\n",
      "5152/5152 [==============================] - 3s 599us/step - loss: 0.5813 - accuracy: 0.7078\n",
      "Epoch 65/100\n",
      "5152/5152 [==============================] - 3s 598us/step - loss: 0.5824 - accuracy: 0.7068\n",
      "Epoch 66/100\n",
      "5152/5152 [==============================] - 3s 603us/step - loss: 0.5827 - accuracy: 0.7058\n",
      "Epoch 67/100\n",
      "5152/5152 [==============================] - 3s 649us/step - loss: 0.5838 - accuracy: 0.7052\n",
      "Epoch 68/100\n",
      "5152/5152 [==============================] - 3s 611us/step - loss: 0.5836 - accuracy: 0.7045\n",
      "Epoch 69/100\n",
      "5152/5152 [==============================] - 3s 602us/step - loss: 0.5823 - accuracy: 0.7025\n",
      "Epoch 70/100\n",
      "5152/5152 [==============================] - 3s 597us/step - loss: 0.5819 - accuracy: 0.7078\n",
      "Epoch 71/100\n",
      "5152/5152 [==============================] - 3s 604us/step - loss: 0.5838 - accuracy: 0.7037\n",
      "Epoch 72/100\n",
      "5152/5152 [==============================] - 3s 601us/step - loss: 0.5827 - accuracy: 0.7062\n",
      "Epoch 73/100\n",
      "5152/5152 [==============================] - 3s 604us/step - loss: 0.5830 - accuracy: 0.7050\n",
      "Epoch 74/100\n",
      "5152/5152 [==============================] - 3s 598us/step - loss: 0.5816 - accuracy: 0.7055\n",
      "Epoch 75/100\n",
      "5152/5152 [==============================] - 3s 598us/step - loss: 0.5824 - accuracy: 0.7078\n",
      "Epoch 76/100\n",
      "5152/5152 [==============================] - 3s 596us/step - loss: 0.5850 - accuracy: 0.7045\n",
      "Epoch 77/100\n",
      "5152/5152 [==============================] - 3s 600us/step - loss: 0.5845 - accuracy: 0.7036\n",
      "Epoch 78/100\n"
     ]
    },
    {
     "name": "stdout",
     "output_type": "stream",
     "text": [
      "5152/5152 [==============================] - 3s 613us/step - loss: 0.5812 - accuracy: 0.7071\n",
      "Epoch 79/100\n",
      "5152/5152 [==============================] - 3s 586us/step - loss: 0.5830 - accuracy: 0.7060\n",
      "Epoch 80/100\n",
      "5152/5152 [==============================] - 3s 586us/step - loss: 0.5828 - accuracy: 0.7060\n",
      "Epoch 81/100\n",
      "5152/5152 [==============================] - 3s 623us/step - loss: 0.5832 - accuracy: 0.7065\n",
      "Epoch 82/100\n",
      "5152/5152 [==============================] - 3s 617us/step - loss: 0.5832 - accuracy: 0.7045\n",
      "Epoch 83/100\n",
      "5152/5152 [==============================] - 3s 609us/step - loss: 0.5832 - accuracy: 0.7059\n",
      "Epoch 84/100\n",
      "5152/5152 [==============================] - 3s 596us/step - loss: 0.5833 - accuracy: 0.7046\n",
      "Epoch 85/100\n",
      "5152/5152 [==============================] - 3s 670us/step - loss: 0.5840 - accuracy: 0.7065\n",
      "Epoch 86/100\n",
      "5152/5152 [==============================] - 3s 640us/step - loss: 0.5859 - accuracy: 0.7047\n",
      "Epoch 87/100\n",
      "5152/5152 [==============================] - 3s 585us/step - loss: 0.5838 - accuracy: 0.7036\n",
      "Epoch 88/100\n",
      "5152/5152 [==============================] - 3s 570us/step - loss: 0.5823 - accuracy: 0.7078\n",
      "Epoch 89/100\n",
      "5152/5152 [==============================] - 3s 570us/step - loss: 0.5822 - accuracy: 0.7080\n",
      "Epoch 90/100\n",
      "5152/5152 [==============================] - 3s 581us/step - loss: 0.5827 - accuracy: 0.7061\n",
      "Epoch 91/100\n",
      "5152/5152 [==============================] - 3s 562us/step - loss: 0.5824 - accuracy: 0.7061\n",
      "Epoch 92/100\n",
      "5152/5152 [==============================] - 3s 562us/step - loss: 0.5825 - accuracy: 0.7067\n",
      "Epoch 93/100\n",
      "5152/5152 [==============================] - 3s 578us/step - loss: 0.5832 - accuracy: 0.7059\n",
      "Epoch 94/100\n",
      "5152/5152 [==============================] - 3s 570us/step - loss: 0.5827 - accuracy: 0.7062\n",
      "Epoch 95/100\n",
      "5152/5152 [==============================] - 3s 561us/step - loss: 0.5859 - accuracy: 0.7033\n",
      "Epoch 96/100\n",
      "5152/5152 [==============================] - 3s 562us/step - loss: 0.5820 - accuracy: 0.7065\n",
      "Epoch 97/100\n",
      "5152/5152 [==============================] - 3s 568us/step - loss: 0.5832 - accuracy: 0.7049\n",
      "Epoch 98/100\n",
      "5152/5152 [==============================] - 3s 583us/step - loss: 0.5845 - accuracy: 0.7019\n",
      "Epoch 99/100\n",
      "5152/5152 [==============================] - 3s 563us/step - loss: 0.5835 - accuracy: 0.7047\n",
      "Epoch 100/100\n",
      "5152/5152 [==============================] - 3s 563us/step - loss: 0.5822 - accuracy: 0.7069\n",
      "1610/1610 [==============================] - 1s 355us/step - loss: 0.5724 - accuracy: 0.7146\n",
      "\n",
      " Training Accuracy: 0.7146101593971252\n",
      "403/403 [==============================] - 0s 367us/step - loss: 0.5778 - accuracy: 0.7091\n",
      "\n",
      " Testing Accuracy: 0.7091163396835327\n"
     ]
    }
   ],
   "source": [
    "model.fit(x_training, y_training, batch_size=batch_size, epochs=epochs, verbose=1)\n",
    "score = model.evaluate(x_training, y_training)\n",
    "print(\"\\n Training Accuracy:\", score[1])\n",
    "score = model.evaluate(x_testing, y_testing)\n",
    "print(\"\\n Testing Accuracy:\", score[1])"
   ]
  },
  {
   "cell_type": "markdown",
   "id": "98600c49",
   "metadata": {},
   "source": [
    "## Prediction"
   ]
  },
  {
   "cell_type": "code",
   "execution_count": 30,
   "id": "1477c0e6",
   "metadata": {},
   "outputs": [
    {
     "name": "stderr",
     "output_type": "stream",
     "text": [
      "<ipython-input-30-eb6ebe203d1a>:9: DeprecationWarning: `np.float` is a deprecated alias for the builtin `float`. To silence this warning, use `float` by itself. Doing this will not modify any behavior and is safe. If you specifically wanted the numpy scalar type, use `np.float64` here.\n",
      "Deprecated in NumPy 1.20; for more details and guidance: https://numpy.org/devdocs/release/1.20.0-notes.html#deprecations\n",
      "  predictionarray=prediction.astype(np.float)\n",
      "C:\\Users\\Aditya\\anaconda3\\lib\\site-packages\\seaborn\\distributions.py:2557: FutureWarning: `distplot` is a deprecated function and will be removed in a future version. Please adapt your code to use either `displot` (a figure-level function with similar flexibility) or `histplot` (an axes-level function for histograms).\n",
      "  warnings.warn(msg, FutureWarning)\n"
     ]
    },
    {
     "data": {
      "text/plain": [
       "<AxesSubplot:xlabel='Pr', ylabel='Density'>"
      ]
     },
     "execution_count": 30,
     "metadata": {},
     "output_type": "execute_result"
    },
    {
     "data": {
      "image/png": "[encoded data removed]",
      "text/plain": [
       "<Figure size 432x288 with 1 Axes>"
      ]
     },
     "metadata": {
      "needs_background": "light"
     },
     "output_type": "display_data"
    }
   ],
   "source": [
    "res=model.predict(x_testing)\n",
    "res\n",
    "resdf=pd.DataFrame(res, index=x_testing.index)\n",
    "resdf.columns=[\"Pr\"]\n",
    "resdf[\"ID\"]=range(12878)\n",
    "resdf[\"y\"]=np.where(resdf[\"Pr\"]>=0.5,\"1\", \"0\")\n",
    "resdf\n",
    "prediction=resdf.drop([\"Pr\",\"ID\"], axis=1)\n",
    "predictionarray=prediction.astype(np.float)\n",
    "sns.distplot(resdf[\"Pr\"],  color=\"red\")"
   ]
  },
  {
   "cell_type": "markdown",
   "id": "8c9c8212",
   "metadata": {},
   "source": [
    "### How many 1's and 0's predict the model"
   ]
  },
  {
   "cell_type": "code",
   "execution_count": 31,
   "id": "b15e8eb7",
   "metadata": {},
   "outputs": [
    {
     "data": {
      "text/html": [
       "<div>\n",
       "<style scoped>\n",
       "    .dataframe tbody tr th:only-of-type {\n",
       "        vertical-align: middle;\n",
       "    }\n",
       "\n",
       "    .dataframe tbody tr th {\n",
       "        vertical-align: top;\n",
       "    }\n",
       "\n",
       "    .dataframe thead th {\n",
       "        text-align: right;\n",
       "    }\n",
       "</style>\n",
       "<table border=\"1\" class=\"dataframe\">\n",
       "  <thead>\n",
       "    <tr style=\"text-align: right;\">\n",
       "      <th></th>\n",
       "      <th>ID</th>\n",
       "    </tr>\n",
       "    <tr>\n",
       "      <th>y</th>\n",
       "      <th></th>\n",
       "    </tr>\n",
       "  </thead>\n",
       "  <tbody>\n",
       "    <tr>\n",
       "      <th>0</th>\n",
       "      <td>5693</td>\n",
       "    </tr>\n",
       "    <tr>\n",
       "      <th>1</th>\n",
       "      <td>7185</td>\n",
       "    </tr>\n",
       "  </tbody>\n",
       "</table>\n",
       "</div>"
      ],
      "text/plain": [
       "     ID\n",
       "y      \n",
       "0  5693\n",
       "1  7185"
      ]
     },
     "execution_count": 31,
     "metadata": {},
     "output_type": "execute_result"
    }
   ],
   "source": [
    "c1=resdf[['ID','y']].groupby('y').count()\n",
    "c1"
   ]
  },
  {
   "cell_type": "markdown",
   "id": "99bd3a3c",
   "metadata": {},
   "source": [
    "### How many 1's and 0's are in the test sample"
   ]
  },
  {
   "cell_type": "code",
   "execution_count": 33,
   "id": "85fdff20",
   "metadata": {},
   "outputs": [
    {
     "data": {
      "text/html": [
       "<div>\n",
       "<style scoped>\n",
       "    .dataframe tbody tr th:only-of-type {\n",
       "        vertical-align: middle;\n",
       "    }\n",
       "\n",
       "    .dataframe tbody tr th {\n",
       "        vertical-align: top;\n",
       "    }\n",
       "\n",
       "    .dataframe thead th {\n",
       "        text-align: right;\n",
       "    }\n",
       "</style>\n",
       "<table border=\"1\" class=\"dataframe\">\n",
       "  <thead>\n",
       "    <tr style=\"text-align: right;\">\n",
       "      <th></th>\n",
       "      <th>ID</th>\n",
       "    </tr>\n",
       "    <tr>\n",
       "      <th>cardio</th>\n",
       "      <th></th>\n",
       "    </tr>\n",
       "  </thead>\n",
       "  <tbody>\n",
       "    <tr>\n",
       "      <th>0.0</th>\n",
       "      <td>6327</td>\n",
       "    </tr>\n",
       "    <tr>\n",
       "      <th>1.0</th>\n",
       "      <td>6551</td>\n",
       "    </tr>\n",
       "  </tbody>\n",
       "</table>\n",
       "</div>"
      ],
      "text/plain": [
       "          ID\n",
       "cardio      \n",
       "0.0     6327\n",
       "1.0     6551"
      ]
     },
     "execution_count": 33,
     "metadata": {},
     "output_type": "execute_result"
    }
   ],
   "source": [
    "y_testingdf=pd.DataFrame(y_testing, index=y_testing.index)\n",
    "y_testingdf[\"ID\"]=range(12878)\n",
    "y_test=y_testingdf.drop([\"ID\"], axis=1)\n",
    "c2=y_testingdf[['ID','cardio']].groupby('cardio').count()\n",
    "c2"
   ]
  },
  {
   "cell_type": "markdown",
   "id": "68812d65",
   "metadata": {},
   "source": [
    "## Confusion Matrix"
   ]
  },
  {
   "cell_type": "code",
   "execution_count": 34,
   "id": "ecec8569",
   "metadata": {},
   "outputs": [
    {
     "data": {
      "text/plain": [
       "array([[4137, 2190],\n",
       "       [1556, 4995]], dtype=int64)"
      ]
     },
     "execution_count": 34,
     "metadata": {},
     "output_type": "execute_result"
    }
   ],
   "source": [
    "from sklearn.metrics import confusion_matrix\n",
    "cm=confusion_matrix(y_test.values, predictionarray)\n",
    "cm"
   ]
  },
  {
   "cell_type": "markdown",
   "id": "70e9b154",
   "metadata": {},
   "source": [
    "## Accuracy of the Model"
   ]
  },
  {
   "cell_type": "code",
   "execution_count": 35,
   "id": "9996b97f",
   "metadata": {},
   "outputs": [
    {
     "name": "stdout",
     "output_type": "stream",
     "text": [
      "The accuracy of the model is: 72.66818900404004 %\n"
     ]
    }
   ],
   "source": [
    "Accuracy=cm[0,0]/(cm[0,0]+cm[1,0])\n",
    "print(\"The accuracy of the model is: \"+ str(Accuracy*100) + \" %\")"
   ]
  },
  {
   "cell_type": "markdown",
   "id": "8460e08c",
   "metadata": {},
   "source": [
    "## Predicting a single case"
   ]
  },
  {
   "cell_type": "code",
   "execution_count": 217,
   "id": "c5444af5",
   "metadata": {},
   "outputs": [
    {
     "data": {
      "text/html": [
       "<div>\n",
       "<style scoped>\n",
       "    .dataframe tbody tr th:only-of-type {\n",
       "        vertical-align: middle;\n",
       "    }\n",
       "\n",
       "    .dataframe tbody tr th {\n",
       "        vertical-align: top;\n",
       "    }\n",
       "\n",
       "    .dataframe thead th {\n",
       "        text-align: right;\n",
       "    }\n",
       "</style>\n",
       "<table border=\"1\" class=\"dataframe\">\n",
       "  <thead>\n",
       "    <tr style=\"text-align: right;\">\n",
       "      <th></th>\n",
       "      <th>0</th>\n",
       "      <th>1</th>\n",
       "      <th>2</th>\n",
       "      <th>3</th>\n",
       "      <th>4</th>\n",
       "      <th>5</th>\n",
       "      <th>6</th>\n",
       "      <th>7</th>\n",
       "      <th>8</th>\n",
       "      <th>9</th>\n",
       "      <th>10</th>\n",
       "    </tr>\n",
       "  </thead>\n",
       "  <tbody>\n",
       "    <tr>\n",
       "      <th>0</th>\n",
       "      <td>658.733546</td>\n",
       "      <td>1.0</td>\n",
       "      <td>0.74359</td>\n",
       "      <td>0.73545</td>\n",
       "      <td>0.197917</td>\n",
       "      <td>0.733945</td>\n",
       "      <td>1.0</td>\n",
       "      <td>1.0</td>\n",
       "      <td>1.0</td>\n",
       "      <td>1.0</td>\n",
       "      <td>0.0</td>\n",
       "    </tr>\n",
       "  </tbody>\n",
       "</table>\n",
       "</div>"
      ],
      "text/plain": [
       "           0    1        2        3         4         5    6    7    8    9   \\\n",
       "0  658.733546  1.0  0.74359  0.73545  0.197917  0.733945  1.0  1.0  1.0  1.0   \n",
       "\n",
       "    10  \n",
       "0  0.0  "
      ]
     },
     "execution_count": 217,
     "metadata": {},
     "output_type": "execute_result"
    }
   ],
   "source": [
    "#INSERT DATA#\n",
    "###############################################################################\n",
    "\n",
    "day= 23 # day of bith \n",
    "month= 9 # month of bith (in numbers)\n",
    "year= 1959 # year of bith\n",
    "gender= 1 # 0 for women, 1 for men\n",
    "height= 200 # in cm\n",
    "weight= 150 # in kilograms\n",
    "systolicbloodpressure= 120 # Systolic blood pressure\n",
    "diastolicbloodpressure= 80 # Diastolic blood pressure\n",
    "cholesterol= 3 # 1: normal, 2: above normal, 3: well above normal\n",
    "gluc= 3 # 1: normal, 2: above normal, 3: well above normal\n",
    "smoke= 1 # 1 if you smoke, 0 if not\n",
    "alco= 1 # 1 if you drink alcohol, 0 if not\n",
    "\n",
    "##############################################################################\n",
    "from datetime import date\n",
    "f_date = date(year,month,day)\n",
    "l_date = date.today()\n",
    "delta = l_date - f_date\n",
    "agedays=delta.days\n",
    "\n",
    "agedayscale=(agedays-df[\"age\"].min())/(df[\"age\"].max()-df[\"age\"].min())\n",
    "heightscale=(height-df[\"height\"].min())/(df[\"height\"].max()-df[\"height\"].min())\n",
    "weightscale=(weight-df[\"weight\"].min())/(df[\"weight\"].max()-df[\"weight\"].min())\n",
    "sbpscale=(systolicbloodpressure-df[\"ap_hi\"].min())/(df[\"ap_hi\"].max()-df[\"ap_hi\"].min())\n",
    "dbpscale=(diastolicbloodpressure-df[\"ap_lo\"].min())/(df[\"ap_lo\"].max()-df[\"ap_lo\"].min())\n",
    "cholesterolscale=(cholesterol-df[\"cholesterol\"].min())/(df[\"cholesterol\"].max()-df[\"cholesterol\"].min())\n",
    "glucscale=(gluc-df[\"gluc\"].min())/(df[\"gluc\"].max()-df[\"gluc\"].min())\n",
    "\n",
    "single=np.array([agedayscale, gender, heightscale, weightscale, sbpscale, dbpscale, cholesterolscale, glucscale, smoke, alco, active ])\n",
    "singledf=pd.DataFrame(single)\n",
    "final=singledf.transpose()\n",
    "final"
   ]
  },
  {
   "cell_type": "code",
   "execution_count": 218,
   "id": "5217cad1",
   "metadata": {},
   "outputs": [
    {
     "name": "stdout",
     "output_type": "stream",
     "text": [
      "The probability of having or to have a Cardiovascular Disease is: 53.72%\n"
     ]
    }
   ],
   "source": [
    "finalres=model.predict(final) \n",
    "print(\"The probability of having or to have a Cardiovascular Disease is: \"+ str(round(finalres[0,0]*100,2)) + \"%\")"
   ]
  },
  {
   "cell_type": "code",
   "execution_count": 219,
   "id": "12859116",
   "metadata": {},
   "outputs": [
    {
     "name": "stdout",
     "output_type": "stream",
     "text": [
      "WARNING:tensorflow:6 out of the last 414 calls to <function Model.make_predict_function.<locals>.predict_function at 0x000001C2637CAC10> triggered tf.function retracing. Tracing is expensive and the excessive number of tracings could be due to (1) creating @tf.function repeatedly in a loop, (2) passing tensors with different shapes, (3) passing Python objects instead of tensors. For (1), please define your @tf.function outside of the loop. For (2), @tf.function has experimental_relax_shapes=True option that relaxes argument shapes that can avoid unnecessary retracing. For (3), please refer to https://www.tensorflow.org/tutorials/customization/performance#python_or_tensor_args and https://www.tensorflow.org/api_docs/python/tf/function for  more details.\n",
      "The probability of having or to have a Cardiovascular Disease is: 53.72%\n",
      "You must visit a doctor to check it :(\n"
     ]
    }
   ],
   "source": [
    "from keras.models import model_from_json\n",
    "\n",
    "model.save_weights(\"weights_final.hdf5\")\n",
    "json_string = model.to_json()\n",
    "modeltopredict = model_from_json(json_string)\n",
    "modeltopredict.load_weights(\"weights_final.hdf5\", by_name=False)\n",
    "\n",
    "prediction=modeltopredict.predict(final)\n",
    "\n",
    "if prediction[0,0]>=0.5:\n",
    "    print(\"The probability of having or to have a Cardiovascular Disease is: \"+ str(round(prediction[0,0]*100,2)) + \"%\")\n",
    "    print(\"You must visit a doctor to check it :(\")\n",
    "elif prediction[0,0]<0.5 and prediction[0,0]>=0.3:\n",
    "    print(\"The probability of having or to have a Cardiovascular Disease is: \"+ str(round(prediction[0,0]*100,2)) + \"%\")\n",
    "    print(\"Probably you are healthy :/ \")\n",
    "else:\n",
    "    print(\"The probability of having or to have a Cardiovascular Disease is: \"+ str(round(prediction[0,0]*100,2)) + \"%\")\n",
    "    print(\"You are healthy :) \")"
   ]
  },
  {
   "cell_type": "code",
   "execution_count": 220,
   "id": "b07697b3",
   "metadata": {},
   "outputs": [],
   "source": [
    "# import pickle\n",
    "\n",
    "# with open('model.pkl', 'wb') as f:\n",
    "#     pickle.dump(model, f)"
   ]
  },
  {
   "cell_type": "code",
   "execution_count": 221,
   "id": "977fe027",
   "metadata": {},
   "outputs": [],
   "source": [
    "with open('model.json', 'r') as json_file:\n",
    "    loaded_model_json = json_file.read()"
   ]
  },
  {
   "cell_type": "code",
   "execution_count": 222,
   "id": "453e1f0e",
   "metadata": {},
   "outputs": [],
   "source": [
    "model_json = model.to_json()\n",
    "with open(\"model.json\", \"w\") as json_file:\n",
    "    json_file.write(model_json)"
   ]
  },
  {
   "cell_type": "code",
   "execution_count": 223,
   "id": "d343c7c7",
   "metadata": {},
   "outputs": [
    {
     "name": "stdout",
     "output_type": "stream",
     "text": [
      "Model: \"sequential_11\"\n",
      "_________________________________________________________________\n",
      "Layer (type)                 Output Shape              Param #   \n",
      "=================================================================\n",
      "dense_40 (Dense)             (None, 25)                300       \n",
      "_________________________________________________________________\n",
      "dense_41 (Dense)             (None, 5)                 130       \n",
      "_________________________________________________________________\n",
      "dense_42 (Dense)             (None, 3)                 18        \n",
      "_________________________________________________________________\n",
      "dense_43 (Dense)             (None, 1)                 4         \n",
      "=================================================================\n",
      "Total params: 452\n",
      "Trainable params: 452\n",
      "Non-trainable params: 0\n",
      "_________________________________________________________________\n"
     ]
    }
   ],
   "source": [
    "model_org = Sequential()\n",
    "model_org.add(Dense(25, input_dim=11, activation='softsign', kernel_constraint=maxnorm(2)))\n",
    "#model.add(Dropout(0))\n",
    "model_org.add(Dense(5, activation='softsign'))\n",
    "#model.add(Dropout(0))\n",
    "model_org.add(Dense(3, activation='softsign'))\n",
    "#model.add(Dropout(0))\n",
    "model_org.add(Dense(1, activation='sigmoid'))\n",
    "\n",
    "model_org.compile(loss = 'binary_crossentropy', optimizer='Nadam', metrics=['accuracy'])\n",
    "\n",
    "model_org.summary()"
   ]
  },
  {
   "cell_type": "code",
   "execution_count": 224,
   "id": "7b131181",
   "metadata": {},
   "outputs": [
    {
     "name": "stdout",
     "output_type": "stream",
     "text": [
      "1610/1610 [==============================] - 1s 421us/step - loss: 0.5476 - accuracy: 0.7289\n",
      "\n",
      " Training Accuracy: 0.7288593053817749\n",
      "403/403 [==============================] - 0s 432us/step - loss: 0.5563 - accuracy: 0.7232\n",
      "\n",
      " Testing Accuracy: 0.7231712937355042\n"
     ]
    }
   ],
   "source": [
    "model_org.fit(x_training, y_training, epochs=50, batch_size=50, verbose=0)\n",
    "score = model.evaluate(x_training, y_training)\n",
    "print(\"\\n Training Accuracy:\", score[1])\n",
    "score = model.evaluate(x_testing, y_testing)\n",
    "print(\"\\n Testing Accuracy:\", score[1])"
   ]
  },
  {
   "cell_type": "code",
   "execution_count": 225,
   "id": "c00ee8d2",
   "metadata": {},
   "outputs": [
    {
     "name": "stdout",
     "output_type": "stream",
     "text": [
      "WARNING:tensorflow:6 out of the last 11 calls to <function Model.make_predict_function.<locals>.predict_function at 0x000001C263DC6EE0> triggered tf.function retracing. Tracing is expensive and the excessive number of tracings could be due to (1) creating @tf.function repeatedly in a loop, (2) passing tensors with different shapes, (3) passing Python objects instead of tensors. For (1), please define your @tf.function outside of the loop. For (2), @tf.function has experimental_relax_shapes=True option that relaxes argument shapes that can avoid unnecessary retracing. For (3), please refer to https://www.tensorflow.org/tutorials/customization/performance#python_or_tensor_args and https://www.tensorflow.org/api_docs/python/tf/function for  more details.\n"
     ]
    },
    {
     "name": "stderr",
     "output_type": "stream",
     "text": [
      "<ipython-input-225-c7d7a6471fd9>:9: DeprecationWarning: `np.float` is a deprecated alias for the builtin `float`. To silence this warning, use `float` by itself. Doing this will not modify any behavior and is safe. If you specifically wanted the numpy scalar type, use `np.float64` here.\n",
      "Deprecated in NumPy 1.20; for more details and guidance: https://numpy.org/devdocs/release/1.20.0-notes.html#deprecations\n",
      "  predictionarray=prediction.astype(np.float)\n",
      "C:\\Users\\Aditya\\anaconda3\\lib\\site-packages\\seaborn\\distributions.py:2557: FutureWarning: `distplot` is a deprecated function and will be removed in a future version. Please adapt your code to use either `displot` (a figure-level function with similar flexibility) or `histplot` (an axes-level function for histograms).\n",
      "  warnings.warn(msg, FutureWarning)\n"
     ]
    },
    {
     "data": {
      "text/plain": [
       "<AxesSubplot:xlabel='Pr', ylabel='Density'>"
      ]
     },
     "execution_count": 225,
     "metadata": {},
     "output_type": "execute_result"
    },
    {
     "data": {
      "image/png": "[encoded data removed]",
      "text/plain": [
       "<Figure size 432x288 with 1 Axes>"
      ]
     },
     "metadata": {
      "needs_background": "light"
     },
     "output_type": "display_data"
    }
   ],
   "source": [
    "res=model_org.predict(x_testing)\n",
    "res\n",
    "resdf=pd.DataFrame(res, index=x_testing.index)\n",
    "resdf.columns=[\"Pr\"]\n",
    "resdf[\"ID\"]=range(12878)\n",
    "resdf[\"y\"]=np.where(resdf[\"Pr\"]>=0.5,\"1\", \"0\")\n",
    "resdf\n",
    "prediction=resdf.drop([\"Pr\",\"ID\"], axis=1)\n",
    "predictionarray=prediction.astype(np.float)\n",
    "sns.distplot(resdf[\"Pr\"],  color=\"red\")"
   ]
  },
  {
   "cell_type": "code",
   "execution_count": 226,
   "id": "bfc2a3f0",
   "metadata": {},
   "outputs": [
    {
     "data": {
      "text/html": [
       "<div>\n",
       "<style scoped>\n",
       "    .dataframe tbody tr th:only-of-type {\n",
       "        vertical-align: middle;\n",
       "    }\n",
       "\n",
       "    .dataframe tbody tr th {\n",
       "        vertical-align: top;\n",
       "    }\n",
       "\n",
       "    .dataframe thead th {\n",
       "        text-align: right;\n",
       "    }\n",
       "</style>\n",
       "<table border=\"1\" class=\"dataframe\">\n",
       "  <thead>\n",
       "    <tr style=\"text-align: right;\">\n",
       "      <th></th>\n",
       "      <th>ID</th>\n",
       "    </tr>\n",
       "    <tr>\n",
       "      <th>y</th>\n",
       "      <th></th>\n",
       "    </tr>\n",
       "  </thead>\n",
       "  <tbody>\n",
       "    <tr>\n",
       "      <th>0</th>\n",
       "      <td>6913</td>\n",
       "    </tr>\n",
       "    <tr>\n",
       "      <th>1</th>\n",
       "      <td>5965</td>\n",
       "    </tr>\n",
       "  </tbody>\n",
       "</table>\n",
       "</div>"
      ],
      "text/plain": [
       "     ID\n",
       "y      \n",
       "0  6913\n",
       "1  5965"
      ]
     },
     "execution_count": 226,
     "metadata": {},
     "output_type": "execute_result"
    }
   ],
   "source": [
    "c1=resdf[['ID','y']].groupby('y').count()\n",
    "c1"
   ]
  },
  {
   "cell_type": "code",
   "execution_count": 227,
   "id": "8bc71dc9",
   "metadata": {},
   "outputs": [
    {
     "data": {
      "text/html": [
       "<div>\n",
       "<style scoped>\n",
       "    .dataframe tbody tr th:only-of-type {\n",
       "        vertical-align: middle;\n",
       "    }\n",
       "\n",
       "    .dataframe tbody tr th {\n",
       "        vertical-align: top;\n",
       "    }\n",
       "\n",
       "    .dataframe thead th {\n",
       "        text-align: right;\n",
       "    }\n",
       "</style>\n",
       "<table border=\"1\" class=\"dataframe\">\n",
       "  <thead>\n",
       "    <tr style=\"text-align: right;\">\n",
       "      <th></th>\n",
       "      <th>ID</th>\n",
       "    </tr>\n",
       "    <tr>\n",
       "      <th>cardio</th>\n",
       "      <th></th>\n",
       "    </tr>\n",
       "  </thead>\n",
       "  <tbody>\n",
       "    <tr>\n",
       "      <th>0.0</th>\n",
       "      <td>6327</td>\n",
       "    </tr>\n",
       "    <tr>\n",
       "      <th>1.0</th>\n",
       "      <td>6551</td>\n",
       "    </tr>\n",
       "  </tbody>\n",
       "</table>\n",
       "</div>"
      ],
      "text/plain": [
       "          ID\n",
       "cardio      \n",
       "0.0     6327\n",
       "1.0     6551"
      ]
     },
     "execution_count": 227,
     "metadata": {},
     "output_type": "execute_result"
    }
   ],
   "source": [
    "y_testingdf=pd.DataFrame(y_testing, index=y_testing.index)\n",
    "y_testingdf[\"ID\"]=range(12878)\n",
    "y_test=y_testingdf.drop([\"ID\"], axis=1)\n",
    "c2=y_testingdf[['ID','cardio']].groupby('cardio').count()\n",
    "c2"
   ]
  },
  {
   "cell_type": "code",
   "execution_count": 228,
   "id": "3886b746",
   "metadata": {},
   "outputs": [
    {
     "data": {
      "text/plain": [
       "array([[4854, 1473],\n",
       "       [2059, 4492]], dtype=int64)"
      ]
     },
     "execution_count": 228,
     "metadata": {},
     "output_type": "execute_result"
    }
   ],
   "source": [
    "from sklearn.metrics import confusion_matrix\n",
    "cm=confusion_matrix(y_test.values, predictionarray)\n",
    "cm"
   ]
  },
  {
   "cell_type": "code",
   "execution_count": 229,
   "id": "3003b391",
   "metadata": {},
   "outputs": [
    {
     "name": "stdout",
     "output_type": "stream",
     "text": [
      "The accuracy of the model is: 70.21553594676696 %\n"
     ]
    }
   ],
   "source": [
    "Accuracy=cm[0,0]/(cm[0,0]+cm[1,0])\n",
    "print(\"The accuracy of the model is: \"+ str(Accuracy*100) + \" %\")"
   ]
  },
  {
   "cell_type": "code",
   "execution_count": 230,
   "id": "9ea5a6bb",
   "metadata": {},
   "outputs": [
    {
     "name": "stdout",
     "output_type": "stream",
     "text": [
      "The probability of having or to have a Cardiovascular Disease is: 60.67%\n"
     ]
    }
   ],
   "source": [
    "finalres=model_org.predict(final) \n",
    "print(\"The probability of having or to have a Cardiovascular Disease is: \"+ str(round(finalres[0,0]*100,2)) + \"%\")"
   ]
  },
  {
   "cell_type": "code",
   "execution_count": null,
   "id": "217078fe",
   "metadata": {},
   "outputs": [],
   "source": [
    "\n"
   ]
  },
  {
   "cell_type": "code",
   "execution_count": 193,
   "id": "6bceab0b",
   "metadata": {},
   "outputs": [],
   "source": [
    "model_json = model_org.to_json()\n",
    "with open(\"model_org.json\", \"w\") as json_file:\n",
    "    json_file.write(model_json)"
   ]
  },
  {
   "cell_type": "code",
   "execution_count": 194,
   "id": "e35647c2",
   "metadata": {},
   "outputs": [],
   "source": [
    "model_org.save_weights(\"model_weights_org.h5\")"
   ]
  },
  {
   "cell_type": "code",
   "execution_count": 195,
   "id": "8c12d7ff",
   "metadata": {},
   "outputs": [],
   "source": [
    "with open('model_org.json', 'r') as json_file:\n",
    "    loaded_model_json = json_file.read()\n",
    "loaded_model = model_from_json(loaded_model_json)"
   ]
  },
  {
   "cell_type": "code",
   "execution_count": 196,
   "id": "8ebe3672",
   "metadata": {},
   "outputs": [],
   "source": [
    "loaded_model.load_weights(\"model_weights_org.h5\")"
   ]
  },
  {
   "cell_type": "code",
   "execution_count": 244,
   "id": "a9b6146d",
   "metadata": {},
   "outputs": [
    {
     "data": {
      "text/html": [
       "<div>\n",
       "<style scoped>\n",
       "    .dataframe tbody tr th:only-of-type {\n",
       "        vertical-align: middle;\n",
       "    }\n",
       "\n",
       "    .dataframe tbody tr th {\n",
       "        vertical-align: top;\n",
       "    }\n",
       "\n",
       "    .dataframe thead th {\n",
       "        text-align: right;\n",
       "    }\n",
       "</style>\n",
       "<table border=\"1\" class=\"dataframe\">\n",
       "  <thead>\n",
       "    <tr style=\"text-align: right;\">\n",
       "      <th></th>\n",
       "      <th>0</th>\n",
       "      <th>1</th>\n",
       "      <th>2</th>\n",
       "      <th>3</th>\n",
       "      <th>4</th>\n",
       "      <th>5</th>\n",
       "      <th>6</th>\n",
       "      <th>7</th>\n",
       "      <th>8</th>\n",
       "      <th>9</th>\n",
       "      <th>10</th>\n",
       "    </tr>\n",
       "  </thead>\n",
       "  <tbody>\n",
       "    <tr>\n",
       "      <th>0</th>\n",
       "      <td>752.070639</td>\n",
       "      <td>0.0</td>\n",
       "      <td>0.615385</td>\n",
       "      <td>0.470899</td>\n",
       "      <td>-0.21875</td>\n",
       "      <td>1.100917</td>\n",
       "      <td>1.0</td>\n",
       "      <td>1.0</td>\n",
       "      <td>1.0</td>\n",
       "      <td>1.0</td>\n",
       "      <td>0.0</td>\n",
       "    </tr>\n",
       "  </tbody>\n",
       "</table>\n",
       "</div>"
      ],
      "text/plain": [
       "           0    1         2         3        4         5    6    7    8    9   \\\n",
       "0  752.070639  0.0  0.615385  0.470899 -0.21875  1.100917  1.0  1.0  1.0  1.0   \n",
       "\n",
       "    10  \n",
       "0  0.0  "
      ]
     },
     "execution_count": 244,
     "metadata": {},
     "output_type": "execute_result"
    }
   ],
   "source": [
    "#INSERT DATA#\n",
    "###############################################################################\n",
    "\n",
    "day= 23 # day of bith \n",
    "month= 9 # month of bith (in numbers)\n",
    "year= 1950 # year of bith\n",
    "gender= 0 # 0 for women, 1 for men\n",
    "height= 175 # in cm\n",
    "weight= 100 # in kilograms\n",
    "systolicbloodpressure= 80 # Systolic blood pressure\n",
    "diastolicbloodpressure= 120 # Diastolic blood pressure\n",
    "cholesterol= 3 # 1: normal, 2: above normal, 3: well above normal\n",
    "gluc= 3 # 1: normal, 2: above normal, 3: well above normal\n",
    "smoke= 1 # 1 if you smoke, 0 if not\n",
    "alco= 1 # 1 if you drink alcohol, 0 if not\n",
    "active= 0 # 1 if you do physical activity, 0 if not\n",
    "\n",
    "##############################################################################\n",
    "from datetime import date\n",
    "f_date = date(year,month,day)\n",
    "l_date = date.today()\n",
    "delta = l_date - f_date\n",
    "agedays=delta.days\n",
    "\n",
    "agedayscale=(agedays-df[\"age\"].min())/(df[\"age\"].max()-df[\"age\"].min())\n",
    "heightscale=(height-df[\"height\"].min())/(df[\"height\"].max()-df[\"height\"].min())\n",
    "weightscale=(weight-df[\"weight\"].min())/(df[\"weight\"].max()-df[\"weight\"].min())\n",
    "sbpscale=(systolicbloodpressure-df[\"ap_hi\"].min())/(df[\"ap_hi\"].max()-df[\"ap_hi\"].min())\n",
    "dbpscale=(diastolicbloodpressure-df[\"ap_lo\"].min())/(df[\"ap_lo\"].max()-df[\"ap_lo\"].min())\n",
    "cholesterolscale=(cholesterol-df[\"cholesterol\"].min())/(df[\"cholesterol\"].max()-df[\"cholesterol\"].min())\n",
    "glucscale=(gluc-df[\"gluc\"].min())/(df[\"gluc\"].max()-df[\"gluc\"].min())\n",
    "\n",
    "single=np.array([agedayscale, gender, heightscale, weightscale, sbpscale, dbpscale, cholesterolscale, glucscale, smoke, alco, active ])\n",
    "singledf=pd.DataFrame(single)\n",
    "final=singledf.transpose()\n",
    "final"
   ]
  },
  {
   "cell_type": "code",
   "execution_count": 213,
   "id": "7109b52b",
   "metadata": {},
   "outputs": [],
   "source": [
    "with open('model_org.json', 'r') as json_file:\n",
    "    loaded_model_json = json_file.read()\n",
    "loaded_model = model_from_json(loaded_model_json)"
   ]
  },
  {
   "cell_type": "code",
   "execution_count": 214,
   "id": "cde89026",
   "metadata": {},
   "outputs": [],
   "source": [
    "loaded_model.load_weights(\"model_weights_org.h5\")"
   ]
  },
  {
   "cell_type": "code",
   "execution_count": 215,
   "id": "a4529e3e",
   "metadata": {},
   "outputs": [
    {
     "name": "stdout",
     "output_type": "stream",
     "text": [
      "WARNING:tensorflow:5 out of the last 411 calls to <function Model.make_predict_function.<locals>.predict_function at 0x000001C26506FF70> triggered tf.function retracing. Tracing is expensive and the excessive number of tracings could be due to (1) creating @tf.function repeatedly in a loop, (2) passing tensors with different shapes, (3) passing Python objects instead of tensors. For (1), please define your @tf.function outside of the loop. For (2), @tf.function has experimental_relax_shapes=True option that relaxes argument shapes that can avoid unnecessary retracing. For (3), please refer to https://www.tensorflow.org/tutorials/customization/performance#python_or_tensor_args and https://www.tensorflow.org/api_docs/python/tf/function for  more details.\n"
     ]
    },
    {
     "data": {
      "text/plain": [
       "array([[0.29185015]], dtype=float32)"
      ]
     },
     "execution_count": 215,
     "metadata": {},
     "output_type": "execute_result"
    }
   ],
   "source": [
    "loaded_model.predict(final)"
   ]
  },
  {
   "cell_type": "code",
   "execution_count": 216,
   "id": "551241f8",
   "metadata": {},
   "outputs": [
    {
     "name": "stdout",
     "output_type": "stream",
     "text": [
      "[[0.29185015]]\n"
     ]
    }
   ],
   "source": [
    "predictions = loaded_model.predict(final)\n",
    "print(predictions)\n"
   ]
  },
  {
   "cell_type": "code",
   "execution_count": 231,
   "id": "67cd1262",
   "metadata": {},
   "outputs": [],
   "source": [
    "import pickle"
   ]
  },
  {
   "cell_type": "code",
   "execution_count": 233,
   "id": "e7432467",
   "metadata": {},
   "outputs": [
    {
     "ename": "TypeError",
     "evalue": "cannot pickle '_thread.RLock' object",
     "output_type": "error",
     "traceback": [
      "\u001b[1;31m---------------------------------------------------------------------------\u001b[0m",
      "\u001b[1;31mTypeError\u001b[0m                                 Traceback (most recent call last)",
      "\u001b[1;32m<ipython-input-233-7e2f129abec9>\u001b[0m in \u001b[0;36m<module>\u001b[1;34m\u001b[0m\n\u001b[0;32m      1\u001b[0m \u001b[0mfilename\u001b[0m \u001b[1;33m=\u001b[0m \u001b[1;34m'trained_model.sav'\u001b[0m\u001b[1;33m\u001b[0m\u001b[1;33m\u001b[0m\u001b[0m\n\u001b[1;32m----> 2\u001b[1;33m \u001b[0mpickle\u001b[0m\u001b[1;33m.\u001b[0m\u001b[0mdump\u001b[0m\u001b[1;33m(\u001b[0m\u001b[0mmodel_org\u001b[0m\u001b[1;33m,\u001b[0m \u001b[0mopen\u001b[0m\u001b[1;33m(\u001b[0m\u001b[0mfilename\u001b[0m\u001b[1;33m,\u001b[0m \u001b[1;34m'wb'\u001b[0m\u001b[1;33m)\u001b[0m\u001b[1;33m)\u001b[0m\u001b[1;33m\u001b[0m\u001b[1;33m\u001b[0m\u001b[0m\n\u001b[0m",
      "\u001b[1;31mTypeError\u001b[0m: cannot pickle '_thread.RLock' object"
     ]
    }
   ],
   "source": [
    "filename = 'trained_model.sav'\n",
    "pickle.dump(model_org, open(filename, 'wb'))"
   ]
  },
  {
   "cell_type": "code",
   "execution_count": 250,
   "id": "8937533f",
   "metadata": {},
   "outputs": [
    {
     "name": "stdout",
     "output_type": "stream",
     "text": [
      "INFO:tensorflow:Assets written to: neural_net\\assets\n"
     ]
    }
   ],
   "source": [
    "model_org.save(\"neural_net\")"
   ]
  },
  {
   "cell_type": "code",
   "execution_count": 251,
   "id": "f495c49c",
   "metadata": {},
   "outputs": [],
   "source": [
    "import keras"
   ]
  },
  {
   "cell_type": "code",
   "execution_count": 252,
   "id": "ee33dbf9",
   "metadata": {},
   "outputs": [],
   "source": [
    "new_model = keras.models.load_model(\"neural_net\")"
   ]
  },
  {
   "cell_type": "code",
   "execution_count": 253,
   "id": "6435052d",
   "metadata": {},
   "outputs": [
    {
     "data": {
      "text/plain": [
       "array([[0.6068036]], dtype=float32)"
      ]
     },
     "execution_count": 253,
     "metadata": {},
     "output_type": "execute_result"
    }
   ],
   "source": [
    "new_model.predict(final)"
   ]
  },
  {
   "cell_type": "code",
   "execution_count": null,
   "id": "d00cf405",
   "metadata": {},
   "outputs": [],
   "source": []
  }
 ],
 "metadata": {
  "kernelspec": {
   "display_name": "Python 3",
   "language": "python",
   "name": "python3"
  },
  "language_info": {
   "codemirror_mode": {
    "name": "ipython",
    "version": 3
   },
   "file_extension": ".py",
   "mimetype": "text/x-python",
   "name": "python",
   "nbconvert_exporter": "python",
   "pygments_lexer": "ipython3",
   "version": "3.8.8"
  }
 },
 "nbformat": 4,
 "nbformat_minor": 5
}
