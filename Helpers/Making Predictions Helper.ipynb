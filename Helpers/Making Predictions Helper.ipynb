{
 "cells": [
  {
   "cell_type": "code",
   "execution_count": 4,
   "id": "9e80120f",
   "metadata": {},
   "outputs": [],
   "source": [
    "import pandas as pd\n",
    "import numpy as np\n",
    "import pickle\n",
    "from sklearn.preprocessing import MinMaxScaler,StandardScaler\n",
    "mms = MinMaxScaler() # Normalization\n",
    "ss = StandardScaler() # Standardization\n",
    "from sklearn.preprocessing import LabelEncoder\n",
    "le = LabelEncoder()"
   ]
  },
  {
   "cell_type": "code",
   "execution_count": 5,
   "id": "a2b2b999",
   "metadata": {},
   "outputs": [],
   "source": [
    "# query = np.array([1, 0, 0, 1, 1, 2, 0, 1, 1])"
   ]
  },
  {
   "cell_type": "code",
   "execution_count": 6,
   "id": "974952c9",
   "metadata": {},
   "outputs": [],
   "source": [
    "# query = query.reshape(1,9)"
   ]
  },
  {
   "cell_type": "code",
   "execution_count": 9,
   "id": "3eba8b1c",
   "metadata": {},
   "outputs": [],
   "source": [
    "# model = pickle.load(open('model.pkl', 'rb'))"
   ]
  },
  {
   "cell_type": "code",
   "execution_count": 10,
   "id": "0d18d6b7",
   "metadata": {},
   "outputs": [],
   "source": [
    "# model.predict(query)"
   ]
  },
  {
   "cell_type": "code",
   "execution_count": 11,
   "id": "bf00c840",
   "metadata": {},
   "outputs": [],
   "source": [
    "# age = int(input('Age:'))\n",
    "# sex = input('Sex:')\n",
    "# pain_type = input('Pain Type:')\n",
    "# cholesterol = int(input('Chol'))\n",
    "# FastingBS = int(input('FastingBS'))\n",
    "# maxhr = int(input('MaxHR'))\n",
    "# exerangina = input('ExerAngina')\n",
    "# oldpeak = int(input('OldPeak'))\n",
    "# st_slope = input('ST Slope')"
   ]
  },
  {
   "cell_type": "code",
   "execution_count": 12,
   "id": "d6cf27ad",
   "metadata": {},
   "outputs": [],
   "source": [
    "age = 48\n",
    "sex = 'F'\n",
    "pain_type = 'ASY'\n",
    "cholesterol = 214\n",
    "FastingBS = 0\n",
    "maxhr = 108\n",
    "exerangina = 'Y'\n",
    "oldpeak = 1.50\n",
    "st_slope = 'Flat'"
   ]
  },
  {
   "cell_type": "code",
   "execution_count": 2,
   "id": "a16c0081",
   "metadata": {},
   "outputs": [],
   "source": [
    "if sex == 'M':\n",
    "    sex = 0\n",
    "else:\n",
    "    sex = 1\n",
    "    \n",
    "    \n",
    "if pain_type == 'NAP':\n",
    "    pain_type = 2\n",
    "elif pain_type == 'ATA':\n",
    "    pain_type = 1\n",
    "elif pain_type == 'ASY':\n",
    "    pain_type = 0\n",
    "elif pain_type == 'TA':\n",
    "    pain_type = 3\n",
    "    \n",
    "if exerangina == 'N':\n",
    "    exerangina = 0\n",
    "else:\n",
    "    exerangina = 1\n",
    "\n",
    "if st_slope == 'Up':\n",
    "    st_slope = 2\n",
    "elif st_slope == 'Flat':\n",
    "    st_slope = 1\n",
    "elif st_slope == 'Down':\n",
    "    st_slope = 0"
   ]
  },
  {
   "cell_type": "code",
   "execution_count": 3,
   "id": "e948f8a6",
   "metadata": {},
   "outputs": [
    {
     "ename": "NameError",
     "evalue": "name 'pd' is not defined",
     "output_type": "error",
     "traceback": [
      "\u001b[1;31m---------------------------------------------------------------------------\u001b[0m",
      "\u001b[1;31mNameError\u001b[0m                                 Traceback (most recent call last)",
      "\u001b[1;32m<ipython-input-3-5b602c29fc55>\u001b[0m in \u001b[0;36m<module>\u001b[1;34m\u001b[0m\n\u001b[0;32m     11\u001b[0m }\n\u001b[0;32m     12\u001b[0m \u001b[1;33m\u001b[0m\u001b[0m\n\u001b[1;32m---> 13\u001b[1;33m \u001b[0mdf1\u001b[0m \u001b[1;33m=\u001b[0m \u001b[0mpd\u001b[0m\u001b[1;33m.\u001b[0m\u001b[0mDataFrame\u001b[0m\u001b[1;33m(\u001b[0m\u001b[0mdata\u001b[0m\u001b[1;33m)\u001b[0m\u001b[1;33m\u001b[0m\u001b[1;33m\u001b[0m\u001b[0m\n\u001b[0m",
      "\u001b[1;31mNameError\u001b[0m: name 'pd' is not defined"
     ]
    }
   ],
   "source": [
    "data = {\n",
    "    'age': [50],\n",
    "    'sex': sex,\n",
    "    'pain_type': pain_type,\n",
    "    'cholesterol': [180],\n",
    "    'FastingBS': [0],\n",
    "    'maxhr': [156],\n",
    "    'exerangina': exerangina,\n",
    "    'oldpeak': [1],\n",
    "    'st_slope': st_slope\n",
    "}\n",
    "\n",
    "df1 = pd.DataFrame(data)"
   ]
  },
  {
   "cell_type": "code",
   "execution_count": 109,
   "id": "b19a552e",
   "metadata": {},
   "outputs": [
    {
     "data": {
      "text/html": [
       "<div>\n",
       "<style scoped>\n",
       "    .dataframe tbody tr th:only-of-type {\n",
       "        vertical-align: middle;\n",
       "    }\n",
       "\n",
       "    .dataframe tbody tr th {\n",
       "        vertical-align: top;\n",
       "    }\n",
       "\n",
       "    .dataframe thead th {\n",
       "        text-align: right;\n",
       "    }\n",
       "</style>\n",
       "<table border=\"1\" class=\"dataframe\">\n",
       "  <thead>\n",
       "    <tr style=\"text-align: right;\">\n",
       "      <th></th>\n",
       "      <th>age</th>\n",
       "      <th>sex</th>\n",
       "      <th>pain_type</th>\n",
       "      <th>cholesterol</th>\n",
       "      <th>FastingBS</th>\n",
       "      <th>maxhr</th>\n",
       "      <th>exerangina</th>\n",
       "      <th>oldpeak</th>\n",
       "      <th>st_slope</th>\n",
       "    </tr>\n",
       "  </thead>\n",
       "  <tbody>\n",
       "    <tr>\n",
       "      <th>0</th>\n",
       "      <td>50</td>\n",
       "      <td>0</td>\n",
       "      <td>2</td>\n",
       "      <td>180</td>\n",
       "      <td>0</td>\n",
       "      <td>156</td>\n",
       "      <td>0</td>\n",
       "      <td>1</td>\n",
       "      <td>1</td>\n",
       "    </tr>\n",
       "  </tbody>\n",
       "</table>\n",
       "</div>"
      ],
      "text/plain": [
       "   age  sex  pain_type  cholesterol  FastingBS  maxhr  exerangina  oldpeak  \\\n",
       "0   50    0          2          180          0    156           0        1   \n",
       "\n",
       "   st_slope  \n",
       "0         1  "
      ]
     },
     "execution_count": 109,
     "metadata": {},
     "output_type": "execute_result"
    }
   ],
   "source": [
    "df1"
   ]
  },
  {
   "cell_type": "code",
   "execution_count": 110,
   "id": "5245f1cf",
   "metadata": {},
   "outputs": [],
   "source": [
    "# df1['oldpeak'] = mms.fit_transform(df1[['oldpeak']])\n",
    "# df1['age'] = ss.fit_transform(df1[['age']])\n",
    "# df1['cholesterol'] = ss.fit_transform(df1[['cholesterol']])\n",
    "# df1['maxhr'] = ss.fit_transform(df1[['maxhr']])\n",
    "\n",
    "# df1['sex'] = le.fit_transform(df1['sex'])\n",
    "# df1['pain_type'] = le.fit_transform(df1['pain_type'])\n",
    "# df1['exerangina'] = le.fit_transform(df1['exerangina'])\n",
    "# df1['st_slope'] = le.fit_transform(df1['st_slope'])\n",
    "# df1.head()"
   ]
  },
  {
   "cell_type": "code",
   "execution_count": 111,
   "id": "2e9730d7",
   "metadata": {},
   "outputs": [
    {
     "data": {
      "text/plain": [
       "RandomForestClassifier(max_depth=34, min_samples_leaf=4, min_samples_split=10,\n",
       "                       n_estimators=7000)"
      ]
     },
     "execution_count": 111,
     "metadata": {},
     "output_type": "execute_result"
    }
   ],
   "source": [
    "model"
   ]
  },
  {
   "cell_type": "code",
   "execution_count": 112,
   "id": "22da9682",
   "metadata": {},
   "outputs": [],
   "source": [
    "query = df1.values"
   ]
  },
  {
   "cell_type": "code",
   "execution_count": 113,
   "id": "f51d2b13",
   "metadata": {},
   "outputs": [
    {
     "data": {
      "text/plain": [
       "array([[ 50,   0,   2, 180,   0, 156,   0,   1,   1]], dtype=int64)"
      ]
     },
     "execution_count": 113,
     "metadata": {},
     "output_type": "execute_result"
    }
   ],
   "source": [
    "query"
   ]
  },
  {
   "cell_type": "code",
   "execution_count": 114,
   "id": "00948490",
   "metadata": {},
   "outputs": [
    {
     "data": {
      "text/plain": [
       "array([0], dtype=int64)"
      ]
     },
     "execution_count": 114,
     "metadata": {},
     "output_type": "execute_result"
    }
   ],
   "source": [
    "model.predict(query)"
   ]
  },
  {
   "cell_type": "code",
   "execution_count": null,
   "id": "347e505f",
   "metadata": {},
   "outputs": [],
   "source": []
  }
 ],
 "metadata": {
  "kernelspec": {
   "display_name": "Python 3",
   "language": "python",
   "name": "python3"
  },
  "language_info": {
   "codemirror_mode": {
    "name": "ipython",
    "version": 3
   },
   "file_extension": ".py",
   "mimetype": "text/x-python",
   "name": "python",
   "nbconvert_exporter": "python",
   "pygments_lexer": "ipython3",
   "version": "3.8.8"
  }
 },
 "nbformat": 4,
 "nbformat_minor": 5
}
