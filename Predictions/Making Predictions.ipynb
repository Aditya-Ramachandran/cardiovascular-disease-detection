{
 "cells": [
  {
   "cell_type": "code",
   "execution_count": 187,
   "id": "474f9741",
   "metadata": {},
   "outputs": [],
   "source": [
    "import pandas as pd\n",
    "import numpy as np\n",
    "import pickle\n",
    "from sklearn.preprocessing import MinMaxScaler,StandardScaler\n",
    "mms = MinMaxScaler() # Normalization\n",
    "ss = StandardScaler() # Standardization\n",
    "from sklearn.preprocessing import LabelEncoder\n",
    "le = LabelEncoder()"
   ]
  },
  {
   "cell_type": "code",
   "execution_count": 188,
   "id": "a4988c59",
   "metadata": {},
   "outputs": [],
   "source": [
    "model_dt = pickle.load(open('Models/dt_model.pkl', 'rb'))"
   ]
  },
  {
   "cell_type": "code",
   "execution_count": 189,
   "id": "e6acbfaf",
   "metadata": {},
   "outputs": [],
   "source": [
    "model_knn = pickle.load(open('Models/knn_model.pkl', 'rb'))"
   ]
  },
  {
   "cell_type": "code",
   "execution_count": 190,
   "id": "3bf4a0da",
   "metadata": {},
   "outputs": [],
   "source": [
    "model_lr = pickle.load(open('Models/lr_model.pkl', 'rb'))"
   ]
  },
  {
   "cell_type": "code",
   "execution_count": 191,
   "id": "15a2fb0a",
   "metadata": {},
   "outputs": [],
   "source": [
    "model_rf = pickle.load(open('Models/rf_model.pkl', 'rb'))"
   ]
  },
  {
   "cell_type": "code",
   "execution_count": 192,
   "id": "621d4d69",
   "metadata": {},
   "outputs": [],
   "source": [
    "model_svm = pickle.load(open('Models/svc_model.pkl', 'rb'))"
   ]
  },
  {
   "cell_type": "code",
   "execution_count": 193,
   "id": "03df0bc9",
   "metadata": {},
   "outputs": [],
   "source": [
    "# Sample Data \n",
    "\n",
    "age = 19\n",
    "sex = 'M'\n",
    "pain_type = 'ASY'\n",
    "cholesterol = 233\n",
    "FastingBS = 0\n",
    "maxhr = 117\n",
    "exerangina = 'N'\n",
    "oldpeak = 1.30\n",
    "st_slope = 'Up'\n",
    "\n",
    "\n",
    "# age = 48\n",
    "# sex = 'F'\n",
    "# pain_type = 'ASY'\n",
    "# cholesterol = 214\n",
    "# FastingBS = 0\n",
    "# maxhr = 108\n",
    "# exerangina = 'Y'\n",
    "# oldpeak = 1.50\n",
    "# st_slope = 'Flat'"
   ]
  },
  {
   "cell_type": "code",
   "execution_count": 194,
   "id": "4d60177f",
   "metadata": {},
   "outputs": [],
   "source": [
    "if sex == 'M':\n",
    "    sex = 0\n",
    "else:\n",
    "    sex = 1\n",
    "       \n",
    "\n",
    "if pain_type == 'NAP':\n",
    "    pain_type = 2\n",
    "elif pain_type == 'ATA':\n",
    "    pain_type = 1\n",
    "elif pain_type == 'ASY':\n",
    "    pain_type = 0\n",
    "elif pain_type == 'TA':\n",
    "    pain_type = 3\n",
    "    \n",
    "\n",
    "if exerangina == 'N':\n",
    "    exerangina = 0\n",
    "else:\n",
    "    exerangina = 1\n",
    "\n",
    "\n",
    "if st_slope == 'Up':\n",
    "    st_slope = 2\n",
    "elif st_slope == 'Flat':\n",
    "    st_slope = 1\n",
    "elif st_slope == 'Down':\n",
    "    st_slope = 0"
   ]
  },
  {
   "cell_type": "code",
   "execution_count": 195,
   "id": "c2c48197",
   "metadata": {},
   "outputs": [
    {
     "data": {
      "text/html": [
       "<div>\n",
       "<style scoped>\n",
       "    .dataframe tbody tr th:only-of-type {\n",
       "        vertical-align: middle;\n",
       "    }\n",
       "\n",
       "    .dataframe tbody tr th {\n",
       "        vertical-align: top;\n",
       "    }\n",
       "\n",
       "    .dataframe thead th {\n",
       "        text-align: right;\n",
       "    }\n",
       "</style>\n",
       "<table border=\"1\" class=\"dataframe\">\n",
       "  <thead>\n",
       "    <tr style=\"text-align: right;\">\n",
       "      <th></th>\n",
       "      <th>age</th>\n",
       "      <th>sex</th>\n",
       "      <th>pain_type</th>\n",
       "      <th>cholesterol</th>\n",
       "      <th>FastingBS</th>\n",
       "      <th>maxhr</th>\n",
       "      <th>exerangina</th>\n",
       "      <th>oldpeak</th>\n",
       "      <th>st_slope</th>\n",
       "    </tr>\n",
       "  </thead>\n",
       "  <tbody>\n",
       "    <tr>\n",
       "      <th>0</th>\n",
       "      <td>19</td>\n",
       "      <td>0</td>\n",
       "      <td>0</td>\n",
       "      <td>233</td>\n",
       "      <td>0</td>\n",
       "      <td>117</td>\n",
       "      <td>0</td>\n",
       "      <td>1.3</td>\n",
       "      <td>2</td>\n",
       "    </tr>\n",
       "  </tbody>\n",
       "</table>\n",
       "</div>"
      ],
      "text/plain": [
       "   age  sex  pain_type  cholesterol  FastingBS  maxhr  exerangina  oldpeak  \\\n",
       "0   19    0          0          233          0    117           0      1.3   \n",
       "\n",
       "   st_slope  \n",
       "0         2  "
      ]
     },
     "execution_count": 195,
     "metadata": {},
     "output_type": "execute_result"
    }
   ],
   "source": [
    "data = {\n",
    "    'age': age,\n",
    "    'sex': sex,\n",
    "    'pain_type': pain_type,\n",
    "    'cholesterol': cholesterol,\n",
    "    'FastingBS': FastingBS,\n",
    "    'maxhr': maxhr,\n",
    "    'exerangina': exerangina,\n",
    "    'oldpeak': oldpeak,\n",
    "    'st_slope': st_slope\n",
    "}\n",
    "\n",
    "df1 = pd.DataFrame(data, index=[0])\n",
    "df1"
   ]
  },
  {
   "cell_type": "code",
   "execution_count": 196,
   "id": "c3e4faac",
   "metadata": {},
   "outputs": [
    {
     "data": {
      "text/plain": [
       "array([[ 19. ,   0. ,   0. , 233. ,   0. , 117. ,   0. ,   1.3,   2. ]])"
      ]
     },
     "execution_count": 196,
     "metadata": {},
     "output_type": "execute_result"
    }
   ],
   "source": [
    "query = df1.values\n",
    "query"
   ]
  },
  {
   "cell_type": "code",
   "execution_count": 197,
   "id": "506ccec4",
   "metadata": {},
   "outputs": [],
   "source": [
    "# def get_results(query):\n",
    "#     model_dt.predict(query)\n",
    "#     model_knn.predict(query)\n",
    "#     model_lr.predict(query)\n",
    "#     model_rf.predict(query)\n",
    "#     model_svm.predict(query)"
   ]
  },
  {
   "cell_type": "code",
   "execution_count": 198,
   "id": "665bcae4",
   "metadata": {},
   "outputs": [],
   "source": [
    "# def get_results(query):\n",
    "#     models = {\n",
    "#         \"Decision Tree\": model_dt,\n",
    "#         \"K-Nearest Neighbors\": model_knn,\n",
    "#         \"Logistic Regression\": model_lr,\n",
    "#         \"Random Forest\": model_rf,\n",
    "#         \"Support Vector Machine\": model_svm\n",
    "#     }\n",
    "\n",
    "#     for model_name, model in models.items():\n",
    "#         prediction = model.predict(query)\n",
    "#         result = \"you DO NOT have heart disease\" if prediction == 0 else \"you HAVE a chance of heart disease\"\n",
    "#         print(f\"According to {model_name}, {result} \\n\")\n"
   ]
  },
  {
   "cell_type": "code",
   "execution_count": 199,
   "id": "8b40f97d",
   "metadata": {},
   "outputs": [],
   "source": [
    "# get_results(query)"
   ]
  },
  {
   "cell_type": "code",
   "execution_count": 200,
   "id": "71e210df",
   "metadata": {},
   "outputs": [],
   "source": [
    "import numpy as np\n",
    "\n",
    "def get_results(query):\n",
    "    models = {\n",
    "        \"Decision Tree\": model_dt,\n",
    "        \"K-Nearest Neighbors\": model_knn,\n",
    "        \"Logistic Regression\": model_lr,\n",
    "        \"Random Forest\": model_rf,\n",
    "        \"Support Vector Machine\": model_svm\n",
    "    }\n",
    "\n",
    "    predictions = []\n",
    "\n",
    "    for model_name, model in models.items():\n",
    "        prediction = model.predict(query)\n",
    "        predictions.append(prediction)\n",
    "        result = \"you DO NOT have heart disease\" if prediction == 0 else \"you HAVE a chance of heart disease\"\n",
    "        print(f\"According to {model_name}: {result}\\n\")\n",
    "\n",
    "    flat_predictions = np.ravel(predictions)\n",
    "    majority_vote = np.bincount(flat_predictions).argmax()\n",
    "    final_result = \"you DO NOT have heart disease\" if majority_vote == 0 else \"you HAVE a chance of heart disease\"\n",
    "    print(f\"\\nFinal Result (Majority Vote): {final_result}\")\n",
    "\n"
   ]
  },
  {
   "cell_type": "code",
   "execution_count": 201,
   "id": "db4f1940",
   "metadata": {},
   "outputs": [
    {
     "name": "stdout",
     "output_type": "stream",
     "text": [
      "According to Decision Tree: you DO NOT have heart disease\n",
      "\n",
      "According to K-Nearest Neighbors: you HAVE a chance of heart disease\n",
      "\n",
      "According to Logistic Regression: you DO NOT have heart disease\n",
      "\n",
      "According to Random Forest: you DO NOT have heart disease\n",
      "\n",
      "According to Support Vector Machine: you DO NOT have heart disease\n",
      "\n",
      "\n",
      "Final Result (Majority Vote): you DO NOT have heart disease\n"
     ]
    }
   ],
   "source": [
    "get_results(query)"
   ]
  },
  {
   "cell_type": "code",
   "execution_count": null,
   "id": "ef054f0f",
   "metadata": {},
   "outputs": [],
   "source": []
  },
  {
   "cell_type": "code",
   "execution_count": null,
   "id": "322cec97",
   "metadata": {},
   "outputs": [],
   "source": []
  }
 ],
 "metadata": {
  "kernelspec": {
   "display_name": "Python 3",
   "language": "python",
   "name": "python3"
  },
  "language_info": {
   "codemirror_mode": {
    "name": "ipython",
    "version": 3
   },
   "file_extension": ".py",
   "mimetype": "text/x-python",
   "name": "python",
   "nbconvert_exporter": "python",
   "pygments_lexer": "ipython3",
   "version": "3.8.8"
  }
 },
 "nbformat": 4,
 "nbformat_minor": 5
}
