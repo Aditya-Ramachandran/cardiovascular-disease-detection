{
 "cells": [
  {
   "cell_type": "markdown",
   "id": "a352e1b7",
   "metadata": {},
   "source": [
    "## Importing important libraries.\n"
   ]
  },
  {
   "cell_type": "code",
   "execution_count": 2,
   "id": "02772b06",
   "metadata": {},
   "outputs": [],
   "source": [
    "import numpy as np # linear algebra\n",
    "import pandas as pd # data processing, CSV file I/O (e.g. pd.read_csv)\n",
    "import matplotlib.pyplot as plt\n",
    "import seaborn as sns\n",
    "from warnings import filterwarnings\n",
    "filterwarnings('ignore')\n",
    "plt.style.use('seaborn')"
   ]
  },
  {
   "cell_type": "code",
   "execution_count": 4,
   "id": "388a53b5",
   "metadata": {},
   "outputs": [
    {
     "data": {
      "text/html": [
       "<div>\n",
       "<style scoped>\n",
       "    .dataframe tbody tr th:only-of-type {\n",
       "        vertical-align: middle;\n",
       "    }\n",
       "\n",
       "    .dataframe tbody tr th {\n",
       "        vertical-align: top;\n",
       "    }\n",
       "\n",
       "    .dataframe thead th {\n",
       "        text-align: right;\n",
       "    }\n",
       "</style>\n",
       "<table border=\"1\" class=\"dataframe\">\n",
       "  <thead>\n",
       "    <tr style=\"text-align: right;\">\n",
       "      <th></th>\n",
       "      <th>id</th>\n",
       "      <th>age</th>\n",
       "      <th>gender</th>\n",
       "      <th>height</th>\n",
       "      <th>weight</th>\n",
       "      <th>ap_hi</th>\n",
       "      <th>ap_lo</th>\n",
       "      <th>cholesterol</th>\n",
       "      <th>gluc</th>\n",
       "      <th>smoke</th>\n",
       "      <th>alco</th>\n",
       "      <th>active</th>\n",
       "      <th>cardio</th>\n",
       "    </tr>\n",
       "  </thead>\n",
       "  <tbody>\n",
       "    <tr>\n",
       "      <th>0</th>\n",
       "      <td>0</td>\n",
       "      <td>18393</td>\n",
       "      <td>2</td>\n",
       "      <td>168</td>\n",
       "      <td>62.0</td>\n",
       "      <td>110</td>\n",
       "      <td>80</td>\n",
       "      <td>1</td>\n",
       "      <td>1</td>\n",
       "      <td>0</td>\n",
       "      <td>0</td>\n",
       "      <td>1</td>\n",
       "      <td>0</td>\n",
       "    </tr>\n",
       "    <tr>\n",
       "      <th>1</th>\n",
       "      <td>1</td>\n",
       "      <td>20228</td>\n",
       "      <td>1</td>\n",
       "      <td>156</td>\n",
       "      <td>85.0</td>\n",
       "      <td>140</td>\n",
       "      <td>90</td>\n",
       "      <td>3</td>\n",
       "      <td>1</td>\n",
       "      <td>0</td>\n",
       "      <td>0</td>\n",
       "      <td>1</td>\n",
       "      <td>1</td>\n",
       "    </tr>\n",
       "    <tr>\n",
       "      <th>2</th>\n",
       "      <td>2</td>\n",
       "      <td>18857</td>\n",
       "      <td>1</td>\n",
       "      <td>165</td>\n",
       "      <td>64.0</td>\n",
       "      <td>130</td>\n",
       "      <td>70</td>\n",
       "      <td>3</td>\n",
       "      <td>1</td>\n",
       "      <td>0</td>\n",
       "      <td>0</td>\n",
       "      <td>0</td>\n",
       "      <td>1</td>\n",
       "    </tr>\n",
       "    <tr>\n",
       "      <th>3</th>\n",
       "      <td>3</td>\n",
       "      <td>17623</td>\n",
       "      <td>2</td>\n",
       "      <td>169</td>\n",
       "      <td>82.0</td>\n",
       "      <td>150</td>\n",
       "      <td>100</td>\n",
       "      <td>1</td>\n",
       "      <td>1</td>\n",
       "      <td>0</td>\n",
       "      <td>0</td>\n",
       "      <td>1</td>\n",
       "      <td>1</td>\n",
       "    </tr>\n",
       "    <tr>\n",
       "      <th>4</th>\n",
       "      <td>4</td>\n",
       "      <td>17474</td>\n",
       "      <td>1</td>\n",
       "      <td>156</td>\n",
       "      <td>56.0</td>\n",
       "      <td>100</td>\n",
       "      <td>60</td>\n",
       "      <td>1</td>\n",
       "      <td>1</td>\n",
       "      <td>0</td>\n",
       "      <td>0</td>\n",
       "      <td>0</td>\n",
       "      <td>0</td>\n",
       "    </tr>\n",
       "  </tbody>\n",
       "</table>\n",
       "</div>"
      ],
      "text/plain": [
       "   id    age  gender  height  weight  ap_hi  ap_lo  cholesterol  gluc  smoke  \\\n",
       "0   0  18393       2     168    62.0    110     80            1     1      0   \n",
       "1   1  20228       1     156    85.0    140     90            3     1      0   \n",
       "2   2  18857       1     165    64.0    130     70            3     1      0   \n",
       "3   3  17623       2     169    82.0    150    100            1     1      0   \n",
       "4   4  17474       1     156    56.0    100     60            1     1      0   \n",
       "\n",
       "   alco  active  cardio  \n",
       "0     0       1       0  \n",
       "1     0       1       1  \n",
       "2     0       0       1  \n",
       "3     0       1       1  \n",
       "4     0       0       0  "
      ]
     },
     "execution_count": 4,
     "metadata": {},
     "output_type": "execute_result"
    }
   ],
   "source": [
    "data = pd.read_csv(\"Dataset/cardio_train.csv\",sep=';')\n",
    "data.head()"
   ]
  },
  {
   "cell_type": "code",
   "execution_count": 5,
   "id": "1eaeb439",
   "metadata": {},
   "outputs": [
    {
     "name": "stdout",
     "output_type": "stream",
     "text": [
      "Dataset Shape: (70000, 13)\n"
     ]
    }
   ],
   "source": [
    "print(f'Dataset Shape: {data.shape}')"
   ]
  },
  {
   "cell_type": "markdown",
   "id": "6c00b9c5",
   "metadata": {},
   "source": [
    "### Assumptions\n",
    "\n",
    "Below are some of the key assumptions that we can make about the data and will look to validate them with the data in hand.\n",
    "\n",
    "- With the increase in age chances of heart disease increases.\n",
    "- Effect of height and weight. We assume that with more BMI chances of heart diesease is more.\n",
    "- ap_hi > ap_lo. With the increaes of bp the chances of heart attack are more. Check if we have patients with low bp but still have the disease.\n",
    "- With increase of cholesterol the chances of heart disease increases as per scientific tests.\n",
    "- Increase in blood glucose levels could be a cause of increased heart risk.\n",
    "- Check about how patient drinking and smoking habbits would increase the chances of heart risk. Are drinking men/women more prone to having a heart disease ?\n",
    "- Physical Activity is assumed to help in lower cholesterol and thus lower chances of heart disease."
   ]
  },
  {
   "cell_type": "markdown",
   "id": "f75e1882",
   "metadata": {},
   "source": [
    "### Feature Engineering Steps\n",
    "\n",
    "- Use height and weight to calculate BMI of a patient and see if it has some impact on the target variable.\n",
    "- Combine smoking and alcohol as a single feature using feature interaction.\n",
    "- We can think of creating a feature based on age and gender of a person to check if he/she is more likely to have diseased."
   ]
  },
  {
   "cell_type": "markdown",
   "id": "bf25d85f",
   "metadata": {},
   "source": [
    "### Code"
   ]
  },
  {
   "cell_type": "code",
   "execution_count": 6,
   "id": "4424b469",
   "metadata": {},
   "outputs": [
    {
     "data": {
      "text/plain": [
       "id             0\n",
       "age            0\n",
       "gender         0\n",
       "height         0\n",
       "weight         0\n",
       "ap_hi          0\n",
       "ap_lo          0\n",
       "cholesterol    0\n",
       "gluc           0\n",
       "smoke          0\n",
       "alco           0\n",
       "active         0\n",
       "cardio         0\n",
       "dtype: int64"
      ]
     },
     "execution_count": 6,
     "metadata": {},
     "output_type": "execute_result"
    }
   ],
   "source": [
    "# Identifying missing values and duplicates first.\n",
    "\n",
    "data.isna().sum()"
   ]
  },
  {
   "cell_type": "code",
   "execution_count": 7,
   "id": "e70a6ca7",
   "metadata": {},
   "outputs": [
    {
     "name": "stdout",
     "output_type": "stream",
     "text": [
      "24 duplicate records dropped.\n"
     ]
    }
   ],
   "source": [
    "duplicates = len(data) - len(data.drop(['id'],axis=1).drop_duplicates())\n",
    "data.drop(['id'],axis=1,inplace=True)\n",
    "data.drop_duplicates(inplace=True)\n",
    "print(f'{duplicates} duplicate records dropped.')"
   ]
  },
  {
   "cell_type": "code",
   "execution_count": 8,
   "id": "4139617e",
   "metadata": {},
   "outputs": [
    {
     "data": {
      "text/plain": [
       "(69976, 12)"
      ]
     },
     "execution_count": 8,
     "metadata": {},
     "output_type": "execute_result"
    }
   ],
   "source": [
    "data.shape"
   ]
  },
  {
   "cell_type": "markdown",
   "id": "78477661",
   "metadata": {},
   "source": [
    "From the above we can see that we do not have any missing values into our dataset and also have removed 24 duplicate records."
   ]
  },
  {
   "cell_type": "markdown",
   "id": "e5f14753",
   "metadata": {},
   "source": [
    "### Descriptive stats about data"
   ]
  },
  {
   "cell_type": "code",
   "execution_count": 9,
   "id": "7f8291e5",
   "metadata": {},
   "outputs": [
    {
     "name": "stdout",
     "output_type": "stream",
     "text": [
      "int64      11\n",
      "float64     1\n",
      "dtype: int64\n"
     ]
    }
   ],
   "source": [
    "print(f'{data.dtypes.value_counts()}')"
   ]
  },
  {
   "cell_type": "code",
   "execution_count": 10,
   "id": "8e7efc33",
   "metadata": {},
   "outputs": [
    {
     "name": "stdout",
     "output_type": "stream",
     "text": [
      "Let us now get a quick summary of features available.\n"
     ]
    },
    {
     "data": {
      "text/html": [
       "<div>\n",
       "<style scoped>\n",
       "    .dataframe tbody tr th:only-of-type {\n",
       "        vertical-align: middle;\n",
       "    }\n",
       "\n",
       "    .dataframe tbody tr th {\n",
       "        vertical-align: top;\n",
       "    }\n",
       "\n",
       "    .dataframe thead th {\n",
       "        text-align: right;\n",
       "    }\n",
       "</style>\n",
       "<table border=\"1\" class=\"dataframe\">\n",
       "  <thead>\n",
       "    <tr style=\"text-align: right;\">\n",
       "      <th></th>\n",
       "      <th>count</th>\n",
       "      <th>mean</th>\n",
       "      <th>std</th>\n",
       "      <th>min</th>\n",
       "      <th>25%</th>\n",
       "      <th>50%</th>\n",
       "      <th>75%</th>\n",
       "      <th>max</th>\n",
       "    </tr>\n",
       "  </thead>\n",
       "  <tbody>\n",
       "    <tr>\n",
       "      <th>age</th>\n",
       "      <td>69976.0</td>\n",
       "      <td>19468.95</td>\n",
       "      <td>2467.37</td>\n",
       "      <td>10798.0</td>\n",
       "      <td>17664.0</td>\n",
       "      <td>19703.0</td>\n",
       "      <td>21327.0</td>\n",
       "      <td>23713.0</td>\n",
       "    </tr>\n",
       "    <tr>\n",
       "      <th>gender</th>\n",
       "      <td>69976.0</td>\n",
       "      <td>1.35</td>\n",
       "      <td>0.48</td>\n",
       "      <td>1.0</td>\n",
       "      <td>1.0</td>\n",
       "      <td>1.0</td>\n",
       "      <td>2.0</td>\n",
       "      <td>2.0</td>\n",
       "    </tr>\n",
       "    <tr>\n",
       "      <th>height</th>\n",
       "      <td>69976.0</td>\n",
       "      <td>164.36</td>\n",
       "      <td>8.21</td>\n",
       "      <td>55.0</td>\n",
       "      <td>159.0</td>\n",
       "      <td>165.0</td>\n",
       "      <td>170.0</td>\n",
       "      <td>250.0</td>\n",
       "    </tr>\n",
       "    <tr>\n",
       "      <th>weight</th>\n",
       "      <td>69976.0</td>\n",
       "      <td>74.21</td>\n",
       "      <td>14.40</td>\n",
       "      <td>10.0</td>\n",
       "      <td>65.0</td>\n",
       "      <td>72.0</td>\n",
       "      <td>82.0</td>\n",
       "      <td>200.0</td>\n",
       "    </tr>\n",
       "    <tr>\n",
       "      <th>ap_hi</th>\n",
       "      <td>69976.0</td>\n",
       "      <td>128.82</td>\n",
       "      <td>154.04</td>\n",
       "      <td>-150.0</td>\n",
       "      <td>120.0</td>\n",
       "      <td>120.0</td>\n",
       "      <td>140.0</td>\n",
       "      <td>16020.0</td>\n",
       "    </tr>\n",
       "    <tr>\n",
       "      <th>ap_lo</th>\n",
       "      <td>69976.0</td>\n",
       "      <td>96.64</td>\n",
       "      <td>188.50</td>\n",
       "      <td>-70.0</td>\n",
       "      <td>80.0</td>\n",
       "      <td>80.0</td>\n",
       "      <td>90.0</td>\n",
       "      <td>11000.0</td>\n",
       "    </tr>\n",
       "    <tr>\n",
       "      <th>cholesterol</th>\n",
       "      <td>69976.0</td>\n",
       "      <td>1.37</td>\n",
       "      <td>0.68</td>\n",
       "      <td>1.0</td>\n",
       "      <td>1.0</td>\n",
       "      <td>1.0</td>\n",
       "      <td>2.0</td>\n",
       "      <td>3.0</td>\n",
       "    </tr>\n",
       "    <tr>\n",
       "      <th>gluc</th>\n",
       "      <td>69976.0</td>\n",
       "      <td>1.23</td>\n",
       "      <td>0.57</td>\n",
       "      <td>1.0</td>\n",
       "      <td>1.0</td>\n",
       "      <td>1.0</td>\n",
       "      <td>1.0</td>\n",
       "      <td>3.0</td>\n",
       "    </tr>\n",
       "    <tr>\n",
       "      <th>smoke</th>\n",
       "      <td>69976.0</td>\n",
       "      <td>0.09</td>\n",
       "      <td>0.28</td>\n",
       "      <td>0.0</td>\n",
       "      <td>0.0</td>\n",
       "      <td>0.0</td>\n",
       "      <td>0.0</td>\n",
       "      <td>1.0</td>\n",
       "    </tr>\n",
       "    <tr>\n",
       "      <th>alco</th>\n",
       "      <td>69976.0</td>\n",
       "      <td>0.05</td>\n",
       "      <td>0.23</td>\n",
       "      <td>0.0</td>\n",
       "      <td>0.0</td>\n",
       "      <td>0.0</td>\n",
       "      <td>0.0</td>\n",
       "      <td>1.0</td>\n",
       "    </tr>\n",
       "    <tr>\n",
       "      <th>active</th>\n",
       "      <td>69976.0</td>\n",
       "      <td>0.80</td>\n",
       "      <td>0.40</td>\n",
       "      <td>0.0</td>\n",
       "      <td>1.0</td>\n",
       "      <td>1.0</td>\n",
       "      <td>1.0</td>\n",
       "      <td>1.0</td>\n",
       "    </tr>\n",
       "    <tr>\n",
       "      <th>cardio</th>\n",
       "      <td>69976.0</td>\n",
       "      <td>0.50</td>\n",
       "      <td>0.50</td>\n",
       "      <td>0.0</td>\n",
       "      <td>0.0</td>\n",
       "      <td>0.0</td>\n",
       "      <td>1.0</td>\n",
       "      <td>1.0</td>\n",
       "    </tr>\n",
       "  </tbody>\n",
       "</table>\n",
       "</div>"
      ],
      "text/plain": [
       "               count      mean      std      min      25%      50%      75%  \\\n",
       "age          69976.0  19468.95  2467.37  10798.0  17664.0  19703.0  21327.0   \n",
       "gender       69976.0      1.35     0.48      1.0      1.0      1.0      2.0   \n",
       "height       69976.0    164.36     8.21     55.0    159.0    165.0    170.0   \n",
       "weight       69976.0     74.21    14.40     10.0     65.0     72.0     82.0   \n",
       "ap_hi        69976.0    128.82   154.04   -150.0    120.0    120.0    140.0   \n",
       "ap_lo        69976.0     96.64   188.50    -70.0     80.0     80.0     90.0   \n",
       "cholesterol  69976.0      1.37     0.68      1.0      1.0      1.0      2.0   \n",
       "gluc         69976.0      1.23     0.57      1.0      1.0      1.0      1.0   \n",
       "smoke        69976.0      0.09     0.28      0.0      0.0      0.0      0.0   \n",
       "alco         69976.0      0.05     0.23      0.0      0.0      0.0      0.0   \n",
       "active       69976.0      0.80     0.40      0.0      1.0      1.0      1.0   \n",
       "cardio       69976.0      0.50     0.50      0.0      0.0      0.0      1.0   \n",
       "\n",
       "                 max  \n",
       "age          23713.0  \n",
       "gender           2.0  \n",
       "height         250.0  \n",
       "weight         200.0  \n",
       "ap_hi        16020.0  \n",
       "ap_lo        11000.0  \n",
       "cholesterol      3.0  \n",
       "gluc             3.0  \n",
       "smoke            1.0  \n",
       "alco             1.0  \n",
       "active           1.0  \n",
       "cardio           1.0  "
      ]
     },
     "execution_count": 10,
     "metadata": {},
     "output_type": "execute_result"
    }
   ],
   "source": [
    "print('Let us now get a quick summary of features available.')\n",
    "data.describe().T.round(2)  # transposed"
   ]
  },
  {
   "cell_type": "code",
   "execution_count": 11,
   "id": "12f31ef9",
   "metadata": {},
   "outputs": [
    {
     "data": {
      "image/png": "[encoded data removed]",
      "text/plain": [
       "<Figure size 576x396 with 1 Axes>"
      ]
     },
     "metadata": {},
     "output_type": "display_data"
    }
   ],
   "source": [
    "# Let us first have a look at our target variable and see if it is balanced or not \n",
    "\n",
    "fig, ax = plt.subplots(1,1)\n",
    "sns.countplot(data['cardio'], ax = ax)\n",
    "for i in ax.patches:\n",
    "    height = i.get_height()\n",
    "    ax.text(i.get_x()+i.get_width()/2,height,'{:.2f}'.format((i.get_height()/len(data['cardio']))*100,'%'))\n",
    "plt.show()"
   ]
  },
  {
   "cell_type": "markdown",
   "id": "990564c4",
   "metadata": {},
   "source": [
    "as we can see that the target variable is balanced"
   ]
  },
  {
   "cell_type": "code",
   "execution_count": null,
   "id": "a7ba1e69",
   "metadata": {},
   "outputs": [],
   "source": []
  },
  {
   "cell_type": "markdown",
   "id": "8cbfe449",
   "metadata": {},
   "source": []
  }
 ],
 "metadata": {
  "kernelspec": {
   "display_name": "Python 3",
   "language": "python",
   "name": "python3"
  },
  "language_info": {
   "codemirror_mode": {
    "name": "ipython",
    "version": 3
   },
   "file_extension": ".py",
   "mimetype": "text/x-python",
   "name": "python",
   "nbconvert_exporter": "python",
   "pygments_lexer": "ipython3",
   "version": "3.8.8"
  }
 },
 "nbformat": 4,
 "nbformat_minor": 5
}
