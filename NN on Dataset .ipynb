{
 "cells": [
  {
   "cell_type": "code",
   "execution_count": 1,
   "id": "1662b097",
   "metadata": {},
   "outputs": [],
   "source": [
    "import numpy as np # linear algebra\n",
    "import pandas as pd # data processing\n",
    "import seaborn as sns             # visualizations\n",
    "import matplotlib.pyplot as plt   # visualizations\n",
    "from sklearn import preprocessing\n",
    "from sklearn.model_selection import train_test_split\n",
    "from keras.utils import np_utils"
   ]
  },
  {
   "cell_type": "markdown",
   "id": "d8ab86ae",
   "metadata": {},
   "source": [
    "## Uploading data"
   ]
  },
  {
   "cell_type": "code",
   "execution_count": 2,
   "id": "8042bbe7",
   "metadata": {},
   "outputs": [],
   "source": [
    "df = pd.read_csv('Dataset/cardio_train.csv', sep=\";\")"
   ]
  },
  {
   "cell_type": "code",
   "execution_count": 3,
   "id": "984d267d",
   "metadata": {},
   "outputs": [
    {
     "data": {
      "text/html": [
       "<div>\n",
       "<style scoped>\n",
       "    .dataframe tbody tr th:only-of-type {\n",
       "        vertical-align: middle;\n",
       "    }\n",
       "\n",
       "    .dataframe tbody tr th {\n",
       "        vertical-align: top;\n",
       "    }\n",
       "\n",
       "    .dataframe thead th {\n",
       "        text-align: right;\n",
       "    }\n",
       "</style>\n",
       "<table border=\"1\" class=\"dataframe\">\n",
       "  <thead>\n",
       "    <tr style=\"text-align: right;\">\n",
       "      <th></th>\n",
       "      <th>id</th>\n",
       "      <th>age</th>\n",
       "      <th>gender</th>\n",
       "      <th>height</th>\n",
       "      <th>weight</th>\n",
       "      <th>ap_hi</th>\n",
       "      <th>ap_lo</th>\n",
       "      <th>cholesterol</th>\n",
       "      <th>gluc</th>\n",
       "      <th>smoke</th>\n",
       "      <th>alco</th>\n",
       "      <th>active</th>\n",
       "      <th>cardio</th>\n",
       "    </tr>\n",
       "  </thead>\n",
       "  <tbody>\n",
       "    <tr>\n",
       "      <th>0</th>\n",
       "      <td>0</td>\n",
       "      <td>18393</td>\n",
       "      <td>2</td>\n",
       "      <td>168</td>\n",
       "      <td>62.0</td>\n",
       "      <td>110</td>\n",
       "      <td>80</td>\n",
       "      <td>1</td>\n",
       "      <td>1</td>\n",
       "      <td>0</td>\n",
       "      <td>0</td>\n",
       "      <td>1</td>\n",
       "      <td>0</td>\n",
       "    </tr>\n",
       "    <tr>\n",
       "      <th>1</th>\n",
       "      <td>1</td>\n",
       "      <td>20228</td>\n",
       "      <td>1</td>\n",
       "      <td>156</td>\n",
       "      <td>85.0</td>\n",
       "      <td>140</td>\n",
       "      <td>90</td>\n",
       "      <td>3</td>\n",
       "      <td>1</td>\n",
       "      <td>0</td>\n",
       "      <td>0</td>\n",
       "      <td>1</td>\n",
       "      <td>1</td>\n",
       "    </tr>\n",
       "    <tr>\n",
       "      <th>2</th>\n",
       "      <td>2</td>\n",
       "      <td>18857</td>\n",
       "      <td>1</td>\n",
       "      <td>165</td>\n",
       "      <td>64.0</td>\n",
       "      <td>130</td>\n",
       "      <td>70</td>\n",
       "      <td>3</td>\n",
       "      <td>1</td>\n",
       "      <td>0</td>\n",
       "      <td>0</td>\n",
       "      <td>0</td>\n",
       "      <td>1</td>\n",
       "    </tr>\n",
       "    <tr>\n",
       "      <th>3</th>\n",
       "      <td>3</td>\n",
       "      <td>17623</td>\n",
       "      <td>2</td>\n",
       "      <td>169</td>\n",
       "      <td>82.0</td>\n",
       "      <td>150</td>\n",
       "      <td>100</td>\n",
       "      <td>1</td>\n",
       "      <td>1</td>\n",
       "      <td>0</td>\n",
       "      <td>0</td>\n",
       "      <td>1</td>\n",
       "      <td>1</td>\n",
       "    </tr>\n",
       "    <tr>\n",
       "      <th>4</th>\n",
       "      <td>4</td>\n",
       "      <td>17474</td>\n",
       "      <td>1</td>\n",
       "      <td>156</td>\n",
       "      <td>56.0</td>\n",
       "      <td>100</td>\n",
       "      <td>60</td>\n",
       "      <td>1</td>\n",
       "      <td>1</td>\n",
       "      <td>0</td>\n",
       "      <td>0</td>\n",
       "      <td>0</td>\n",
       "      <td>0</td>\n",
       "    </tr>\n",
       "  </tbody>\n",
       "</table>\n",
       "</div>"
      ],
      "text/plain": [
       "   id    age  gender  height  weight  ap_hi  ap_lo  cholesterol  gluc  smoke  \\\n",
       "0   0  18393       2     168    62.0    110     80            1     1      0   \n",
       "1   1  20228       1     156    85.0    140     90            3     1      0   \n",
       "2   2  18857       1     165    64.0    130     70            3     1      0   \n",
       "3   3  17623       2     169    82.0    150    100            1     1      0   \n",
       "4   4  17474       1     156    56.0    100     60            1     1      0   \n",
       "\n",
       "   alco  active  cardio  \n",
       "0     0       1       0  \n",
       "1     0       1       1  \n",
       "2     0       0       1  \n",
       "3     0       1       1  \n",
       "4     0       0       0  "
      ]
     },
     "execution_count": 3,
     "metadata": {},
     "output_type": "execute_result"
    }
   ],
   "source": [
    "dfcol=df.columns\n",
    "df.head()"
   ]
  },
  {
   "cell_type": "markdown",
   "id": "8c0e2084",
   "metadata": {},
   "source": [
    "## Checking if the targets are balanced"
   ]
  },
  {
   "cell_type": "code",
   "execution_count": 4,
   "id": "48da2c51",
   "metadata": {},
   "outputs": [
    {
     "data": {
      "text/plain": [
       "<AxesSubplot:xlabel='cardio', ylabel='count'>"
      ]
     },
     "execution_count": 4,
     "metadata": {},
     "output_type": "execute_result"
    },
    {
     "data": {
      "image/png": "[encoded data removed]",
      "text/plain": [
       "<Figure size 432x288 with 1 Axes>"
      ]
     },
     "metadata": {
      "needs_background": "light"
     },
     "output_type": "display_data"
    }
   ],
   "source": [
    "df[[\"cardio\",\"height\"]].groupby(\"cardio\").count()\n",
    "sns.countplot(x=\"cardio\", data=df, palette=\"Set1\")"
   ]
  },
  {
   "cell_type": "markdown",
   "id": "5bcd8a6a",
   "metadata": {},
   "source": [
    "## Data Transform (Scaling to avoid outliers)\n"
   ]
  },
  {
   "cell_type": "code",
   "execution_count": 5,
   "id": "66a35900",
   "metadata": {},
   "outputs": [
    {
     "data": {
      "text/html": [
       "<div>\n",
       "<style scoped>\n",
       "    .dataframe tbody tr th:only-of-type {\n",
       "        vertical-align: middle;\n",
       "    }\n",
       "\n",
       "    .dataframe tbody tr th {\n",
       "        vertical-align: top;\n",
       "    }\n",
       "\n",
       "    .dataframe thead th {\n",
       "        text-align: right;\n",
       "    }\n",
       "</style>\n",
       "<table border=\"1\" class=\"dataframe\">\n",
       "  <thead>\n",
       "    <tr style=\"text-align: right;\">\n",
       "      <th></th>\n",
       "      <th>id</th>\n",
       "      <th>age</th>\n",
       "      <th>gender</th>\n",
       "      <th>height</th>\n",
       "      <th>weight</th>\n",
       "      <th>ap_hi</th>\n",
       "      <th>ap_lo</th>\n",
       "      <th>cholesterol</th>\n",
       "      <th>gluc</th>\n",
       "      <th>smoke</th>\n",
       "      <th>alco</th>\n",
       "      <th>active</th>\n",
       "      <th>cardio</th>\n",
       "    </tr>\n",
       "  </thead>\n",
       "  <tbody>\n",
       "    <tr>\n",
       "      <th>0</th>\n",
       "      <td>0.00000</td>\n",
       "      <td>0.588076</td>\n",
       "      <td>1.0</td>\n",
       "      <td>0.579487</td>\n",
       "      <td>0.273684</td>\n",
       "      <td>0.016079</td>\n",
       "      <td>0.013550</td>\n",
       "      <td>0.0</td>\n",
       "      <td>0.0</td>\n",
       "      <td>0.0</td>\n",
       "      <td>0.0</td>\n",
       "      <td>1.0</td>\n",
       "      <td>0.0</td>\n",
       "    </tr>\n",
       "    <tr>\n",
       "      <th>1</th>\n",
       "      <td>0.00001</td>\n",
       "      <td>0.730159</td>\n",
       "      <td>0.0</td>\n",
       "      <td>0.517949</td>\n",
       "      <td>0.394737</td>\n",
       "      <td>0.017934</td>\n",
       "      <td>0.014453</td>\n",
       "      <td>1.0</td>\n",
       "      <td>0.0</td>\n",
       "      <td>0.0</td>\n",
       "      <td>0.0</td>\n",
       "      <td>1.0</td>\n",
       "      <td>1.0</td>\n",
       "    </tr>\n",
       "    <tr>\n",
       "      <th>2</th>\n",
       "      <td>0.00002</td>\n",
       "      <td>0.624003</td>\n",
       "      <td>0.0</td>\n",
       "      <td>0.564103</td>\n",
       "      <td>0.284211</td>\n",
       "      <td>0.017316</td>\n",
       "      <td>0.012647</td>\n",
       "      <td>1.0</td>\n",
       "      <td>0.0</td>\n",
       "      <td>0.0</td>\n",
       "      <td>0.0</td>\n",
       "      <td>0.0</td>\n",
       "      <td>1.0</td>\n",
       "    </tr>\n",
       "    <tr>\n",
       "      <th>3</th>\n",
       "      <td>0.00003</td>\n",
       "      <td>0.528455</td>\n",
       "      <td>1.0</td>\n",
       "      <td>0.584615</td>\n",
       "      <td>0.378947</td>\n",
       "      <td>0.018553</td>\n",
       "      <td>0.015357</td>\n",
       "      <td>0.0</td>\n",
       "      <td>0.0</td>\n",
       "      <td>0.0</td>\n",
       "      <td>0.0</td>\n",
       "      <td>1.0</td>\n",
       "      <td>1.0</td>\n",
       "    </tr>\n",
       "    <tr>\n",
       "      <th>4</th>\n",
       "      <td>0.00004</td>\n",
       "      <td>0.516918</td>\n",
       "      <td>0.0</td>\n",
       "      <td>0.517949</td>\n",
       "      <td>0.242105</td>\n",
       "      <td>0.015461</td>\n",
       "      <td>0.011743</td>\n",
       "      <td>0.0</td>\n",
       "      <td>0.0</td>\n",
       "      <td>0.0</td>\n",
       "      <td>0.0</td>\n",
       "      <td>0.0</td>\n",
       "      <td>0.0</td>\n",
       "    </tr>\n",
       "  </tbody>\n",
       "</table>\n",
       "</div>"
      ],
      "text/plain": [
       "        id       age  gender    height    weight     ap_hi     ap_lo  \\\n",
       "0  0.00000  0.588076     1.0  0.579487  0.273684  0.016079  0.013550   \n",
       "1  0.00001  0.730159     0.0  0.517949  0.394737  0.017934  0.014453   \n",
       "2  0.00002  0.624003     0.0  0.564103  0.284211  0.017316  0.012647   \n",
       "3  0.00003  0.528455     1.0  0.584615  0.378947  0.018553  0.015357   \n",
       "4  0.00004  0.516918     0.0  0.517949  0.242105  0.015461  0.011743   \n",
       "\n",
       "   cholesterol  gluc  smoke  alco  active  cardio  \n",
       "0          0.0   0.0    0.0   0.0     1.0     0.0  \n",
       "1          1.0   0.0    0.0   0.0     1.0     1.0  \n",
       "2          1.0   0.0    0.0   0.0     0.0     1.0  \n",
       "3          0.0   0.0    0.0   0.0     1.0     1.0  \n",
       "4          0.0   0.0    0.0   0.0     0.0     0.0  "
      ]
     },
     "execution_count": 5,
     "metadata": {},
     "output_type": "execute_result"
    }
   ],
   "source": [
    "from sklearn import preprocessing\n",
    "scaler=preprocessing.MinMaxScaler()\n",
    "dfscale=scaler.fit_transform(df)\n",
    "dfscale2=pd.DataFrame(dfscale, columns=dfcol)\n",
    "dfscale2.head()"
   ]
  },
  {
   "cell_type": "markdown",
   "id": "f4a22285",
   "metadata": {},
   "source": [
    "## Splitting data\n"
   ]
  },
  {
   "cell_type": "code",
   "execution_count": 6,
   "id": "ad0c79c3",
   "metadata": {},
   "outputs": [],
   "source": [
    "xdf=dfscale2.iloc[:,0:11]\n",
    "ydf=dfscale2.iloc[:,-1]"
   ]
  },
  {
   "cell_type": "code",
   "execution_count": 7,
   "id": "10e61e49",
   "metadata": {},
   "outputs": [],
   "source": [
    "x_training, x_testing, y_training, y_testing = train_test_split(xdf, ydf, test_size = 0.2, random_state=123, stratify=ydf)"
   ]
  },
  {
   "cell_type": "code",
   "execution_count": 8,
   "id": "28cb7cb2",
   "metadata": {},
   "outputs": [
    {
     "name": "stdout",
     "output_type": "stream",
     "text": [
      "(70000, 11)\n"
     ]
    }
   ],
   "source": [
    "print(xdf.shape)"
   ]
  },
  {
   "cell_type": "code",
   "execution_count": 9,
   "id": "ed6940cd",
   "metadata": {},
   "outputs": [
    {
     "data": {
      "text/plain": [
       "(70000,)"
      ]
     },
     "execution_count": 9,
     "metadata": {},
     "output_type": "execute_result"
    }
   ],
   "source": [
    "ydf.shape"
   ]
  },
  {
   "cell_type": "markdown",
   "id": "b22102ca",
   "metadata": {},
   "source": [
    "## Neural Network\n"
   ]
  },
  {
   "cell_type": "code",
   "execution_count": 10,
   "id": "011cb138",
   "metadata": {},
   "outputs": [
    {
     "name": "stdout",
     "output_type": "stream",
     "text": [
      "Model: \"sequential\"\n",
      "_________________________________________________________________\n",
      "Layer (type)                 Output Shape              Param #   \n",
      "=================================================================\n",
      "dense (Dense)                (None, 25)                300       \n",
      "_________________________________________________________________\n",
      "dense_1 (Dense)              (None, 5)                 130       \n",
      "_________________________________________________________________\n",
      "dense_2 (Dense)              (None, 3)                 18        \n",
      "_________________________________________________________________\n",
      "dense_3 (Dense)              (None, 1)                 4         \n",
      "=================================================================\n",
      "Total params: 452\n",
      "Trainable params: 452\n",
      "Non-trainable params: 0\n",
      "_________________________________________________________________\n"
     ]
    }
   ],
   "source": [
    "from keras.models import Sequential\n",
    "from keras.layers.core import Dense, Activation\n",
    "from keras.optimizers import SGD\n",
    "from keras.layers import Dropout\n",
    "from keras.constraints import maxnorm\n",
    "\n",
    "model = Sequential()\n",
    "model.add(Dense(25, input_dim=11, activation='softsign', kernel_constraint=maxnorm(2)))\n",
    "#model.add(Dropout(0))\n",
    "model.add(Dense(5, activation='softsign'))\n",
    "#model.add(Dropout(0))\n",
    "model.add(Dense(3, activation='softsign'))\n",
    "#model.add(Dropout(0))\n",
    "model.add(Dense(1, activation='sigmoid'))\n",
    "\n",
    "model.compile(loss = 'binary_crossentropy', optimizer='Nadam', metrics=['accuracy'])\n",
    "\n",
    "model.summary()"
   ]
  },
  {
   "cell_type": "code",
   "execution_count": 11,
   "id": "171ce902",
   "metadata": {},
   "outputs": [
    {
     "name": "stdout",
     "output_type": "stream",
     "text": [
      "1750/1750 [==============================] - 1s 378us/step - loss: 0.5927 - accuracy: 0.6851\n",
      "\n",
      " Training Accuracy: 0.6850892901420593\n",
      "438/438 [==============================] - 0s 697us/step - loss: 0.5952 - accuracy: 0.6816\n",
      "\n",
      " Testing Accuracy: 0.6816428303718567\n"
     ]
    }
   ],
   "source": [
    "model.fit(x_training, y_training, epochs=50, batch_size=50, verbose=0)\n",
    "score = model.evaluate(x_training, y_training)\n",
    "print(\"\\n Training Accuracy:\", score[1])\n",
    "score = model.evaluate(x_testing, y_testing)\n",
    "print(\"\\n Testing Accuracy:\", score[1])"
   ]
  },
  {
   "cell_type": "markdown",
   "id": "e8c6efe8",
   "metadata": {},
   "source": [
    "## Prediction"
   ]
  },
  {
   "cell_type": "code",
   "execution_count": 12,
   "id": "45a9fb00",
   "metadata": {},
   "outputs": [
    {
     "name": "stderr",
     "output_type": "stream",
     "text": [
      "<ipython-input-12-8212ae7d1109>:9: DeprecationWarning: `np.float` is a deprecated alias for the builtin `float`. To silence this warning, use `float` by itself. Doing this will not modify any behavior and is safe. If you specifically wanted the numpy scalar type, use `np.float64` here.\n",
      "Deprecated in NumPy 1.20; for more details and guidance: https://numpy.org/devdocs/release/1.20.0-notes.html#deprecations\n",
      "  predictionarray=prediction.astype(np.float)\n",
      "C:\\Users\\Aditya\\anaconda3\\lib\\site-packages\\seaborn\\distributions.py:2557: FutureWarning: `distplot` is a deprecated function and will be removed in a future version. Please adapt your code to use either `displot` (a figure-level function with similar flexibility) or `histplot` (an axes-level function for histograms).\n",
      "  warnings.warn(msg, FutureWarning)\n"
     ]
    },
    {
     "data": {
      "text/plain": [
       "<AxesSubplot:xlabel='Pr', ylabel='Density'>"
      ]
     },
     "execution_count": 12,
     "metadata": {},
     "output_type": "execute_result"
    },
    {
     "data": {
      "image/png": "[encoded data removed]",
      "text/plain": [
       "<Figure size 432x288 with 1 Axes>"
      ]
     },
     "metadata": {
      "needs_background": "light"
     },
     "output_type": "display_data"
    }
   ],
   "source": [
    "res=model.predict(x_testing)\n",
    "res\n",
    "resdf=pd.DataFrame(res, index=x_testing.index)\n",
    "resdf.columns=[\"Pr\"]\n",
    "resdf[\"ID\"]=range(14000)\n",
    "resdf[\"y\"]=np.where(resdf[\"Pr\"]>=0.5,\"1\", \"0\")\n",
    "resdf\n",
    "prediction=resdf.drop([\"Pr\",\"ID\"], axis=1)\n",
    "predictionarray=prediction.astype(np.float)\n",
    "sns.distplot(resdf[\"Pr\"],  color=\"red\")"
   ]
  },
  {
   "cell_type": "markdown",
   "id": "f5974691",
   "metadata": {},
   "source": [
    "#### How many 1's and 0's predict the model\n"
   ]
  },
  {
   "cell_type": "code",
   "execution_count": 13,
   "id": "1acd1a78",
   "metadata": {},
   "outputs": [
    {
     "data": {
      "text/html": [
       "<div>\n",
       "<style scoped>\n",
       "    .dataframe tbody tr th:only-of-type {\n",
       "        vertical-align: middle;\n",
       "    }\n",
       "\n",
       "    .dataframe tbody tr th {\n",
       "        vertical-align: top;\n",
       "    }\n",
       "\n",
       "    .dataframe thead th {\n",
       "        text-align: right;\n",
       "    }\n",
       "</style>\n",
       "<table border=\"1\" class=\"dataframe\">\n",
       "  <thead>\n",
       "    <tr style=\"text-align: right;\">\n",
       "      <th></th>\n",
       "      <th>ID</th>\n",
       "    </tr>\n",
       "    <tr>\n",
       "      <th>y</th>\n",
       "      <th></th>\n",
       "    </tr>\n",
       "  </thead>\n",
       "  <tbody>\n",
       "    <tr>\n",
       "      <th>0</th>\n",
       "      <td>4961</td>\n",
       "    </tr>\n",
       "    <tr>\n",
       "      <th>1</th>\n",
       "      <td>9039</td>\n",
       "    </tr>\n",
       "  </tbody>\n",
       "</table>\n",
       "</div>"
      ],
      "text/plain": [
       "     ID\n",
       "y      \n",
       "0  4961\n",
       "1  9039"
      ]
     },
     "execution_count": 13,
     "metadata": {},
     "output_type": "execute_result"
    }
   ],
   "source": [
    "c1=resdf[['ID','y']].groupby('y').count()\n",
    "c1"
   ]
  },
  {
   "cell_type": "markdown",
   "id": "1cac8b8a",
   "metadata": {},
   "source": [
    "#### How many 1's and 0's are in the test sample\n"
   ]
  },
  {
   "cell_type": "code",
   "execution_count": 14,
   "id": "b3800acf",
   "metadata": {},
   "outputs": [
    {
     "data": {
      "text/html": [
       "<div>\n",
       "<style scoped>\n",
       "    .dataframe tbody tr th:only-of-type {\n",
       "        vertical-align: middle;\n",
       "    }\n",
       "\n",
       "    .dataframe tbody tr th {\n",
       "        vertical-align: top;\n",
       "    }\n",
       "\n",
       "    .dataframe thead th {\n",
       "        text-align: right;\n",
       "    }\n",
       "</style>\n",
       "<table border=\"1\" class=\"dataframe\">\n",
       "  <thead>\n",
       "    <tr style=\"text-align: right;\">\n",
       "      <th></th>\n",
       "      <th>ID</th>\n",
       "    </tr>\n",
       "    <tr>\n",
       "      <th>cardio</th>\n",
       "      <th></th>\n",
       "    </tr>\n",
       "  </thead>\n",
       "  <tbody>\n",
       "    <tr>\n",
       "      <th>0.0</th>\n",
       "      <td>7004</td>\n",
       "    </tr>\n",
       "    <tr>\n",
       "      <th>1.0</th>\n",
       "      <td>6996</td>\n",
       "    </tr>\n",
       "  </tbody>\n",
       "</table>\n",
       "</div>"
      ],
      "text/plain": [
       "          ID\n",
       "cardio      \n",
       "0.0     7004\n",
       "1.0     6996"
      ]
     },
     "execution_count": 14,
     "metadata": {},
     "output_type": "execute_result"
    }
   ],
   "source": [
    "y_testingdf=pd.DataFrame(y_testing, index=y_testing.index)\n",
    "y_testingdf[\"ID\"]=range(14000)\n",
    "y_test=y_testingdf.drop([\"ID\"], axis=1)\n",
    "c2=y_testingdf[['ID','cardio']].groupby('cardio').count()\n",
    "c2"
   ]
  },
  {
   "cell_type": "markdown",
   "id": "4b5a522d",
   "metadata": {},
   "source": [
    "## Confusion Matrix\n"
   ]
  },
  {
   "cell_type": "code",
   "execution_count": 15,
   "id": "4cfd1281",
   "metadata": {},
   "outputs": [
    {
     "data": {
      "text/plain": [
       "array([[3754, 3250],\n",
       "       [1207, 5789]], dtype=int64)"
      ]
     },
     "execution_count": 15,
     "metadata": {},
     "output_type": "execute_result"
    }
   ],
   "source": [
    "from sklearn.metrics import confusion_matrix\n",
    "cm=confusion_matrix(y_test.values, predictionarray)\n",
    "cm"
   ]
  },
  {
   "cell_type": "markdown",
   "id": "1e721fce",
   "metadata": {},
   "source": [
    "### Accuracy of the Model"
   ]
  },
  {
   "cell_type": "code",
   "execution_count": 16,
   "id": "2be35b25",
   "metadata": {},
   "outputs": [
    {
     "name": "stdout",
     "output_type": "stream",
     "text": [
      "The accuracy of the model is: 75.67022777665792 %\n"
     ]
    }
   ],
   "source": [
    "Accuracy=cm[0,0]/(cm[0,0]+cm[1,0])\n",
    "print(\"The accuracy of the model is: \"+ str(Accuracy*100) + \" %\")"
   ]
  },
  {
   "cell_type": "markdown",
   "id": "0e839259",
   "metadata": {},
   "source": [
    "## Predicting a single case"
   ]
  },
  {
   "cell_type": "code",
   "execution_count": 17,
   "id": "254d10db",
   "metadata": {},
   "outputs": [
    {
     "data": {
      "text/html": [
       "<div>\n",
       "<style scoped>\n",
       "    .dataframe tbody tr th:only-of-type {\n",
       "        vertical-align: middle;\n",
       "    }\n",
       "\n",
       "    .dataframe tbody tr th {\n",
       "        vertical-align: top;\n",
       "    }\n",
       "\n",
       "    .dataframe thead th {\n",
       "        text-align: right;\n",
       "    }\n",
       "</style>\n",
       "<table border=\"1\" class=\"dataframe\">\n",
       "  <thead>\n",
       "    <tr style=\"text-align: right;\">\n",
       "      <th></th>\n",
       "      <th>0</th>\n",
       "      <th>1</th>\n",
       "      <th>2</th>\n",
       "      <th>3</th>\n",
       "      <th>4</th>\n",
       "      <th>5</th>\n",
       "      <th>6</th>\n",
       "      <th>7</th>\n",
       "      <th>8</th>\n",
       "      <th>9</th>\n",
       "      <th>10</th>\n",
       "    </tr>\n",
       "  </thead>\n",
       "  <tbody>\n",
       "    <tr>\n",
       "      <th>0</th>\n",
       "      <td>-0.140921</td>\n",
       "      <td>1.0</td>\n",
       "      <td>0.65641</td>\n",
       "      <td>0.368421</td>\n",
       "      <td>0.016698</td>\n",
       "      <td>0.01355</td>\n",
       "      <td>0.0</td>\n",
       "      <td>0.0</td>\n",
       "      <td>0.0</td>\n",
       "      <td>0.0</td>\n",
       "      <td>1.0</td>\n",
       "    </tr>\n",
       "  </tbody>\n",
       "</table>\n",
       "</div>"
      ],
      "text/plain": [
       "         0    1        2         3         4        5    6    7    8    9   \\\n",
       "0 -0.140921  1.0  0.65641  0.368421  0.016698  0.01355  0.0  0.0  0.0  0.0   \n",
       "\n",
       "    10  \n",
       "0  1.0  "
      ]
     },
     "execution_count": 17,
     "metadata": {},
     "output_type": "execute_result"
    }
   ],
   "source": [
    "#INSERT DATA#\n",
    "###############################################################################\n",
    "\n",
    "day= 25 # day of bith \n",
    "month= 9 # month of bith (in numbers)\n",
    "year= 1998 # year of bith\n",
    "gender= 1 # 0 for women, 1 for men\n",
    "height= 183 # in cm\n",
    "weight= 80 # in kilograms\n",
    "systolicbloodpressure= 120 # Systolic blood pressure\n",
    "diastolicbloodpressure= 80 # Diastolic blood pressure\n",
    "cholesterol= 1 # 1: normal, 2: above normal, 3: well above normal\n",
    "gluc= 1 # 1: normal, 2: above normal, 3: well above normal\n",
    "smoke= 0 # 1 if you smoke, 0 if not\n",
    "alco= 0 # 1 if you drink alcohol, 0 if not\n",
    "active= 1 # 1 if you do physical activity, 0 if not\n",
    "\n",
    "##############################################################################\n",
    "from datetime import date\n",
    "f_date = date(year,month,day)\n",
    "l_date = date.today()\n",
    "delta = l_date - f_date\n",
    "agedays=delta.days\n",
    "\n",
    "agedayscale=(agedays-df[\"age\"].min())/(df[\"age\"].max()-df[\"age\"].min())\n",
    "heightscale=(height-df[\"height\"].min())/(df[\"height\"].max()-df[\"height\"].min())\n",
    "weightscale=(weight-df[\"weight\"].min())/(df[\"weight\"].max()-df[\"weight\"].min())\n",
    "sbpscale=(systolicbloodpressure-df[\"ap_hi\"].min())/(df[\"ap_hi\"].max()-df[\"ap_hi\"].min())\n",
    "dbpscale=(diastolicbloodpressure-df[\"ap_lo\"].min())/(df[\"ap_lo\"].max()-df[\"ap_lo\"].min())\n",
    "cholesterolscale=(cholesterol-df[\"cholesterol\"].min())/(df[\"cholesterol\"].max()-df[\"cholesterol\"].min())\n",
    "glucscale=(gluc-df[\"gluc\"].min())/(df[\"gluc\"].max()-df[\"gluc\"].min())\n",
    "\n",
    "single=np.array([agedayscale, gender, heightscale, weightscale, sbpscale, dbpscale, cholesterolscale, glucscale, smoke, alco, active ])\n",
    "singledf=pd.DataFrame(single)\n",
    "final=singledf.transpose()\n",
    "final"
   ]
  },
  {
   "cell_type": "code",
   "execution_count": 18,
   "id": "b3c682de",
   "metadata": {},
   "outputs": [
    {
     "name": "stdout",
     "output_type": "stream",
     "text": [
      "The probability of having or to have a Cardiovascular Disease is: 6.71%\n"
     ]
    }
   ],
   "source": [
    "finalres=model.predict(final) \n",
    "print(\"The probability of having or to have a Cardiovascular Disease is: \"+ str(round(finalres[0,0]*100,2)) + \"%\")"
   ]
  },
  {
   "cell_type": "code",
   "execution_count": 19,
   "id": "fc9a3338",
   "metadata": {},
   "outputs": [
    {
     "name": "stdout",
     "output_type": "stream",
     "text": [
      "The probability of having or to have a Cardiovascular Disease is: 6.71%\n",
      "You are healthy :) \n"
     ]
    }
   ],
   "source": [
    "from keras.models import model_from_json\n",
    "\n",
    "model.save_weights(\"weights.hdf5\")\n",
    "json_string = model.to_json()\n",
    "modeltopredict = model_from_json(json_string)\n",
    "modeltopredict.load_weights(\"weights.hdf5\", by_name=False)\n",
    "\n",
    "prediction=modeltopredict.predict(final)\n",
    "\n",
    "if prediction[0,0]>=0.5:\n",
    "    print(\"The probability of having or to have a Cardiovascular Disease is: \"+ str(round(prediction[0,0]*100,2)) + \"%\")\n",
    "    print(\"You must visit a doctor to check it :(\")\n",
    "elif prediction[0,0]<0.5 and prediction[0,0]>=0.3:\n",
    "    print(\"The probability of having or to have a Cardiovascular Disease is: \"+ str(round(prediction[0,0]*100,2)) + \"%\")\n",
    "    print(\"Probably you are healthy :/ \")\n",
    "else:\n",
    "    print(\"The probability of having or to have a Cardiovascular Disease is: \"+ str(round(prediction[0,0]*100,2)) + \"%\")\n",
    "    print(\"You are healthy :) \")"
   ]
  },
  {
   "cell_type": "markdown",
   "id": "bf2823bd",
   "metadata": {},
   "source": [
    "## Tuning hyperparameters to look up for the best NN"
   ]
  },
  {
   "cell_type": "code",
   "execution_count": 20,
   "id": "a2ee3fe0",
   "metadata": {},
   "outputs": [],
   "source": [
    "from sklearn.model_selection import GridSearchCV\n",
    "from keras.wrappers.scikit_learn import KerasClassifier"
   ]
  },
  {
   "cell_type": "markdown",
   "id": "80288bdc",
   "metadata": {},
   "source": [
    "### Batch Size and Epochs"
   ]
  },
  {
   "cell_type": "code",
   "execution_count": 21,
   "id": "90b01714",
   "metadata": {},
   "outputs": [],
   "source": [
    "def create_model(): \n",
    "    model = Sequential() \n",
    "    model.add(Dense(10, input_dim=11, activation='tanh')) \n",
    "    model.add(Dropout(0.1)) \n",
    "    model.add(Dense(5, activation='relu')) \n",
    "    model.add(Dropout(0.1)) \n",
    "    model.add(Dense(3, activation='relu')) \n",
    "    model.add(Dropout(0.1)) \n",
    "    model.add(Dense(1, activation='sigmoid')) \n",
    "    model.compile(loss = 'binary_crossentropy', optimizer='sgd', metrics=['accuracy']) \n",
    "    return model"
   ]
  },
  {
   "cell_type": "code",
   "execution_count": 22,
   "id": "ec9d9503",
   "metadata": {},
   "outputs": [],
   "source": [
    "# create model \n",
    "\n",
    "model = KerasClassifier(build_fn=create_model, verbose=0)"
   ]
  },
  {
   "cell_type": "code",
   "execution_count": 23,
   "id": "232ae8ba",
   "metadata": {},
   "outputs": [],
   "source": [
    "# params\n",
    "\n",
    "batch_size = [10, 50, 100] \n",
    "epochs = [10, 50, 100] \n",
    "param_grid = dict(batch_size=batch_size, epochs=epochs) \n",
    "grid = GridSearchCV(estimator=model, param_grid=param_grid, n_jobs=-1, cv=5) \n",
    "grid_result = grid.fit(x_training, y_training)"
   ]
  },
  {
   "cell_type": "code",
   "execution_count": 24,
   "id": "6bd7ca01",
   "metadata": {},
   "outputs": [
    {
     "name": "stdout",
     "output_type": "stream",
     "text": [
      "Best: 0.643536 using {'batch_size': 10, 'epochs': 100}\n",
      "0.638107 (0.002593) with: {'batch_size': 10, 'epochs': 10}\n",
      "0.642357 (0.004688) with: {'batch_size': 10, 'epochs': 50}\n",
      "0.643536 (0.005602) with: {'batch_size': 10, 'epochs': 100}\n",
      "0.626286 (0.011376) with: {'batch_size': 50, 'epochs': 10}\n",
      "0.640000 (0.003465) with: {'batch_size': 50, 'epochs': 50}\n",
      "0.641054 (0.004784) with: {'batch_size': 50, 'epochs': 100}\n",
      "0.592696 (0.028729) with: {'batch_size': 100, 'epochs': 10}\n",
      "0.634571 (0.007824) with: {'batch_size': 100, 'epochs': 50}\n",
      "0.640875 (0.004423) with: {'batch_size': 100, 'epochs': 100}\n"
     ]
    }
   ],
   "source": [
    "# summarize results\n",
    "\n",
    "print(\"Best: %f using %s\" % (grid_result.best_score_, grid_result.best_params_)) \n",
    "means = grid_result.cv_results_['mean_test_score'] \n",
    "stds = grid_result.cv_results_['std_test_score'] \n",
    "params = grid_result.cv_results_['params'] \n",
    "for mean, stdev, param in zip(means, stds, params): \n",
    "    print(\"%f (%f) with: %r\" % (mean, stdev, param))"
   ]
  },
  {
   "cell_type": "markdown",
   "id": "c0a9cbc2",
   "metadata": {},
   "source": [
    "## Optimization Algorithm"
   ]
  },
  {
   "cell_type": "code",
   "execution_count": 25,
   "id": "129f604f",
   "metadata": {},
   "outputs": [],
   "source": [
    "# function to create model\n",
    "\n",
    "def create_model(optimizer='adam'): \n",
    "    model = Sequential() \n",
    "    model.add(Dense(10, input_dim=11, activation='tanh')) \n",
    "    model.add(Dropout(0.1)) \n",
    "    model.add(Dense(5, activation='relu')) \n",
    "    model.add(Dropout(0.1)) \n",
    "    model.add(Dense(3, activation='relu')) \n",
    "    model.add(Dropout(0.1)) \n",
    "    model.add(Dense(1, activation='sigmoid')) \n",
    "    model.compile(loss = 'binary_crossentropy', optimizer=optimizer, metrics=['accuracy']) \n",
    "    return model"
   ]
  },
  {
   "cell_type": "code",
   "execution_count": 26,
   "id": "b0cb4c7b",
   "metadata": {},
   "outputs": [],
   "source": [
    "# create model\n",
    "\n",
    "model = KerasClassifier(build_fn=create_model, epochs=50, batch_size=50, verbose=0)"
   ]
  },
  {
   "cell_type": "code",
   "execution_count": 27,
   "id": "aad966dd",
   "metadata": {},
   "outputs": [],
   "source": [
    "# define the parameters to search in grid search\n",
    "\n",
    "optimizer = ['SGD', 'RMSprop', 'Adagrad', 'Adadelta', 'Adam', 'Adamax', 'Nadam'] \n",
    "param_grid = dict(optimizer=optimizer) \n",
    "grid = GridSearchCV(estimator=model, param_grid=param_grid, n_jobs=-1, cv=5) \n",
    "grid_result = grid.fit(x_training, y_training)"
   ]
  },
  {
   "cell_type": "code",
   "execution_count": 28,
   "id": "9aa0d80c",
   "metadata": {},
   "outputs": [
    {
     "name": "stdout",
     "output_type": "stream",
     "text": [
      "Best: 0.712482 using {'optimizer': 'Nadam'}\n",
      "0.639286 (0.007293) with: {'optimizer': 'SGD'}\n",
      "0.690536 (0.007933) with: {'optimizer': 'RMSprop'}\n",
      "0.579446 (0.023011) with: {'optimizer': 'Adagrad'}\n",
      "0.527214 (0.027126) with: {'optimizer': 'Adadelta'}\n",
      "0.699946 (0.011432) with: {'optimizer': 'Adam'}\n",
      "0.646268 (0.003306) with: {'optimizer': 'Adamax'}\n",
      "0.712482 (0.007394) with: {'optimizer': 'Nadam'}\n"
     ]
    }
   ],
   "source": [
    "# summarize results\n",
    "\n",
    "print(\"Best: %f using %s\" % (grid_result.best_score_, grid_result.best_params_)) \n",
    "means = grid_result.cv_results_['mean_test_score'] \n",
    "stds = grid_result.cv_results_['std_test_score'] \n",
    "params = grid_result.cv_results_['params'] \n",
    "for mean, stdev, param in zip(means, stds, params): \n",
    "    print(\"%f (%f) with: %r\" % (mean, stdev, param))"
   ]
  },
  {
   "cell_type": "markdown",
   "id": "641caaa5",
   "metadata": {},
   "source": [
    "## Optimization of SGD algorithm (Learnig Rate and Momentum)"
   ]
  },
  {
   "cell_type": "code",
   "execution_count": 29,
   "id": "bdd43148",
   "metadata": {},
   "outputs": [],
   "source": [
    "# function to create model\n",
    "\n",
    "def create_model(learn_rate=0.01, momentum=0): \n",
    "    model = Sequential() \n",
    "    model.add(Dense(10, input_dim=11, activation='tanh')) \n",
    "    model.add(Dropout(0.1)) \n",
    "    model.add(Dense(5, activation='relu')) \n",
    "    model.add(Dropout(0.1)) \n",
    "    model.add(Dense(3, activation='relu')) \n",
    "    model.add(Dropout(0.1)) \n",
    "    model.add(Dense(1, activation='sigmoid')) \n",
    "    optimizer = SGD(lr=learn_rate, momentum=momentum) \n",
    "    model.compile(loss = 'binary_crossentropy', optimizer=optimizer, metrics=['accuracy']) \n",
    "    return model"
   ]
  },
  {
   "cell_type": "code",
   "execution_count": 30,
   "id": "f16fd98f",
   "metadata": {},
   "outputs": [],
   "source": [
    "# create model\n",
    "\n",
    "model = KerasClassifier(build_fn=create_model, epochs=50, batch_size=50, verbose=0)"
   ]
  },
  {
   "cell_type": "code",
   "execution_count": 32,
   "id": "4028495d",
   "metadata": {},
   "outputs": [],
   "source": [
    "# define the parameters to search in grid search\n",
    "\n",
    "learn_rate = [0.01, 0.1, 0.2] \n",
    "momentum = [0.2, 0.6, 0.9] \n",
    "param_grid = dict(learn_rate=learn_rate, momentum=momentum) \n",
    "grid = GridSearchCV(estimator=model, param_grid=param_grid, n_jobs=-1, cv=5) \n",
    "grid_result = grid.fit(x_training, y_training)"
   ]
  },
  {
   "cell_type": "code",
   "execution_count": 33,
   "id": "2dd73076",
   "metadata": {},
   "outputs": [
    {
     "name": "stdout",
     "output_type": "stream",
     "text": [
      "Best: 0.643875 using {'learn_rate': 0.01, 'momentum': 0.9}\n",
      "0.639000 (0.007386) with: {'learn_rate': 0.01, 'momentum': 0.2}\n",
      "0.640839 (0.003806) with: {'learn_rate': 0.01, 'momentum': 0.6}\n",
      "0.643875 (0.003857) with: {'learn_rate': 0.01, 'momentum': 0.9}\n",
      "0.641393 (0.004560) with: {'learn_rate': 0.1, 'momentum': 0.2}\n",
      "0.641696 (0.005776) with: {'learn_rate': 0.1, 'momentum': 0.6}\n",
      "0.640518 (0.003426) with: {'learn_rate': 0.1, 'momentum': 0.9}\n",
      "0.636411 (0.004908) with: {'learn_rate': 0.2, 'momentum': 0.2}\n",
      "0.641732 (0.005389) with: {'learn_rate': 0.2, 'momentum': 0.6}\n",
      "0.607875 (0.058114) with: {'learn_rate': 0.2, 'momentum': 0.9}\n"
     ]
    }
   ],
   "source": [
    "# summarize results\n",
    "\n",
    "print(\"Best: %f using %s\" % (grid_result.best_score_, grid_result.best_params_))\n",
    "means = grid_result.cv_results_['mean_test_score'] \n",
    "stds = grid_result.cv_results_['std_test_score'] \n",
    "params = grid_result.cv_results_['params'] \n",
    "for mean, stdev, param in zip(means, stds, params): \n",
    "    print(\"%f (%f) with: %r\" % (mean, stdev, param))"
   ]
  },
  {
   "cell_type": "markdown",
   "id": "cbba9f84",
   "metadata": {},
   "source": [
    "## Dropout Rate and Weight Constraint\n"
   ]
  },
  {
   "cell_type": "code",
   "execution_count": 35,
   "id": "5480b408",
   "metadata": {},
   "outputs": [],
   "source": [
    "from keras.layers import Dropout \n",
    "from keras.constraints import maxnorm"
   ]
  },
  {
   "cell_type": "code",
   "execution_count": 36,
   "id": "9c03407a",
   "metadata": {},
   "outputs": [],
   "source": [
    "# function to create model\n",
    "\n",
    "def create_model(dropout_rate=0.0, weight_constraint=0): \n",
    "    model = Sequential() \n",
    "    model.add(Dense(10, input_dim=11, activation='softsign', kernel_constraint=maxnorm(weight_constraint))) \n",
    "    model.add(Dropout(dropout_rate)) \n",
    "    model.add(Dense(5, activation='softsign')) \n",
    "    model.add(Dropout(dropout_rate)) \n",
    "    model.add(Dense(3, activation='softsign')) \n",
    "    model.add(Dropout(dropout_rate)) \n",
    "    model.add(Dense(1, activation='sigmoid')) \n",
    "    model.compile(loss = 'binary_crossentropy', optimizer='Nadam', metrics=['accuracy']) \n",
    "    return model"
   ]
  },
  {
   "cell_type": "code",
   "execution_count": 37,
   "id": "d31997b5",
   "metadata": {},
   "outputs": [],
   "source": [
    "# create model\n",
    "\n",
    "model = KerasClassifier(build_fn=create_model, epochs=50, batch_size=50, verbose=0)"
   ]
  },
  {
   "cell_type": "code",
   "execution_count": null,
   "id": "cd1fa0d4",
   "metadata": {},
   "outputs": [],
   "source": [
    "# define the parameters to search in grid search\n",
    "\n",
    "weight_constraint = [0, 1, 2] \n",
    "dropout_rate = [0.0, 0.1, 0.2] \n",
    "param_grid = dict(dropout_rate=dropout_rate, weight_constraint=weight_constraint) \n",
    "grid = GridSearchCV(estimator=model, param_grid=param_grid, n_jobs=-1, cv=5) \n",
    "grid_result = grid.fit(x_training, y_training)"
   ]
  },
  {
   "cell_type": "code",
   "execution_count": null,
   "id": "fa82c05a",
   "metadata": {},
   "outputs": [],
   "source": [
    "# summarize results\n",
    "\n",
    "print(\"Best: %f using %s\" % (grid_result.best_score_, grid_result.best_params_)) \n",
    "means = grid_result.cv_results_['mean_test_score'] \n",
    "stds = grid_result.cv_results_['std_test_score'] \n",
    "params = grid_result.cv_results_['params'] \n",
    "for mean, stdev, param in zip(means, stds, params): \n",
    "    print(\"%f (%f) with: %r\" % (mean, stdev, param))"
   ]
  },
  {
   "cell_type": "code",
   "execution_count": null,
   "id": "9d2234ef",
   "metadata": {},
   "outputs": [],
   "source": []
  }
 ],
 "metadata": {
  "kernelspec": {
   "display_name": "Python 3",
   "language": "python",
   "name": "python3"
  },
  "language_info": {
   "codemirror_mode": {
    "name": "ipython",
    "version": 3
   },
   "file_extension": ".py",
   "mimetype": "text/x-python",
   "name": "python",
   "nbconvert_exporter": "python",
   "pygments_lexer": "ipython3",
   "version": "3.8.8"
  }
 },
 "nbformat": 4,
 "nbformat_minor": 5
}
